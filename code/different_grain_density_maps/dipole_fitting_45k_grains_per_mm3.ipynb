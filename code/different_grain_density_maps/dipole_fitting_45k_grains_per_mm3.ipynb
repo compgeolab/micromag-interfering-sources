{
 "cells": [
  {
   "cell_type": "code",
   "execution_count": 1,
   "id": "ec341992-1bf8-456a-8906-6ed3bfa66489",
   "metadata": {},
   "outputs": [],
   "source": [
    "import pathlib\n",
    "import numpy as np\n",
    "import scipy as sp\n",
    "import pandas as pd\n",
    "import xarray as xr\n",
    "import matplotlib.pyplot as plt\n",
    "import matplotlib.patches\n",
    "import mplstereonet\n",
    "import skimage.exposure\n",
    "import harmonica as hm\n",
    "import verde as vd\n",
    "\n",
    "import zipfile\n",
    "import os\n",
    "import micromag as mg\n",
    "\n",
    "import time\n",
    "import warnings\n",
    "import rich.progress"
   ]
  },
  {
   "cell_type": "code",
   "execution_count": 2,
   "id": "e3ae97c5-7a2a-4cca-9cc6-38e603ac90ad",
   "metadata": {},
   "outputs": [],
   "source": [
    "# !pip install h5netcdf"
   ]
  },
  {
   "cell_type": "code",
   "execution_count": 3,
   "id": "75cd9b24-78a3-4599-b58d-97cda58e80b5",
   "metadata": {},
   "outputs": [],
   "source": [
    "import scipy as sp\n",
    "import numba\n",
    "import choclo\n",
    "# @numba.jit(nopython=True, parallel=True)\n",
    "def goal_function(parameter, obs_data, coordinates, amplitude, x_0, y_0, z_0):\n",
    "    bz = mg.dipole_bz(coordinates, \n",
    "                      ([parameter[0]*x_0], [parameter[1]*y_0], [parameter[2]*z_0]),\n",
    "                     np.array([parameter[3], parameter[4], parameter[5]])*amplitude\n",
    "                     )\n",
    "                   \n",
    "    \n",
    "    Res = np.linalg.norm(obs_data-bz.ravel())\n",
    "    # print(Res)\n",
    "    return(Res)"
   ]
  },
  {
   "cell_type": "code",
   "execution_count": null,
   "id": "f887408c-4fc2-4533-a4a3-55807299b698",
   "metadata": {},
   "outputs": [],
   "source": [
    "input_folder = \"simulations_45k_grains_per_mm3\"\n",
    "output_folder = \"csv_files_45k_grains_per_mm3\"\n",
    "os.makedirs(output_folder, exist_ok=True)"
   ]
  },
  {
   "cell_type": "code",
   "execution_count": 4,
   "id": "ac78783d-5268-4bf8-8b9e-d517489fd7b0",
   "metadata": {},
   "outputs": [
    {
     "name": "stdout",
     "output_type": "stream",
     "text": [
      "Running file 1: data_simulation_7.nc\n"
     ]
    },
    {
     "name": "stderr",
     "output_type": "stream",
     "text": [
      "/home/gelson/anaconda3/envs/micromag-euler-dipole/lib/python3.10/site-packages/xrft/xrft.py:573: FutureWarning: Default ifft's behaviour (lag=None) changed! Default value of lag was zero (centered output coordinates) and is now set to transformed coordinate's attribute: 'direct_lag'.\n",
      "  warnings.warn(msg, FutureWarning)\n",
      "/home/gelson/anaconda3/envs/micromag-euler-dipole/lib/python3.10/site-packages/xrft/xrft.py:573: FutureWarning: Default ifft's behaviour (lag=None) changed! Default value of lag was zero (centered output coordinates) and is now set to transformed coordinate's attribute: 'direct_lag'.\n",
      "  warnings.warn(msg, FutureWarning)\n",
      "/home/gelson/anaconda3/envs/micromag-euler-dipole/lib/python3.10/site-packages/xrft/xrft.py:573: FutureWarning: Default ifft's behaviour (lag=None) changed! Default value of lag was zero (centered output coordinates) and is now set to transformed coordinate's attribute: 'direct_lag'.\n",
      "  warnings.warn(msg, FutureWarning)\n"
     ]
    },
    {
     "data": {
      "application/vnd.jupyter.widget-view+json": {
       "model_id": "6b7ad4d24ddd4eeca677c13ee8f8915a",
       "version_major": 2,
       "version_minor": 0
      },
      "text/plain": [
       "Output()"
      ]
     },
     "metadata": {},
     "output_type": "display_data"
    },
    {
     "data": {
      "text/html": [
       "<pre style=\"white-space:pre;overflow-x:auto;line-height:normal;font-family:Menlo,'DejaVu Sans Mono',consolas,'Courier New',monospace\"></pre>\n"
      ],
      "text/plain": []
     },
     "metadata": {},
     "output_type": "display_data"
    },
    {
     "data": {
      "text/html": [
       "<pre style=\"white-space:pre;overflow-x:auto;line-height:normal;font-family:Menlo,'DejaVu Sans Mono',consolas,'Courier New',monospace\">\n",
       "</pre>\n"
      ],
      "text/plain": [
       "\n"
      ]
     },
     "metadata": {},
     "output_type": "display_data"
    },
    {
     "data": {
      "application/vnd.jupyter.widget-view+json": {
       "model_id": "3d7e30bd40564d689ec4bc3cb99e3364",
       "version_major": 2,
       "version_minor": 0
      },
      "text/plain": [
       "Output()"
      ]
     },
     "metadata": {},
     "output_type": "display_data"
    },
    {
     "data": {
      "text/html": [
       "<pre style=\"white-space:pre;overflow-x:auto;line-height:normal;font-family:Menlo,'DejaVu Sans Mono',consolas,'Courier New',monospace\"></pre>\n"
      ],
      "text/plain": []
     },
     "metadata": {},
     "output_type": "display_data"
    },
    {
     "data": {
      "text/html": [
       "<pre style=\"white-space:pre;overflow-x:auto;line-height:normal;font-family:Menlo,'DejaVu Sans Mono',consolas,'Courier New',monospace\">\n",
       "</pre>\n"
      ],
      "text/plain": [
       "\n"
      ]
     },
     "metadata": {},
     "output_type": "display_data"
    },
    {
     "data": {
      "application/vnd.jupyter.widget-view+json": {
       "model_id": "56c4a2fe02884218aed29959c82800c9",
       "version_major": 2,
       "version_minor": 0
      },
      "text/plain": [
       "Output()"
      ]
     },
     "metadata": {},
     "output_type": "display_data"
    },
    {
     "data": {
      "text/html": [
       "<pre style=\"white-space:pre;overflow-x:auto;line-height:normal;font-family:Menlo,'DejaVu Sans Mono',consolas,'Courier New',monospace\"></pre>\n"
      ],
      "text/plain": []
     },
     "metadata": {},
     "output_type": "display_data"
    },
    {
     "data": {
      "text/html": [
       "<pre style=\"white-space:pre;overflow-x:auto;line-height:normal;font-family:Menlo,'DejaVu Sans Mono',consolas,'Courier New',monospace\">\n",
       "</pre>\n"
      ],
      "text/plain": [
       "\n"
      ]
     },
     "metadata": {},
     "output_type": "display_data"
    },
    {
     "data": {
      "application/vnd.jupyter.widget-view+json": {
       "model_id": "f4b2bda3a8544529bb7b3dcbee0e594f",
       "version_major": 2,
       "version_minor": 0
      },
      "text/plain": [
       "Output()"
      ]
     },
     "metadata": {},
     "output_type": "display_data"
    },
    {
     "data": {
      "text/html": [
       "<pre style=\"white-space:pre;overflow-x:auto;line-height:normal;font-family:Menlo,'DejaVu Sans Mono',consolas,'Courier New',monospace\"></pre>\n"
      ],
      "text/plain": []
     },
     "metadata": {},
     "output_type": "display_data"
    },
    {
     "data": {
      "text/html": [
       "<pre style=\"white-space:pre;overflow-x:auto;line-height:normal;font-family:Menlo,'DejaVu Sans Mono',consolas,'Courier New',monospace\">\n",
       "</pre>\n"
      ],
      "text/plain": [
       "\n"
      ]
     },
     "metadata": {},
     "output_type": "display_data"
    },
    {
     "name": "stdout",
     "output_type": "stream",
     "text": [
      "Running file 2: data_simulation_3.nc\n"
     ]
    },
    {
     "data": {
      "application/vnd.jupyter.widget-view+json": {
       "model_id": "e1a2357e79bb4ae4bca83a6e14f6d803",
       "version_major": 2,
       "version_minor": 0
      },
      "text/plain": [
       "Output()"
      ]
     },
     "metadata": {},
     "output_type": "display_data"
    },
    {
     "data": {
      "text/html": [
       "<pre style=\"white-space:pre;overflow-x:auto;line-height:normal;font-family:Menlo,'DejaVu Sans Mono',consolas,'Courier New',monospace\"></pre>\n"
      ],
      "text/plain": []
     },
     "metadata": {},
     "output_type": "display_data"
    },
    {
     "data": {
      "text/html": [
       "<pre style=\"white-space:pre;overflow-x:auto;line-height:normal;font-family:Menlo,'DejaVu Sans Mono',consolas,'Courier New',monospace\">\n",
       "</pre>\n"
      ],
      "text/plain": [
       "\n"
      ]
     },
     "metadata": {},
     "output_type": "display_data"
    },
    {
     "data": {
      "application/vnd.jupyter.widget-view+json": {
       "model_id": "ed461fdf806f4414ad783224436c7323",
       "version_major": 2,
       "version_minor": 0
      },
      "text/plain": [
       "Output()"
      ]
     },
     "metadata": {},
     "output_type": "display_data"
    },
    {
     "data": {
      "text/html": [
       "<pre style=\"white-space:pre;overflow-x:auto;line-height:normal;font-family:Menlo,'DejaVu Sans Mono',consolas,'Courier New',monospace\"></pre>\n"
      ],
      "text/plain": []
     },
     "metadata": {},
     "output_type": "display_data"
    },
    {
     "data": {
      "text/html": [
       "<pre style=\"white-space:pre;overflow-x:auto;line-height:normal;font-family:Menlo,'DejaVu Sans Mono',consolas,'Courier New',monospace\">\n",
       "</pre>\n"
      ],
      "text/plain": [
       "\n"
      ]
     },
     "metadata": {},
     "output_type": "display_data"
    },
    {
     "data": {
      "application/vnd.jupyter.widget-view+json": {
       "model_id": "c54362f140f746b9bac4cae13465fe04",
       "version_major": 2,
       "version_minor": 0
      },
      "text/plain": [
       "Output()"
      ]
     },
     "metadata": {},
     "output_type": "display_data"
    },
    {
     "data": {
      "text/html": [
       "<pre style=\"white-space:pre;overflow-x:auto;line-height:normal;font-family:Menlo,'DejaVu Sans Mono',consolas,'Courier New',monospace\"></pre>\n"
      ],
      "text/plain": []
     },
     "metadata": {},
     "output_type": "display_data"
    },
    {
     "data": {
      "text/html": [
       "<pre style=\"white-space:pre;overflow-x:auto;line-height:normal;font-family:Menlo,'DejaVu Sans Mono',consolas,'Courier New',monospace\">\n",
       "</pre>\n"
      ],
      "text/plain": [
       "\n"
      ]
     },
     "metadata": {},
     "output_type": "display_data"
    },
    {
     "data": {
      "application/vnd.jupyter.widget-view+json": {
       "model_id": "ea062573bc7d431cba15d5f0ddb0100d",
       "version_major": 2,
       "version_minor": 0
      },
      "text/plain": [
       "Output()"
      ]
     },
     "metadata": {},
     "output_type": "display_data"
    },
    {
     "data": {
      "text/html": [
       "<pre style=\"white-space:pre;overflow-x:auto;line-height:normal;font-family:Menlo,'DejaVu Sans Mono',consolas,'Courier New',monospace\"></pre>\n"
      ],
      "text/plain": []
     },
     "metadata": {},
     "output_type": "display_data"
    },
    {
     "data": {
      "text/html": [
       "<pre style=\"white-space:pre;overflow-x:auto;line-height:normal;font-family:Menlo,'DejaVu Sans Mono',consolas,'Courier New',monospace\">\n",
       "</pre>\n"
      ],
      "text/plain": [
       "\n"
      ]
     },
     "metadata": {},
     "output_type": "display_data"
    },
    {
     "name": "stdout",
     "output_type": "stream",
     "text": [
      "Running file 3: data_simulation_1.nc\n"
     ]
    },
    {
     "data": {
      "application/vnd.jupyter.widget-view+json": {
       "model_id": "cff543fe7e7844fcab83ff0ed9060449",
       "version_major": 2,
       "version_minor": 0
      },
      "text/plain": [
       "Output()"
      ]
     },
     "metadata": {},
     "output_type": "display_data"
    },
    {
     "data": {
      "text/html": [
       "<pre style=\"white-space:pre;overflow-x:auto;line-height:normal;font-family:Menlo,'DejaVu Sans Mono',consolas,'Courier New',monospace\"></pre>\n"
      ],
      "text/plain": []
     },
     "metadata": {},
     "output_type": "display_data"
    },
    {
     "data": {
      "text/html": [
       "<pre style=\"white-space:pre;overflow-x:auto;line-height:normal;font-family:Menlo,'DejaVu Sans Mono',consolas,'Courier New',monospace\">\n",
       "</pre>\n"
      ],
      "text/plain": [
       "\n"
      ]
     },
     "metadata": {},
     "output_type": "display_data"
    },
    {
     "data": {
      "application/vnd.jupyter.widget-view+json": {
       "model_id": "fcaac998a50e4735b0e2853c0352e6d9",
       "version_major": 2,
       "version_minor": 0
      },
      "text/plain": [
       "Output()"
      ]
     },
     "metadata": {},
     "output_type": "display_data"
    },
    {
     "data": {
      "text/html": [
       "<pre style=\"white-space:pre;overflow-x:auto;line-height:normal;font-family:Menlo,'DejaVu Sans Mono',consolas,'Courier New',monospace\"></pre>\n"
      ],
      "text/plain": []
     },
     "metadata": {},
     "output_type": "display_data"
    },
    {
     "data": {
      "text/html": [
       "<pre style=\"white-space:pre;overflow-x:auto;line-height:normal;font-family:Menlo,'DejaVu Sans Mono',consolas,'Courier New',monospace\">\n",
       "</pre>\n"
      ],
      "text/plain": [
       "\n"
      ]
     },
     "metadata": {},
     "output_type": "display_data"
    },
    {
     "data": {
      "application/vnd.jupyter.widget-view+json": {
       "model_id": "92161980dfbe479a89884b93650efcd0",
       "version_major": 2,
       "version_minor": 0
      },
      "text/plain": [
       "Output()"
      ]
     },
     "metadata": {},
     "output_type": "display_data"
    },
    {
     "data": {
      "text/html": [
       "<pre style=\"white-space:pre;overflow-x:auto;line-height:normal;font-family:Menlo,'DejaVu Sans Mono',consolas,'Courier New',monospace\"></pre>\n"
      ],
      "text/plain": []
     },
     "metadata": {},
     "output_type": "display_data"
    },
    {
     "data": {
      "text/html": [
       "<pre style=\"white-space:pre;overflow-x:auto;line-height:normal;font-family:Menlo,'DejaVu Sans Mono',consolas,'Courier New',monospace\">\n",
       "</pre>\n"
      ],
      "text/plain": [
       "\n"
      ]
     },
     "metadata": {},
     "output_type": "display_data"
    },
    {
     "data": {
      "application/vnd.jupyter.widget-view+json": {
       "model_id": "7a2e6831eb9b47d3acda8e48532a7a69",
       "version_major": 2,
       "version_minor": 0
      },
      "text/plain": [
       "Output()"
      ]
     },
     "metadata": {},
     "output_type": "display_data"
    },
    {
     "data": {
      "text/html": [
       "<pre style=\"white-space:pre;overflow-x:auto;line-height:normal;font-family:Menlo,'DejaVu Sans Mono',consolas,'Courier New',monospace\"></pre>\n"
      ],
      "text/plain": []
     },
     "metadata": {},
     "output_type": "display_data"
    },
    {
     "data": {
      "text/html": [
       "<pre style=\"white-space:pre;overflow-x:auto;line-height:normal;font-family:Menlo,'DejaVu Sans Mono',consolas,'Courier New',monospace\">\n",
       "</pre>\n"
      ],
      "text/plain": [
       "\n"
      ]
     },
     "metadata": {},
     "output_type": "display_data"
    },
    {
     "name": "stdout",
     "output_type": "stream",
     "text": [
      "Running file 4: data_simulation_9.nc\n"
     ]
    },
    {
     "data": {
      "application/vnd.jupyter.widget-view+json": {
       "model_id": "5b6751f24b474a668d259a8c4d3c2bcf",
       "version_major": 2,
       "version_minor": 0
      },
      "text/plain": [
       "Output()"
      ]
     },
     "metadata": {},
     "output_type": "display_data"
    },
    {
     "data": {
      "text/html": [
       "<pre style=\"white-space:pre;overflow-x:auto;line-height:normal;font-family:Menlo,'DejaVu Sans Mono',consolas,'Courier New',monospace\"></pre>\n"
      ],
      "text/plain": []
     },
     "metadata": {},
     "output_type": "display_data"
    },
    {
     "data": {
      "text/html": [
       "<pre style=\"white-space:pre;overflow-x:auto;line-height:normal;font-family:Menlo,'DejaVu Sans Mono',consolas,'Courier New',monospace\">\n",
       "</pre>\n"
      ],
      "text/plain": [
       "\n"
      ]
     },
     "metadata": {},
     "output_type": "display_data"
    },
    {
     "data": {
      "application/vnd.jupyter.widget-view+json": {
       "model_id": "9cbb48f4436a416fbfb42986a106f396",
       "version_major": 2,
       "version_minor": 0
      },
      "text/plain": [
       "Output()"
      ]
     },
     "metadata": {},
     "output_type": "display_data"
    },
    {
     "data": {
      "text/html": [
       "<pre style=\"white-space:pre;overflow-x:auto;line-height:normal;font-family:Menlo,'DejaVu Sans Mono',consolas,'Courier New',monospace\"></pre>\n"
      ],
      "text/plain": []
     },
     "metadata": {},
     "output_type": "display_data"
    },
    {
     "data": {
      "text/html": [
       "<pre style=\"white-space:pre;overflow-x:auto;line-height:normal;font-family:Menlo,'DejaVu Sans Mono',consolas,'Courier New',monospace\">\n",
       "</pre>\n"
      ],
      "text/plain": [
       "\n"
      ]
     },
     "metadata": {},
     "output_type": "display_data"
    },
    {
     "data": {
      "application/vnd.jupyter.widget-view+json": {
       "model_id": "c4505aa52ef1485484fdcdc2bc2c1611",
       "version_major": 2,
       "version_minor": 0
      },
      "text/plain": [
       "Output()"
      ]
     },
     "metadata": {},
     "output_type": "display_data"
    },
    {
     "data": {
      "text/html": [
       "<pre style=\"white-space:pre;overflow-x:auto;line-height:normal;font-family:Menlo,'DejaVu Sans Mono',consolas,'Courier New',monospace\"></pre>\n"
      ],
      "text/plain": []
     },
     "metadata": {},
     "output_type": "display_data"
    },
    {
     "data": {
      "text/html": [
       "<pre style=\"white-space:pre;overflow-x:auto;line-height:normal;font-family:Menlo,'DejaVu Sans Mono',consolas,'Courier New',monospace\">\n",
       "</pre>\n"
      ],
      "text/plain": [
       "\n"
      ]
     },
     "metadata": {},
     "output_type": "display_data"
    },
    {
     "data": {
      "application/vnd.jupyter.widget-view+json": {
       "model_id": "ffed0483b96949078153bf1a4416af21",
       "version_major": 2,
       "version_minor": 0
      },
      "text/plain": [
       "Output()"
      ]
     },
     "metadata": {},
     "output_type": "display_data"
    },
    {
     "data": {
      "text/html": [
       "<pre style=\"white-space:pre;overflow-x:auto;line-height:normal;font-family:Menlo,'DejaVu Sans Mono',consolas,'Courier New',monospace\"></pre>\n"
      ],
      "text/plain": []
     },
     "metadata": {},
     "output_type": "display_data"
    },
    {
     "data": {
      "text/html": [
       "<pre style=\"white-space:pre;overflow-x:auto;line-height:normal;font-family:Menlo,'DejaVu Sans Mono',consolas,'Courier New',monospace\">\n",
       "</pre>\n"
      ],
      "text/plain": [
       "\n"
      ]
     },
     "metadata": {},
     "output_type": "display_data"
    },
    {
     "name": "stdout",
     "output_type": "stream",
     "text": [
      "Running file 5: data_simulation_0.nc\n"
     ]
    },
    {
     "data": {
      "application/vnd.jupyter.widget-view+json": {
       "model_id": "5ae985d31ed6404db54f8f20e82fd6e6",
       "version_major": 2,
       "version_minor": 0
      },
      "text/plain": [
       "Output()"
      ]
     },
     "metadata": {},
     "output_type": "display_data"
    },
    {
     "data": {
      "text/html": [
       "<pre style=\"white-space:pre;overflow-x:auto;line-height:normal;font-family:Menlo,'DejaVu Sans Mono',consolas,'Courier New',monospace\"></pre>\n"
      ],
      "text/plain": []
     },
     "metadata": {},
     "output_type": "display_data"
    },
    {
     "data": {
      "text/html": [
       "<pre style=\"white-space:pre;overflow-x:auto;line-height:normal;font-family:Menlo,'DejaVu Sans Mono',consolas,'Courier New',monospace\">\n",
       "</pre>\n"
      ],
      "text/plain": [
       "\n"
      ]
     },
     "metadata": {},
     "output_type": "display_data"
    },
    {
     "data": {
      "application/vnd.jupyter.widget-view+json": {
       "model_id": "e72d08115e4f4331826c62e56ee55fff",
       "version_major": 2,
       "version_minor": 0
      },
      "text/plain": [
       "Output()"
      ]
     },
     "metadata": {},
     "output_type": "display_data"
    },
    {
     "data": {
      "text/html": [
       "<pre style=\"white-space:pre;overflow-x:auto;line-height:normal;font-family:Menlo,'DejaVu Sans Mono',consolas,'Courier New',monospace\"></pre>\n"
      ],
      "text/plain": []
     },
     "metadata": {},
     "output_type": "display_data"
    },
    {
     "data": {
      "text/html": [
       "<pre style=\"white-space:pre;overflow-x:auto;line-height:normal;font-family:Menlo,'DejaVu Sans Mono',consolas,'Courier New',monospace\">\n",
       "</pre>\n"
      ],
      "text/plain": [
       "\n"
      ]
     },
     "metadata": {},
     "output_type": "display_data"
    },
    {
     "data": {
      "application/vnd.jupyter.widget-view+json": {
       "model_id": "eaceabd669294ff09fef9f9661191e22",
       "version_major": 2,
       "version_minor": 0
      },
      "text/plain": [
       "Output()"
      ]
     },
     "metadata": {},
     "output_type": "display_data"
    },
    {
     "data": {
      "text/html": [
       "<pre style=\"white-space:pre;overflow-x:auto;line-height:normal;font-family:Menlo,'DejaVu Sans Mono',consolas,'Courier New',monospace\"></pre>\n"
      ],
      "text/plain": []
     },
     "metadata": {},
     "output_type": "display_data"
    },
    {
     "data": {
      "text/html": [
       "<pre style=\"white-space:pre;overflow-x:auto;line-height:normal;font-family:Menlo,'DejaVu Sans Mono',consolas,'Courier New',monospace\">\n",
       "</pre>\n"
      ],
      "text/plain": [
       "\n"
      ]
     },
     "metadata": {},
     "output_type": "display_data"
    },
    {
     "data": {
      "application/vnd.jupyter.widget-view+json": {
       "model_id": "e33e10456ef14eb4a1eb61d9a097a094",
       "version_major": 2,
       "version_minor": 0
      },
      "text/plain": [
       "Output()"
      ]
     },
     "metadata": {},
     "output_type": "display_data"
    },
    {
     "data": {
      "text/html": [
       "<pre style=\"white-space:pre;overflow-x:auto;line-height:normal;font-family:Menlo,'DejaVu Sans Mono',consolas,'Courier New',monospace\"></pre>\n"
      ],
      "text/plain": []
     },
     "metadata": {},
     "output_type": "display_data"
    },
    {
     "data": {
      "text/html": [
       "<pre style=\"white-space:pre;overflow-x:auto;line-height:normal;font-family:Menlo,'DejaVu Sans Mono',consolas,'Courier New',monospace\">\n",
       "</pre>\n"
      ],
      "text/plain": [
       "\n"
      ]
     },
     "metadata": {},
     "output_type": "display_data"
    },
    {
     "name": "stdout",
     "output_type": "stream",
     "text": [
      "Running file 6: data_simulation_4.nc\n"
     ]
    },
    {
     "data": {
      "application/vnd.jupyter.widget-view+json": {
       "model_id": "74a5201f0af84cc58989414071da0fea",
       "version_major": 2,
       "version_minor": 0
      },
      "text/plain": [
       "Output()"
      ]
     },
     "metadata": {},
     "output_type": "display_data"
    },
    {
     "data": {
      "text/html": [
       "<pre style=\"white-space:pre;overflow-x:auto;line-height:normal;font-family:Menlo,'DejaVu Sans Mono',consolas,'Courier New',monospace\"></pre>\n"
      ],
      "text/plain": []
     },
     "metadata": {},
     "output_type": "display_data"
    },
    {
     "data": {
      "text/html": [
       "<pre style=\"white-space:pre;overflow-x:auto;line-height:normal;font-family:Menlo,'DejaVu Sans Mono',consolas,'Courier New',monospace\">\n",
       "</pre>\n"
      ],
      "text/plain": [
       "\n"
      ]
     },
     "metadata": {},
     "output_type": "display_data"
    },
    {
     "data": {
      "application/vnd.jupyter.widget-view+json": {
       "model_id": "56f03c9766394f6eadb8d4ad4d4f3160",
       "version_major": 2,
       "version_minor": 0
      },
      "text/plain": [
       "Output()"
      ]
     },
     "metadata": {},
     "output_type": "display_data"
    },
    {
     "data": {
      "text/html": [
       "<pre style=\"white-space:pre;overflow-x:auto;line-height:normal;font-family:Menlo,'DejaVu Sans Mono',consolas,'Courier New',monospace\"></pre>\n"
      ],
      "text/plain": []
     },
     "metadata": {},
     "output_type": "display_data"
    },
    {
     "data": {
      "text/html": [
       "<pre style=\"white-space:pre;overflow-x:auto;line-height:normal;font-family:Menlo,'DejaVu Sans Mono',consolas,'Courier New',monospace\">\n",
       "</pre>\n"
      ],
      "text/plain": [
       "\n"
      ]
     },
     "metadata": {},
     "output_type": "display_data"
    },
    {
     "data": {
      "application/vnd.jupyter.widget-view+json": {
       "model_id": "ffca93e2c1fa4f19b9ef7bea89d3fcaf",
       "version_major": 2,
       "version_minor": 0
      },
      "text/plain": [
       "Output()"
      ]
     },
     "metadata": {},
     "output_type": "display_data"
    },
    {
     "data": {
      "text/html": [
       "<pre style=\"white-space:pre;overflow-x:auto;line-height:normal;font-family:Menlo,'DejaVu Sans Mono',consolas,'Courier New',monospace\"></pre>\n"
      ],
      "text/plain": []
     },
     "metadata": {},
     "output_type": "display_data"
    },
    {
     "data": {
      "text/html": [
       "<pre style=\"white-space:pre;overflow-x:auto;line-height:normal;font-family:Menlo,'DejaVu Sans Mono',consolas,'Courier New',monospace\">\n",
       "</pre>\n"
      ],
      "text/plain": [
       "\n"
      ]
     },
     "metadata": {},
     "output_type": "display_data"
    },
    {
     "data": {
      "application/vnd.jupyter.widget-view+json": {
       "model_id": "660f15e2b3c14c028255fed3b1a13282",
       "version_major": 2,
       "version_minor": 0
      },
      "text/plain": [
       "Output()"
      ]
     },
     "metadata": {},
     "output_type": "display_data"
    },
    {
     "data": {
      "text/html": [
       "<pre style=\"white-space:pre;overflow-x:auto;line-height:normal;font-family:Menlo,'DejaVu Sans Mono',consolas,'Courier New',monospace\"></pre>\n"
      ],
      "text/plain": []
     },
     "metadata": {},
     "output_type": "display_data"
    },
    {
     "data": {
      "text/html": [
       "<pre style=\"white-space:pre;overflow-x:auto;line-height:normal;font-family:Menlo,'DejaVu Sans Mono',consolas,'Courier New',monospace\">\n",
       "</pre>\n"
      ],
      "text/plain": [
       "\n"
      ]
     },
     "metadata": {},
     "output_type": "display_data"
    },
    {
     "name": "stdout",
     "output_type": "stream",
     "text": [
      "Running file 7: data_simulation_8.nc\n"
     ]
    },
    {
     "data": {
      "application/vnd.jupyter.widget-view+json": {
       "model_id": "7d8ac0e1753347788c4df23560f8a49e",
       "version_major": 2,
       "version_minor": 0
      },
      "text/plain": [
       "Output()"
      ]
     },
     "metadata": {},
     "output_type": "display_data"
    },
    {
     "data": {
      "text/html": [
       "<pre style=\"white-space:pre;overflow-x:auto;line-height:normal;font-family:Menlo,'DejaVu Sans Mono',consolas,'Courier New',monospace\"></pre>\n"
      ],
      "text/plain": []
     },
     "metadata": {},
     "output_type": "display_data"
    },
    {
     "data": {
      "text/html": [
       "<pre style=\"white-space:pre;overflow-x:auto;line-height:normal;font-family:Menlo,'DejaVu Sans Mono',consolas,'Courier New',monospace\">\n",
       "</pre>\n"
      ],
      "text/plain": [
       "\n"
      ]
     },
     "metadata": {},
     "output_type": "display_data"
    },
    {
     "data": {
      "application/vnd.jupyter.widget-view+json": {
       "model_id": "54aedf2685e647d9838aac1fcced9677",
       "version_major": 2,
       "version_minor": 0
      },
      "text/plain": [
       "Output()"
      ]
     },
     "metadata": {},
     "output_type": "display_data"
    },
    {
     "data": {
      "text/html": [
       "<pre style=\"white-space:pre;overflow-x:auto;line-height:normal;font-family:Menlo,'DejaVu Sans Mono',consolas,'Courier New',monospace\"></pre>\n"
      ],
      "text/plain": []
     },
     "metadata": {},
     "output_type": "display_data"
    },
    {
     "data": {
      "text/html": [
       "<pre style=\"white-space:pre;overflow-x:auto;line-height:normal;font-family:Menlo,'DejaVu Sans Mono',consolas,'Courier New',monospace\">\n",
       "</pre>\n"
      ],
      "text/plain": [
       "\n"
      ]
     },
     "metadata": {},
     "output_type": "display_data"
    },
    {
     "data": {
      "application/vnd.jupyter.widget-view+json": {
       "model_id": "73fef61e5bfe4723aeba275990b3ac00",
       "version_major": 2,
       "version_minor": 0
      },
      "text/plain": [
       "Output()"
      ]
     },
     "metadata": {},
     "output_type": "display_data"
    },
    {
     "data": {
      "text/html": [
       "<pre style=\"white-space:pre;overflow-x:auto;line-height:normal;font-family:Menlo,'DejaVu Sans Mono',consolas,'Courier New',monospace\"></pre>\n"
      ],
      "text/plain": []
     },
     "metadata": {},
     "output_type": "display_data"
    },
    {
     "data": {
      "text/html": [
       "<pre style=\"white-space:pre;overflow-x:auto;line-height:normal;font-family:Menlo,'DejaVu Sans Mono',consolas,'Courier New',monospace\">\n",
       "</pre>\n"
      ],
      "text/plain": [
       "\n"
      ]
     },
     "metadata": {},
     "output_type": "display_data"
    },
    {
     "data": {
      "application/vnd.jupyter.widget-view+json": {
       "model_id": "5ab83c11ef6249ff964215b8f93f2b35",
       "version_major": 2,
       "version_minor": 0
      },
      "text/plain": [
       "Output()"
      ]
     },
     "metadata": {},
     "output_type": "display_data"
    },
    {
     "data": {
      "text/html": [
       "<pre style=\"white-space:pre;overflow-x:auto;line-height:normal;font-family:Menlo,'DejaVu Sans Mono',consolas,'Courier New',monospace\"></pre>\n"
      ],
      "text/plain": []
     },
     "metadata": {},
     "output_type": "display_data"
    },
    {
     "data": {
      "text/html": [
       "<pre style=\"white-space:pre;overflow-x:auto;line-height:normal;font-family:Menlo,'DejaVu Sans Mono',consolas,'Courier New',monospace\">\n",
       "</pre>\n"
      ],
      "text/plain": [
       "\n"
      ]
     },
     "metadata": {},
     "output_type": "display_data"
    },
    {
     "name": "stdout",
     "output_type": "stream",
     "text": [
      "Running file 8: data_simulation_6.nc\n"
     ]
    },
    {
     "data": {
      "application/vnd.jupyter.widget-view+json": {
       "model_id": "1ddbce1398624bc2a1f16157f2a40719",
       "version_major": 2,
       "version_minor": 0
      },
      "text/plain": [
       "Output()"
      ]
     },
     "metadata": {},
     "output_type": "display_data"
    },
    {
     "data": {
      "text/html": [
       "<pre style=\"white-space:pre;overflow-x:auto;line-height:normal;font-family:Menlo,'DejaVu Sans Mono',consolas,'Courier New',monospace\"></pre>\n"
      ],
      "text/plain": []
     },
     "metadata": {},
     "output_type": "display_data"
    },
    {
     "data": {
      "text/html": [
       "<pre style=\"white-space:pre;overflow-x:auto;line-height:normal;font-family:Menlo,'DejaVu Sans Mono',consolas,'Courier New',monospace\">\n",
       "</pre>\n"
      ],
      "text/plain": [
       "\n"
      ]
     },
     "metadata": {},
     "output_type": "display_data"
    },
    {
     "data": {
      "application/vnd.jupyter.widget-view+json": {
       "model_id": "e98589ebe6194be0b2a12b1b6e983a88",
       "version_major": 2,
       "version_minor": 0
      },
      "text/plain": [
       "Output()"
      ]
     },
     "metadata": {},
     "output_type": "display_data"
    },
    {
     "data": {
      "text/html": [
       "<pre style=\"white-space:pre;overflow-x:auto;line-height:normal;font-family:Menlo,'DejaVu Sans Mono',consolas,'Courier New',monospace\"></pre>\n"
      ],
      "text/plain": []
     },
     "metadata": {},
     "output_type": "display_data"
    },
    {
     "data": {
      "text/html": [
       "<pre style=\"white-space:pre;overflow-x:auto;line-height:normal;font-family:Menlo,'DejaVu Sans Mono',consolas,'Courier New',monospace\">\n",
       "</pre>\n"
      ],
      "text/plain": [
       "\n"
      ]
     },
     "metadata": {},
     "output_type": "display_data"
    },
    {
     "data": {
      "application/vnd.jupyter.widget-view+json": {
       "model_id": "31275821859e4a08b6adad129f4ba203",
       "version_major": 2,
       "version_minor": 0
      },
      "text/plain": [
       "Output()"
      ]
     },
     "metadata": {},
     "output_type": "display_data"
    },
    {
     "data": {
      "text/html": [
       "<pre style=\"white-space:pre;overflow-x:auto;line-height:normal;font-family:Menlo,'DejaVu Sans Mono',consolas,'Courier New',monospace\"></pre>\n"
      ],
      "text/plain": []
     },
     "metadata": {},
     "output_type": "display_data"
    },
    {
     "data": {
      "text/html": [
       "<pre style=\"white-space:pre;overflow-x:auto;line-height:normal;font-family:Menlo,'DejaVu Sans Mono',consolas,'Courier New',monospace\">\n",
       "</pre>\n"
      ],
      "text/plain": [
       "\n"
      ]
     },
     "metadata": {},
     "output_type": "display_data"
    },
    {
     "data": {
      "application/vnd.jupyter.widget-view+json": {
       "model_id": "34c2afe484c348619465e1c1d28c1eac",
       "version_major": 2,
       "version_minor": 0
      },
      "text/plain": [
       "Output()"
      ]
     },
     "metadata": {},
     "output_type": "display_data"
    },
    {
     "data": {
      "text/html": [
       "<pre style=\"white-space:pre;overflow-x:auto;line-height:normal;font-family:Menlo,'DejaVu Sans Mono',consolas,'Courier New',monospace\"></pre>\n"
      ],
      "text/plain": []
     },
     "metadata": {},
     "output_type": "display_data"
    },
    {
     "data": {
      "text/html": [
       "<pre style=\"white-space:pre;overflow-x:auto;line-height:normal;font-family:Menlo,'DejaVu Sans Mono',consolas,'Courier New',monospace\">\n",
       "</pre>\n"
      ],
      "text/plain": [
       "\n"
      ]
     },
     "metadata": {},
     "output_type": "display_data"
    },
    {
     "name": "stdout",
     "output_type": "stream",
     "text": [
      "Running file 9: data_simulation_2.nc\n"
     ]
    },
    {
     "data": {
      "application/vnd.jupyter.widget-view+json": {
       "model_id": "6bfc4d88868745148862788f69632296",
       "version_major": 2,
       "version_minor": 0
      },
      "text/plain": [
       "Output()"
      ]
     },
     "metadata": {},
     "output_type": "display_data"
    },
    {
     "data": {
      "text/html": [
       "<pre style=\"white-space:pre;overflow-x:auto;line-height:normal;font-family:Menlo,'DejaVu Sans Mono',consolas,'Courier New',monospace\"></pre>\n"
      ],
      "text/plain": []
     },
     "metadata": {},
     "output_type": "display_data"
    },
    {
     "data": {
      "text/html": [
       "<pre style=\"white-space:pre;overflow-x:auto;line-height:normal;font-family:Menlo,'DejaVu Sans Mono',consolas,'Courier New',monospace\">\n",
       "</pre>\n"
      ],
      "text/plain": [
       "\n"
      ]
     },
     "metadata": {},
     "output_type": "display_data"
    },
    {
     "data": {
      "application/vnd.jupyter.widget-view+json": {
       "model_id": "4585db53f22e4271bc929c9a9b8bb407",
       "version_major": 2,
       "version_minor": 0
      },
      "text/plain": [
       "Output()"
      ]
     },
     "metadata": {},
     "output_type": "display_data"
    },
    {
     "data": {
      "text/html": [
       "<pre style=\"white-space:pre;overflow-x:auto;line-height:normal;font-family:Menlo,'DejaVu Sans Mono',consolas,'Courier New',monospace\"></pre>\n"
      ],
      "text/plain": []
     },
     "metadata": {},
     "output_type": "display_data"
    },
    {
     "data": {
      "text/html": [
       "<pre style=\"white-space:pre;overflow-x:auto;line-height:normal;font-family:Menlo,'DejaVu Sans Mono',consolas,'Courier New',monospace\">\n",
       "</pre>\n"
      ],
      "text/plain": [
       "\n"
      ]
     },
     "metadata": {},
     "output_type": "display_data"
    },
    {
     "data": {
      "application/vnd.jupyter.widget-view+json": {
       "model_id": "1a49e8d1b1a349d4889d475888fdda13",
       "version_major": 2,
       "version_minor": 0
      },
      "text/plain": [
       "Output()"
      ]
     },
     "metadata": {},
     "output_type": "display_data"
    },
    {
     "data": {
      "text/html": [
       "<pre style=\"white-space:pre;overflow-x:auto;line-height:normal;font-family:Menlo,'DejaVu Sans Mono',consolas,'Courier New',monospace\"></pre>\n"
      ],
      "text/plain": []
     },
     "metadata": {},
     "output_type": "display_data"
    },
    {
     "data": {
      "text/html": [
       "<pre style=\"white-space:pre;overflow-x:auto;line-height:normal;font-family:Menlo,'DejaVu Sans Mono',consolas,'Courier New',monospace\">\n",
       "</pre>\n"
      ],
      "text/plain": [
       "\n"
      ]
     },
     "metadata": {},
     "output_type": "display_data"
    },
    {
     "data": {
      "application/vnd.jupyter.widget-view+json": {
       "model_id": "e22259895dee43e7910f03ac2488b6af",
       "version_major": 2,
       "version_minor": 0
      },
      "text/plain": [
       "Output()"
      ]
     },
     "metadata": {},
     "output_type": "display_data"
    },
    {
     "data": {
      "text/html": [
       "<pre style=\"white-space:pre;overflow-x:auto;line-height:normal;font-family:Menlo,'DejaVu Sans Mono',consolas,'Courier New',monospace\"></pre>\n"
      ],
      "text/plain": []
     },
     "metadata": {},
     "output_type": "display_data"
    },
    {
     "data": {
      "text/html": [
       "<pre style=\"white-space:pre;overflow-x:auto;line-height:normal;font-family:Menlo,'DejaVu Sans Mono',consolas,'Courier New',monospace\">\n",
       "</pre>\n"
      ],
      "text/plain": [
       "\n"
      ]
     },
     "metadata": {},
     "output_type": "display_data"
    },
    {
     "name": "stdout",
     "output_type": "stream",
     "text": [
      "Running file 10: data_simulation_5.nc\n"
     ]
    },
    {
     "data": {
      "application/vnd.jupyter.widget-view+json": {
       "model_id": "a75f1b20a1074b0c9609145814a5eccc",
       "version_major": 2,
       "version_minor": 0
      },
      "text/plain": [
       "Output()"
      ]
     },
     "metadata": {},
     "output_type": "display_data"
    },
    {
     "data": {
      "text/html": [
       "<pre style=\"white-space:pre;overflow-x:auto;line-height:normal;font-family:Menlo,'DejaVu Sans Mono',consolas,'Courier New',monospace\"></pre>\n"
      ],
      "text/plain": []
     },
     "metadata": {},
     "output_type": "display_data"
    },
    {
     "data": {
      "text/html": [
       "<pre style=\"white-space:pre;overflow-x:auto;line-height:normal;font-family:Menlo,'DejaVu Sans Mono',consolas,'Courier New',monospace\">\n",
       "</pre>\n"
      ],
      "text/plain": [
       "\n"
      ]
     },
     "metadata": {},
     "output_type": "display_data"
    },
    {
     "data": {
      "application/vnd.jupyter.widget-view+json": {
       "model_id": "cf300b8946eb438f8b72f759f66c6c58",
       "version_major": 2,
       "version_minor": 0
      },
      "text/plain": [
       "Output()"
      ]
     },
     "metadata": {},
     "output_type": "display_data"
    },
    {
     "data": {
      "text/html": [
       "<pre style=\"white-space:pre;overflow-x:auto;line-height:normal;font-family:Menlo,'DejaVu Sans Mono',consolas,'Courier New',monospace\"></pre>\n"
      ],
      "text/plain": []
     },
     "metadata": {},
     "output_type": "display_data"
    },
    {
     "data": {
      "text/html": [
       "<pre style=\"white-space:pre;overflow-x:auto;line-height:normal;font-family:Menlo,'DejaVu Sans Mono',consolas,'Courier New',monospace\">\n",
       "</pre>\n"
      ],
      "text/plain": [
       "\n"
      ]
     },
     "metadata": {},
     "output_type": "display_data"
    },
    {
     "data": {
      "application/vnd.jupyter.widget-view+json": {
       "model_id": "dfcc9b02f7c44acc896fc05f473470d5",
       "version_major": 2,
       "version_minor": 0
      },
      "text/plain": [
       "Output()"
      ]
     },
     "metadata": {},
     "output_type": "display_data"
    },
    {
     "data": {
      "text/html": [
       "<pre style=\"white-space:pre;overflow-x:auto;line-height:normal;font-family:Menlo,'DejaVu Sans Mono',consolas,'Courier New',monospace\"></pre>\n"
      ],
      "text/plain": []
     },
     "metadata": {},
     "output_type": "display_data"
    },
    {
     "data": {
      "text/html": [
       "<pre style=\"white-space:pre;overflow-x:auto;line-height:normal;font-family:Menlo,'DejaVu Sans Mono',consolas,'Courier New',monospace\">\n",
       "</pre>\n"
      ],
      "text/plain": [
       "\n"
      ]
     },
     "metadata": {},
     "output_type": "display_data"
    },
    {
     "data": {
      "application/vnd.jupyter.widget-view+json": {
       "model_id": "a8889d6a97be4e76826af78484d36b70",
       "version_major": 2,
       "version_minor": 0
      },
      "text/plain": [
       "Output()"
      ]
     },
     "metadata": {},
     "output_type": "display_data"
    },
    {
     "data": {
      "text/html": [
       "<pre style=\"white-space:pre;overflow-x:auto;line-height:normal;font-family:Menlo,'DejaVu Sans Mono',consolas,'Courier New',monospace\"></pre>\n"
      ],
      "text/plain": []
     },
     "metadata": {},
     "output_type": "display_data"
    },
    {
     "data": {
      "text/html": [
       "<pre style=\"white-space:pre;overflow-x:auto;line-height:normal;font-family:Menlo,'DejaVu Sans Mono',consolas,'Courier New',monospace\">\n",
       "</pre>\n"
      ],
      "text/plain": [
       "\n"
      ]
     },
     "metadata": {},
     "output_type": "display_data"
    }
   ],
   "source": [
    "# get all files inside the folder\n",
    "netcdf_files = [f for f in os.listdir(input_folder) if f.endswith(\".nc\")]\n",
    "\n",
    "for i, nc_file in enumerate(netcdf_files):\n",
    "    nc_file_path = os.path.join(input_folder, nc_file)\n",
    "    print(f\"Running file {i+1}: {nc_file}\")\n",
    "    \n",
    "    # Abrir o arquivo NetCDF com xarray\n",
    "    data = xr.open_dataset(nc_file_path)\n",
    "   \n",
    "    x_, y_ = np.meshgrid(data.x.values, data.y.values)\n",
    "    coordinates = ([x_, y_ , data.z.values])\n",
    "\n",
    "    # Run the code\n",
    "    data_copy = data.copy(deep=True)\n",
    "    data_copy2 = data_copy.copy(deep=True)\n",
    "\n",
    "    height_difference = 5\n",
    "    \n",
    "    # Have to assign the same points as the data because the Harmonica\n",
    "    # transforms give slightly different coordinates due to round-off.\n",
    "    # This is a bug and is being worked on.\n",
    "    data_up = (\n",
    "        hm.upward_continuation(data.bz, height_difference)\n",
    "        .assign_attrs(data.bz.attrs)\n",
    "        .to_dataset(name=\"bz\")\n",
    "        .assign_coords(x=data.x, y=data.y)\n",
    "        .assign_coords(z=data.z + height_difference)\n",
    "    )\n",
    "    data_up = data_up.assign(mg.data_gradients(data_up.bz))\n",
    "    \n",
    "    stretched = skimage.exposure.rescale_intensity(\n",
    "        data_up.tga, \n",
    "        in_range=tuple(np.percentile(data_up.tga, (1, 99))),\n",
    "    )\n",
    "    data_up = data_up.assign(tga_stretched=xr.DataArray(stretched, coords=data_up.coords))\n",
    "\n",
    "\n",
    "    windows = mg.detect_anomalies(\n",
    "        data_up.tga_stretched, \n",
    "        size_range=[20, 150],\n",
    "        size_increment=1.0,\n",
    "        threshold=0.05,\n",
    "        overlap=0.0,\n",
    "        exclude_border=15\n",
    "    )\n",
    "    \n",
    "    ## Standard method\n",
    "    positions = []\n",
    "    estimated_dipole_moments = []\n",
    "    estimated_stds = []\n",
    "    calculated_r2 = []\n",
    "    calculated_SNR = []\n",
    "    windows_filtered = []\n",
    "    base_levels = []\n",
    "    for window in windows:\n",
    "        anomaly = data_up.sel(x=slice(*window[:2]), y=slice(*window[2:]))\n",
    "        position, base_level = mg.euler_deconvolution(\n",
    "            anomaly.bz, \n",
    "            anomaly.x_deriv, \n",
    "            anomaly.y_deriv, \n",
    "            anomaly.z_deriv,\n",
    "        )\n",
    "        \n",
    "        data_minus_background = anomaly.bz.values - base_level\n",
    "        anomaly = anomaly.assign(data_minus_background=(['y','x'], data_minus_background))\n",
    "        anomaly.data_minus_background.attrs = {\"long_name\": \"dipole-model\", \"units\": \"nT\"}\n",
    "    \n",
    "        moment, covariance, r2, SNR = mg.dipole_moment_inversion(\n",
    "            anomaly.data_minus_background, position,\n",
    "        )\n",
    "        \n",
    "        bad_euler = False # position[2] > 0\n",
    "        poor_fit = False\n",
    "        \n",
    "        if bad_euler or poor_fit:\n",
    "            continue\n",
    "        positions.append(position)  \n",
    "        estimated_dipole_moments.append(moment)\n",
    "        estimated_stds.append(mg.covariance_to_angle_std(moment, covariance))\n",
    "        calculated_r2.append(r2)\n",
    "        calculated_SNR.append(SNR)\n",
    "        windows_filtered.append(window)\n",
    "        base_levels.append(base_level)\n",
    "    positions = np.transpose(positions)\n",
    "    \n",
    "    #### IF NEEDED INSERT HERE THE MISFITS CALC FOR THE STANDARD METHOD #######\n",
    "    ##\n",
    "    #### IF NEEDED INSERT HERE THE MISFITS CALC FOR THE STANDARD METHOD #######\n",
    "\n",
    "    \n",
    "    ## Iterative Method\n",
    "    warnings.filterwarnings(\"ignore\")\n",
    "    \n",
    "    x_concat = []\n",
    "    y_concat = []\n",
    "    z_concat = []\n",
    "    bz_concat = []\n",
    "    xc_concat = []\n",
    "    yc_concat = []\n",
    "    zc_concat = []\n",
    "    z_deriv_concat = []\n",
    "    \n",
    "    estimated_dipole_moments_itr_euler = []\n",
    "    \n",
    "    # fitting parameters\n",
    "    calculated_r2_itr_euler = []\n",
    "    calculated_SNR_itr_euler = []\n",
    "    \n",
    "    data_copy = data.copy(deep=True)\n",
    "    data_up_copy = data_up.copy(deep=True)\n",
    "    \n",
    "    #################################\n",
    "    for window in rich.progress.track(np.array(windows), total = len(np.array(windows))):\n",
    "        anomaly = data_up_copy.sel(x=slice(*window[:2]), y=slice(*window[2:]))\n",
    "        position, base_level = mg.euler_deconvolution(\n",
    "            anomaly.bz, \n",
    "            anomaly.x_deriv, \n",
    "            anomaly.y_deriv, \n",
    "            anomaly.z_deriv,\n",
    "        )\n",
    "        \n",
    "        data_minus_background = anomaly.bz.values - base_level \n",
    "        anomaly = anomaly.assign(data_minus_background=(['y','x'], data_minus_background))\n",
    "        anomaly.data_minus_background.attrs = {\"long_name\": \"dipole-model\", \"units\": \"nT\"}\n",
    "    \n",
    "        \n",
    "        moment, covariance, r2, SNR = mg.dipole_moment_inversion(anomaly.data_minus_background, position)\n",
    "    \n",
    "        ## SCIPY MINIMIZATION\n",
    "        anomaly_table=vd.grid_to_table(anomaly)\n",
    "        amplitude = np.linalg.norm(moment)\n",
    "        args=(data_minus_background.ravel(), \n",
    "             ( anomaly_table.x.values,\n",
    "               anomaly_table.y.values, \n",
    "               anomaly.z.values.ravel()),\n",
    "              amplitude, position[0], position[1], position[2])\n",
    "        \n",
    "        minimization=sp.optimize.minimize(goal_function, (1, 1, 1,\n",
    "                                                          moment[0]/amplitude,\n",
    "                                                          moment[1]/amplitude,\n",
    "                                                          moment[2]/amplitude),\n",
    "                                          \n",
    "                                          args=args,\n",
    "                                          \n",
    "                                            method='Nelder-Mead', options=dict(fatol=1.0e-8))\n",
    "        \n",
    "        if minimization.success:\n",
    "            \n",
    "            moment = np.array([minimization['x'][3], minimization['x'][4], minimization['x'][5]])*amplitude\n",
    "            position = np.array([minimization['x'][0]*position[0], \n",
    "                                 minimization['x'][1]*position[1],\n",
    "                                 minimization['x'][2]*position[2]])\n",
    "            xxx, yyy = np.meshgrid(anomaly.x.values, anomaly.y.values)\n",
    "            zzz = anomaly.z.values.ravel()\n",
    "            pred = mg.dipole_bz([xxx, yyy, zzz], \n",
    "                      position,\n",
    "                      moment\n",
    "                     )\n",
    "            \n",
    "            residuals = data_minus_background.ravel() - pred.ravel()\n",
    "            residuals_sum_sq = np.sum(residuals**2)\n",
    "            r2 = 1 - residuals_sum_sq / np.linalg.norm(data_minus_background.ravel() - np.mean(data_minus_background.ravel())) ** 2\n",
    "        \n",
    "    \n",
    "        estimated_dipole_moments_itr_euler.append(moment)\n",
    "        \n",
    "        #########\n",
    "        \n",
    "        discard = mg.dipole_bz(coordinates, position, moment)\n",
    "    \n",
    "        data_copy.bz.values -= discard\n",
    "        \n",
    "        data_up_copy = (\n",
    "                    hm.upward_continuation(data_copy.bz, height_difference)\n",
    "                    .assign_attrs(data_copy.bz.attrs)\n",
    "                    .to_dataset(name=\"bz\")\n",
    "                    .assign_coords(x=data_copy.x, y=data_copy.y)\n",
    "                    .assign_coords(z=data_copy.z + height_difference)\n",
    "                       )\n",
    "        \n",
    "        \n",
    "        data_up_copy = data_up_copy.assign(mg.data_gradients(data_up_copy.bz))\n",
    "        \n",
    "        \n",
    "        ########\n",
    "        bad_euler = False #position[2] > 0.0\n",
    "        poor_fit =  False # r2 < 0.85  \n",
    "    \n",
    "        if bad_euler or poor_fit:\n",
    "            continue\n",
    "        xx, yy = np.meshgrid(anomaly.x.values, anomaly.y.values)\n",
    "        x_concat = np.append(x_concat, xx)\n",
    "        y_concat = np.append(y_concat, yy)    \n",
    "        z_concat = np.append(z_concat, anomaly.z.values)\n",
    "        bz_concat = np.append(bz_concat, anomaly.bz.values)\n",
    "        z_deriv_concat = np.append(z_deriv_concat, anomaly.z_deriv.values)\n",
    "        xc_concat = np.append(xc_concat, position[0])\n",
    "        yc_concat = np.append(yc_concat, position[1])\n",
    "        zc_concat = np.append(zc_concat, position[2])\n",
    "        calculated_r2_itr_euler = np.append(calculated_r2_itr_euler, r2)\n",
    "        calculated_SNR_itr_euler = np.append(calculated_SNR_itr_euler, SNR)\n",
    "    \n",
    "    df = pd.DataFrame({'x':x_concat,\n",
    "                       'y':y_concat,\n",
    "                       'z':z_concat,\n",
    "                      'bz':bz_concat,\n",
    "                     'z_deriv':z_deriv_concat})\n",
    "    \n",
    "    positions_itr = np.array([xc_concat, yc_concat, zc_concat])\n",
    "    \n",
    "    \n",
    "    \n",
    "    ## EULER ENHANCEMENT SECOND STEP\n",
    "    warnings.filterwarnings(\"ignore\")\n",
    "    data_copy = data.copy(deep=True)\n",
    "    euler_r2_itr_cond = calculated_r2_itr_euler>=0.975\n",
    "    \n",
    "    zc_concat_temp = list()\n",
    "    xc_concat_temp = list()\n",
    "    yc_concat_temp = list()\n",
    "    \n",
    "    estimated_dipole_moments_itr_euler_temp = list()\n",
    "    \n",
    "    indexes = np.where(np.array(euler_r2_itr_cond))[0]\n",
    "    # SOURCES WITH R2 >= 0.99 ARE NOT ENHANCED, WE CALCULATE THEIR ANOMALY AND REMOVE THEM FROM THE DATA SET\n",
    "    # for index, window in enumerate(rich.progress.track(np.array(windows)[euler_r2_itr_cond], total=len(np.array(windows)[euler_r2_itr_cond]))):\n",
    "    for index in rich.progress.track(indexes, total=len(indexes)):\n",
    "        window = windows[index]\n",
    "        position = positions_itr[:, index]\n",
    "        estimated_dipole_moments_itr_euler_temp.append(estimated_dipole_moments_itr_euler[index])\n",
    "        xc_concat_temp = np.append(xc_concat_temp, position[0])\n",
    "        yc_concat_temp = np.append(yc_concat_temp, position[1])\n",
    "        zc_concat_temp = np.append(zc_concat_temp, position[2])  \n",
    "    \n",
    "        \n",
    "    # remove all signals \n",
    "    position_temp = np.array([xc_concat_temp, yc_concat_temp, zc_concat_temp])\n",
    "    discard = mg.dipole_bz(coordinates, position_temp, estimated_dipole_moments_itr_euler_temp)\n",
    "    data_copy.bz.values -= discard\n",
    "    \n",
    "    data_up_copy = (\n",
    "                hm.upward_continuation(data_copy.bz, height_difference)\n",
    "                .assign_attrs(data_copy.bz.attrs)\n",
    "                .to_dataset(name=\"bz\")\n",
    "                .assign_coords(x=data_copy.x, y=data_copy.y)\n",
    "                .assign_coords(z=data_copy.z + height_difference)\n",
    "                   )\n",
    "    \n",
    "    \n",
    "    data_up_copy = data_up_copy.assign(mg.data_gradients(data_up_copy.bz))\n",
    "    \n",
    "    \n",
    "    # SOURCES WITH R2 <= 0.99 ARE ENHANCED\n",
    "    indexes = np.where(~np.array(euler_r2_itr_cond))[0]\n",
    "    # for index, window in enumerate(rich.progress.track(np.array(windows)[~euler_r2_itr_cond], total=len(np.array(windows)[~euler_r2_itr_cond]))):\n",
    "    for index in rich.progress.track(indexes, total=len(indexes)):\n",
    "        window = windows[index]\n",
    "        anomaly = data_up_copy.sel(x=slice(*window[:2]), y=slice(*window[2:]))\n",
    "        position, base_level = mg.euler_deconvolution(\n",
    "            anomaly.bz, \n",
    "            anomaly.x_deriv, \n",
    "            anomaly.y_deriv, \n",
    "            anomaly.z_deriv,\n",
    "        )\n",
    "        data_minus_background = anomaly.bz.values - base_level \n",
    "        anomaly = anomaly.assign(data_minus_background=(['y','x'], data_minus_background))\n",
    "        anomaly.data_minus_background.attrs = {\"long_name\": \"dipole-model\", \"units\": \"nT\"}\n",
    "        \n",
    "        moment, covariance, r2, SNR = mg.dipole_moment_inversion(anomaly.data_minus_background, position)\n",
    "    \n",
    "    \n",
    "    \n",
    "        ## SCIPY MINIMIZATION\n",
    "        anomaly_table=vd.grid_to_table(anomaly)\n",
    "        amplitude = np.linalg.norm(moment)\n",
    "        args=(data_minus_background.ravel(), \n",
    "             ( anomaly_table.x.values,\n",
    "               anomaly_table.y.values, \n",
    "               anomaly.z.values.ravel()),\n",
    "              amplitude, position[0], position[1], position[2])\n",
    "        \n",
    "        minimization=sp.optimize.minimize(goal_function, (1, 1, 1,\n",
    "                                                          moment[0]/amplitude,\n",
    "                                                          moment[1]/amplitude,\n",
    "                                                          moment[2]/amplitude),\n",
    "                                          \n",
    "                                          args=args,\n",
    "                                          \n",
    "                                            method='Nelder-Mead', options=dict(fatol=1.0e-8))\n",
    "        \n",
    "        if minimization.success:\n",
    "            \n",
    "            moment = np.array([minimization['x'][3], minimization['x'][4], minimization['x'][5]])*amplitude\n",
    "            position = np.array([minimization['x'][0]*position[0], \n",
    "                                 minimization['x'][1]*position[1],\n",
    "                                 minimization['x'][2]*position[2]])\n",
    "            xxx, yyy = np.meshgrid(anomaly.x.values, anomaly.y.values)\n",
    "            zzz = anomaly.z.values.ravel()\n",
    "            pred = mg.dipole_bz([xxx, yyy, zzz], \n",
    "                      position,\n",
    "                      moment\n",
    "                     )\n",
    "            \n",
    "            residuals = data_minus_background.ravel() - pred.ravel()\n",
    "            residuals_sum_sq = np.sum(residuals**2)\n",
    "            r2 = 1 - residuals_sum_sq / np.linalg.norm(data_minus_background.ravel() - np.mean(data_minus_background.ravel())) ** 2\n",
    "            \n",
    "            if r2 >= calculated_r2_itr_euler[index]:\n",
    "                estimated_dipole_moments_itr_euler[index] = moment\n",
    "                positions_itr[:, index] = position\n",
    "        \n",
    "        discard = mg.dipole_bz(coordinates, position, moment)\n",
    "    \n",
    "        data_copy.bz.values -= discard\n",
    "    \n",
    "        data_up_copy = (\n",
    "                    hm.upward_continuation(data_copy.bz, height_difference)\n",
    "                    .assign_attrs(data_copy.bz.attrs)\n",
    "                    .to_dataset(name=\"bz\")\n",
    "                    .assign_coords(x=data_copy.x, y=data_copy.y)\n",
    "                    .assign_coords(z=data_copy.z + height_difference)\n",
    "                       )\n",
    "        \n",
    "        \n",
    "        data_up_copy = data_up_copy.assign(mg.data_gradients(data_up_copy.bz))\n",
    "    \n",
    "    \n",
    "    \n",
    "    #### IF NEEDED INSERT HERE THE MISFITS CALC FOR THE ITERATIVE METHOD #######\n",
    "    ##\n",
    "    #### IF NEEDED INSERT HERE THE MISFITS CALC FOR THE ITERATIVE METHOD #######\n",
    "    \n",
    "    \n",
    "    ## RE RUN THE RESIDUAL TO FIND MORE SOURCES\n",
    "    data_up_copy = (\n",
    "                hm.upward_continuation(data_copy.bz, height_difference)\n",
    "                .assign_attrs(data_copy.bz.attrs)\n",
    "                .to_dataset(name=\"bz\")\n",
    "                .assign_coords(x=data_copy.x, y=data_copy.y)\n",
    "                .assign_coords(z=data_copy.z + height_difference)\n",
    "                   )\n",
    "    \n",
    "    data_up_copy = data_up_copy.assign(mg.data_gradients(data_up_copy.bz))\n",
    "    \n",
    "    stretched = skimage.exposure.rescale_intensity(\n",
    "        data_up_copy.tga, \n",
    "        in_range=tuple(np.percentile(data_up_copy.tga, (1, 99))),\n",
    "    )\n",
    "    data_up_copy = data_up_copy.assign(tga_stretched=xr.DataArray(stretched, coords=data_up.coords))\n",
    "    \n",
    "    windows_new = mg.detect_anomalies(\n",
    "        data_up_copy.tga_stretched, \n",
    "        size_range=[20,150],\n",
    "        size_increment=1.3,\n",
    "        threshold=0.02,\n",
    "        overlap=0.0,\n",
    "        exclude_border=15\n",
    "    )\n",
    "    \n",
    "    def intersects(window1, window2):\n",
    "        # Verifica se há sobreposição horizontal\n",
    "        horizontal_overlap = (window1[0] <= window2[1]) and (window2[0] <= window1[1])\n",
    "        # Verifica se há sobreposição vertical\n",
    "        vertical_overlap = (window1[2] <= window2[3]) and (window2[2] <= window1[3])\n",
    "        return horizontal_overlap and vertical_overlap\n",
    "        \n",
    "    \n",
    "    # Remove overlapping windows\n",
    "    non_overlapping_windows = np.copy(windows_new)\n",
    "    \n",
    "    for window in windows:\n",
    "        non_overlapping_windows = [nw for nw in non_overlapping_windows if not intersects(nw, window)]\n",
    "    \n",
    "    \n",
    "    data_copy_2 = data_copy.copy(deep=True)\n",
    "    data_up_copy_2 = data_up_copy.copy(deep=True)\n",
    "    \n",
    "    positions_itr_enhanced = list(np.copy(positions_itr))\n",
    "    estimated_dipole_moments_itr_euler_enhanced = list(np.copy(estimated_dipole_moments_itr_euler))\n",
    "    windows_enhanced = list(np.copy(windows))\n",
    "    calculated_r2_itr_euler_enhanced = list(np.copy(calculated_r2_itr_euler))\n",
    "    \n",
    "    #################################\n",
    "    for window in rich.progress.track(np.array(non_overlapping_windows), total = len(np.array(non_overlapping_windows))):\n",
    "        anomaly = data_up_copy_2.sel(x=slice(*window[:2]), y=slice(*window[2:]))\n",
    "        position, base_level = mg.euler_deconvolution(\n",
    "            anomaly.bz, \n",
    "            anomaly.x_deriv, \n",
    "            anomaly.y_deriv, \n",
    "            anomaly.z_deriv,\n",
    "        )\n",
    "        \n",
    "        data_minus_background = anomaly.bz.values - base_level \n",
    "        anomaly = anomaly.assign(data_minus_background=(['y','x'], data_minus_background))\n",
    "        anomaly.data_minus_background.attrs = {\"long_name\": \"dipole-model\", \"units\": \"nT\"}\n",
    "    \n",
    "        \n",
    "        moment, covariance, r2, SNR = mg.dipole_moment_inversion(anomaly.data_minus_background, position)\n",
    "    \n",
    "        ## SCIPY MINIMIZATION\n",
    "        anomaly_table=vd.grid_to_table(anomaly)\n",
    "        amplitude = np.linalg.norm(moment)\n",
    "        args=(data_minus_background.ravel(), \n",
    "             ( anomaly_table.x.values,\n",
    "               anomaly_table.y.values, \n",
    "               anomaly.z.values.ravel()),\n",
    "              amplitude, position[0], position[1], position[2])\n",
    "        \n",
    "        minimization=sp.optimize.minimize(goal_function, (1, 1, 1,\n",
    "                                                          moment[0]/amplitude,\n",
    "                                                          moment[1]/amplitude,\n",
    "                                                          moment[2]/amplitude),\n",
    "                                          \n",
    "                                          args=args,\n",
    "                                          \n",
    "                                            method='Nelder-Mead', options=dict(fatol=1.0e-8))\n",
    "        \n",
    "        if minimization.success:\n",
    "            \n",
    "            moment = np.array([minimization['x'][3], minimization['x'][4], minimization['x'][5]])*amplitude\n",
    "            position = np.array([minimization['x'][0]*position[0], \n",
    "                                 minimization['x'][1]*position[1],\n",
    "                                 minimization['x'][2]*position[2]])\n",
    "            xxx, yyy = np.meshgrid(anomaly.x.values, anomaly.y.values)\n",
    "            zzz = anomaly.z.values.ravel()\n",
    "            pred = mg.dipole_bz([xxx, yyy, zzz], \n",
    "                      position,\n",
    "                      moment\n",
    "                     )\n",
    "            \n",
    "            residuals = data_minus_background.ravel() - pred.ravel()\n",
    "            residuals_sum_sq = np.sum(residuals**2)\n",
    "            r2 = 1 - residuals_sum_sq / np.linalg.norm(data_minus_background.ravel() - np.mean(data_minus_background.ravel())) ** 2\n",
    "    \n",
    "    \n",
    "        windows_enhanced.append(window)\n",
    "        estimated_dipole_moments_itr_euler_enhanced.append(moment)\n",
    "        for i in range(3):\n",
    "            positions_itr_enhanced[i]=np.append(positions_itr_enhanced[i], position[i])\n",
    "        calculated_r2_itr_euler_enhanced.append(r2)\n",
    "        #########\n",
    "        \n",
    "        discard = mg.dipole_bz(coordinates, position, moment)\n",
    "    \n",
    "        data_copy_2.bz.values -= discard\n",
    "        \n",
    "        data_up_copy_2 = (\n",
    "                    hm.upward_continuation(data_copy_2.bz, height_difference)\n",
    "                    .assign_attrs(data_copy_2.bz.attrs)\n",
    "                    .to_dataset(name=\"bz\")\n",
    "                    .assign_coords(x=data_copy_2.x, y=data_copy_2.y)\n",
    "                    .assign_coords(z=data_copy_2.z + height_difference)\n",
    "                       )\n",
    "        \n",
    "        \n",
    "        data_up_copy_2 = data_up_copy_2.assign(mg.data_gradients(data_up_copy_2.bz))\n",
    "        \n",
    "        \n",
    "        ########\n",
    "        bad_euler = False #position[2] > 0.0\n",
    "        poor_fit =  False # r2 < 0.85  \n",
    "    \n",
    "        if bad_euler or poor_fit:\n",
    "            continue\n",
    "    \n",
    "    #### IF NEEDED INSERT HERE THE MISFITS CALC FOR THE RE RUN METHOD #######\n",
    "    ##\n",
    "    #### IF NEEDED INSERT HERE THE MISFITS CALC FOR THE RE RUN METHOD #######\n",
    "\n",
    "    # Criar um DataFrame com os vetores\n",
    "    standard_dataframe = pd.DataFrame({\n",
    "        'mx_standard': np.asarray(estimated_dipole_moments)[:,0],\n",
    "        'my_standard': np.asarray(estimated_dipole_moments)[:,1],\n",
    "        'mz_standard': np.asarray(estimated_dipole_moments)[:,2],\n",
    "        'r_2_standard': np.asarray(calculated_r2),\n",
    "    })\n",
    "    standard_csv_name = os.path.join(output_folder, nc_file.replace('.nc', '_standard.csv'))\n",
    "    standard_dataframe.to_csv(standard_csv_name, index=False)\n",
    "\n",
    "    # Criar DataFrame para os vetores iterativos\n",
    "    iterative_dataframe = pd.DataFrame({\n",
    "        'mx_iterative': np.asarray(estimated_dipole_moments_itr_euler_enhanced)[:,0],\n",
    "        'my_iterative': np.asarray(estimated_dipole_moments_itr_euler_enhanced)[:,1],\n",
    "        'mz_iterative': np.asarray(estimated_dipole_moments_itr_euler_enhanced)[:,2],\n",
    "        'r_2_iterative': np.asarray(calculated_r2_itr_euler_enhanced),\n",
    "    })\n",
    "\n",
    "    # Salvar DataFrame iterativo como CSV\n",
    "    iterative_csv_name = os.path.join(output_folder, nc_file.replace('.nc', '_iterative.csv'))\n",
    "    iterative_dataframe.to_csv(iterative_csv_name, index=False)\n"
   ]
  },
  {
   "cell_type": "code",
   "execution_count": 5,
   "id": "df5bfee4-e99a-495e-b74f-392cadbe756c",
   "metadata": {},
   "outputs": [
    {
     "data": {
      "text/plain": [
       "(425, 3)"
      ]
     },
     "execution_count": 5,
     "metadata": {},
     "output_type": "execute_result"
    }
   ],
   "source": [
    "np.shape(estimated_dipole_moments)"
   ]
  },
  {
   "cell_type": "code",
   "execution_count": null,
   "id": "18c03f3a-05ee-45d5-a47e-75cbf59cd0a7",
   "metadata": {},
   "outputs": [],
   "source": []
  },
  {
   "cell_type": "code",
   "execution_count": null,
   "id": "c23e51a1-6038-4e3c-8100-ed3f60b3d50a",
   "metadata": {},
   "outputs": [],
   "source": []
  }
 ],
 "metadata": {
  "kernelspec": {
   "display_name": "Python 3 (ipykernel)",
   "language": "python",
   "name": "python3"
  },
  "language_info": {
   "codemirror_mode": {
    "name": "ipython",
    "version": 3
   },
   "file_extension": ".py",
   "mimetype": "text/x-python",
   "name": "python",
   "nbconvert_exporter": "python",
   "pygments_lexer": "ipython3",
   "version": "3.10.14"
  }
 },
 "nbformat": 4,
 "nbformat_minor": 5
}

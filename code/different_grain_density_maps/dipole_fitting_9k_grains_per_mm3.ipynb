{
 "cells": [
  {
   "cell_type": "code",
   "execution_count": 1,
   "id": "ec341992-1bf8-456a-8906-6ed3bfa66489",
   "metadata": {},
   "outputs": [],
   "source": [
    "import pathlib\n",
    "import numpy as np\n",
    "import scipy as sp\n",
    "import pandas as pd\n",
    "import xarray as xr\n",
    "import matplotlib.pyplot as plt\n",
    "import matplotlib.patches\n",
    "import mplstereonet\n",
    "import skimage.exposure\n",
    "import harmonica as hm\n",
    "import verde as vd\n",
    "\n",
    "import zipfile\n",
    "import os\n",
    "import micromag as mg\n",
    "\n",
    "import time\n",
    "import warnings\n",
    "import rich.progress"
   ]
  },
  {
   "cell_type": "code",
   "execution_count": 2,
   "id": "e3ae97c5-7a2a-4cca-9cc6-38e603ac90ad",
   "metadata": {},
   "outputs": [],
   "source": [
    "# !pip install h5netcdf"
   ]
  },
  {
   "cell_type": "code",
   "execution_count": 3,
   "id": "75cd9b24-78a3-4599-b58d-97cda58e80b5",
   "metadata": {},
   "outputs": [],
   "source": [
    "import scipy as sp\n",
    "import numba\n",
    "import choclo\n",
    "# @numba.jit(nopython=True, parallel=True)\n",
    "def goal_function(parameter, obs_data, coordinates, amplitude, x_0, y_0, z_0):\n",
    "    bz = mg.dipole_bz(coordinates, \n",
    "                      ([parameter[0]*x_0], [parameter[1]*y_0], [parameter[2]*z_0]),\n",
    "                     np.array([parameter[3], parameter[4], parameter[5]])*amplitude\n",
    "                     )\n",
    "                   \n",
    "    \n",
    "    Res = np.linalg.norm(obs_data-bz.ravel())\n",
    "    # print(Res)\n",
    "    return(Res)"
   ]
  },
  {
   "cell_type": "code",
   "execution_count": 4,
   "id": "ac78783d-5268-4bf8-8b9e-d517489fd7b0",
   "metadata": {},
   "outputs": [
    {
     "name": "stdout",
     "output_type": "stream",
     "text": [
      "Running file 1: data_simulation_7.nc\n"
     ]
    },
    {
     "name": "stderr",
     "output_type": "stream",
     "text": [
      "/home/gelson/anaconda3/envs/micromag-euler-dipole/lib/python3.10/site-packages/xrft/xrft.py:573: FutureWarning: Default ifft's behaviour (lag=None) changed! Default value of lag was zero (centered output coordinates) and is now set to transformed coordinate's attribute: 'direct_lag'.\n",
      "  warnings.warn(msg, FutureWarning)\n",
      "/home/gelson/anaconda3/envs/micromag-euler-dipole/lib/python3.10/site-packages/xrft/xrft.py:573: FutureWarning: Default ifft's behaviour (lag=None) changed! Default value of lag was zero (centered output coordinates) and is now set to transformed coordinate's attribute: 'direct_lag'.\n",
      "  warnings.warn(msg, FutureWarning)\n",
      "/home/gelson/anaconda3/envs/micromag-euler-dipole/lib/python3.10/site-packages/xrft/xrft.py:573: FutureWarning: Default ifft's behaviour (lag=None) changed! Default value of lag was zero (centered output coordinates) and is now set to transformed coordinate's attribute: 'direct_lag'.\n",
      "  warnings.warn(msg, FutureWarning)\n"
     ]
    },
    {
     "data": {
      "application/vnd.jupyter.widget-view+json": {
       "model_id": "6ab79880844b4a86b94247d6bf060fad",
       "version_major": 2,
       "version_minor": 0
      },
      "text/plain": [
       "Output()"
      ]
     },
     "metadata": {},
     "output_type": "display_data"
    },
    {
     "data": {
      "text/html": [
       "<pre style=\"white-space:pre;overflow-x:auto;line-height:normal;font-family:Menlo,'DejaVu Sans Mono',consolas,'Courier New',monospace\"></pre>\n"
      ],
      "text/plain": []
     },
     "metadata": {},
     "output_type": "display_data"
    },
    {
     "data": {
      "text/html": [
       "<pre style=\"white-space:pre;overflow-x:auto;line-height:normal;font-family:Menlo,'DejaVu Sans Mono',consolas,'Courier New',monospace\">\n",
       "</pre>\n"
      ],
      "text/plain": [
       "\n"
      ]
     },
     "metadata": {},
     "output_type": "display_data"
    },
    {
     "data": {
      "application/vnd.jupyter.widget-view+json": {
       "model_id": "373096a59ad048f4891ec5e4af624112",
       "version_major": 2,
       "version_minor": 0
      },
      "text/plain": [
       "Output()"
      ]
     },
     "metadata": {},
     "output_type": "display_data"
    },
    {
     "data": {
      "text/html": [
       "<pre style=\"white-space:pre;overflow-x:auto;line-height:normal;font-family:Menlo,'DejaVu Sans Mono',consolas,'Courier New',monospace\"></pre>\n"
      ],
      "text/plain": []
     },
     "metadata": {},
     "output_type": "display_data"
    },
    {
     "data": {
      "text/html": [
       "<pre style=\"white-space:pre;overflow-x:auto;line-height:normal;font-family:Menlo,'DejaVu Sans Mono',consolas,'Courier New',monospace\">\n",
       "</pre>\n"
      ],
      "text/plain": [
       "\n"
      ]
     },
     "metadata": {},
     "output_type": "display_data"
    },
    {
     "data": {
      "application/vnd.jupyter.widget-view+json": {
       "model_id": "54a59797c6794eb689c449bac6208e11",
       "version_major": 2,
       "version_minor": 0
      },
      "text/plain": [
       "Output()"
      ]
     },
     "metadata": {},
     "output_type": "display_data"
    },
    {
     "data": {
      "text/html": [
       "<pre style=\"white-space:pre;overflow-x:auto;line-height:normal;font-family:Menlo,'DejaVu Sans Mono',consolas,'Courier New',monospace\"></pre>\n"
      ],
      "text/plain": []
     },
     "metadata": {},
     "output_type": "display_data"
    },
    {
     "data": {
      "text/html": [
       "<pre style=\"white-space:pre;overflow-x:auto;line-height:normal;font-family:Menlo,'DejaVu Sans Mono',consolas,'Courier New',monospace\">\n",
       "</pre>\n"
      ],
      "text/plain": [
       "\n"
      ]
     },
     "metadata": {},
     "output_type": "display_data"
    },
    {
     "data": {
      "application/vnd.jupyter.widget-view+json": {
       "model_id": "4b7f9e4924c24d1f85d66a6fef070072",
       "version_major": 2,
       "version_minor": 0
      },
      "text/plain": [
       "Output()"
      ]
     },
     "metadata": {},
     "output_type": "display_data"
    },
    {
     "data": {
      "text/html": [
       "<pre style=\"white-space:pre;overflow-x:auto;line-height:normal;font-family:Menlo,'DejaVu Sans Mono',consolas,'Courier New',monospace\"></pre>\n"
      ],
      "text/plain": []
     },
     "metadata": {},
     "output_type": "display_data"
    },
    {
     "data": {
      "text/html": [
       "<pre style=\"white-space:pre;overflow-x:auto;line-height:normal;font-family:Menlo,'DejaVu Sans Mono',consolas,'Courier New',monospace\">\n",
       "</pre>\n"
      ],
      "text/plain": [
       "\n"
      ]
     },
     "metadata": {},
     "output_type": "display_data"
    },
    {
     "name": "stdout",
     "output_type": "stream",
     "text": [
      "Running file 2: data_simulation_3.nc\n"
     ]
    },
    {
     "data": {
      "application/vnd.jupyter.widget-view+json": {
       "model_id": "14c7d86eff504aae934ce2e855fba45e",
       "version_major": 2,
       "version_minor": 0
      },
      "text/plain": [
       "Output()"
      ]
     },
     "metadata": {},
     "output_type": "display_data"
    },
    {
     "data": {
      "text/html": [
       "<pre style=\"white-space:pre;overflow-x:auto;line-height:normal;font-family:Menlo,'DejaVu Sans Mono',consolas,'Courier New',monospace\"></pre>\n"
      ],
      "text/plain": []
     },
     "metadata": {},
     "output_type": "display_data"
    },
    {
     "data": {
      "text/html": [
       "<pre style=\"white-space:pre;overflow-x:auto;line-height:normal;font-family:Menlo,'DejaVu Sans Mono',consolas,'Courier New',monospace\">\n",
       "</pre>\n"
      ],
      "text/plain": [
       "\n"
      ]
     },
     "metadata": {},
     "output_type": "display_data"
    },
    {
     "data": {
      "application/vnd.jupyter.widget-view+json": {
       "model_id": "1bf97917cbdb42528e97b8416e3265c8",
       "version_major": 2,
       "version_minor": 0
      },
      "text/plain": [
       "Output()"
      ]
     },
     "metadata": {},
     "output_type": "display_data"
    },
    {
     "data": {
      "text/html": [
       "<pre style=\"white-space:pre;overflow-x:auto;line-height:normal;font-family:Menlo,'DejaVu Sans Mono',consolas,'Courier New',monospace\"></pre>\n"
      ],
      "text/plain": []
     },
     "metadata": {},
     "output_type": "display_data"
    },
    {
     "data": {
      "text/html": [
       "<pre style=\"white-space:pre;overflow-x:auto;line-height:normal;font-family:Menlo,'DejaVu Sans Mono',consolas,'Courier New',monospace\">\n",
       "</pre>\n"
      ],
      "text/plain": [
       "\n"
      ]
     },
     "metadata": {},
     "output_type": "display_data"
    },
    {
     "data": {
      "application/vnd.jupyter.widget-view+json": {
       "model_id": "f717941465ad4ed298fda804dfe2579a",
       "version_major": 2,
       "version_minor": 0
      },
      "text/plain": [
       "Output()"
      ]
     },
     "metadata": {},
     "output_type": "display_data"
    },
    {
     "data": {
      "text/html": [
       "<pre style=\"white-space:pre;overflow-x:auto;line-height:normal;font-family:Menlo,'DejaVu Sans Mono',consolas,'Courier New',monospace\"></pre>\n"
      ],
      "text/plain": []
     },
     "metadata": {},
     "output_type": "display_data"
    },
    {
     "data": {
      "text/html": [
       "<pre style=\"white-space:pre;overflow-x:auto;line-height:normal;font-family:Menlo,'DejaVu Sans Mono',consolas,'Courier New',monospace\">\n",
       "</pre>\n"
      ],
      "text/plain": [
       "\n"
      ]
     },
     "metadata": {},
     "output_type": "display_data"
    },
    {
     "data": {
      "application/vnd.jupyter.widget-view+json": {
       "model_id": "83047c5672794c02aee7636da92092bd",
       "version_major": 2,
       "version_minor": 0
      },
      "text/plain": [
       "Output()"
      ]
     },
     "metadata": {},
     "output_type": "display_data"
    },
    {
     "data": {
      "text/html": [
       "<pre style=\"white-space:pre;overflow-x:auto;line-height:normal;font-family:Menlo,'DejaVu Sans Mono',consolas,'Courier New',monospace\"></pre>\n"
      ],
      "text/plain": []
     },
     "metadata": {},
     "output_type": "display_data"
    },
    {
     "data": {
      "text/html": [
       "<pre style=\"white-space:pre;overflow-x:auto;line-height:normal;font-family:Menlo,'DejaVu Sans Mono',consolas,'Courier New',monospace\">\n",
       "</pre>\n"
      ],
      "text/plain": [
       "\n"
      ]
     },
     "metadata": {},
     "output_type": "display_data"
    },
    {
     "name": "stdout",
     "output_type": "stream",
     "text": [
      "Running file 3: data_simulation_1.nc\n"
     ]
    },
    {
     "data": {
      "application/vnd.jupyter.widget-view+json": {
       "model_id": "c9a813530b8e449986e7df89b163ed1b",
       "version_major": 2,
       "version_minor": 0
      },
      "text/plain": [
       "Output()"
      ]
     },
     "metadata": {},
     "output_type": "display_data"
    },
    {
     "data": {
      "text/html": [
       "<pre style=\"white-space:pre;overflow-x:auto;line-height:normal;font-family:Menlo,'DejaVu Sans Mono',consolas,'Courier New',monospace\"></pre>\n"
      ],
      "text/plain": []
     },
     "metadata": {},
     "output_type": "display_data"
    },
    {
     "data": {
      "text/html": [
       "<pre style=\"white-space:pre;overflow-x:auto;line-height:normal;font-family:Menlo,'DejaVu Sans Mono',consolas,'Courier New',monospace\">\n",
       "</pre>\n"
      ],
      "text/plain": [
       "\n"
      ]
     },
     "metadata": {},
     "output_type": "display_data"
    },
    {
     "data": {
      "application/vnd.jupyter.widget-view+json": {
       "model_id": "48621d5b7536451aa153930a737975d2",
       "version_major": 2,
       "version_minor": 0
      },
      "text/plain": [
       "Output()"
      ]
     },
     "metadata": {},
     "output_type": "display_data"
    },
    {
     "data": {
      "text/html": [
       "<pre style=\"white-space:pre;overflow-x:auto;line-height:normal;font-family:Menlo,'DejaVu Sans Mono',consolas,'Courier New',monospace\"></pre>\n"
      ],
      "text/plain": []
     },
     "metadata": {},
     "output_type": "display_data"
    },
    {
     "data": {
      "text/html": [
       "<pre style=\"white-space:pre;overflow-x:auto;line-height:normal;font-family:Menlo,'DejaVu Sans Mono',consolas,'Courier New',monospace\">\n",
       "</pre>\n"
      ],
      "text/plain": [
       "\n"
      ]
     },
     "metadata": {},
     "output_type": "display_data"
    },
    {
     "data": {
      "application/vnd.jupyter.widget-view+json": {
       "model_id": "1bcd7bc913da41cabc6afa006e180a90",
       "version_major": 2,
       "version_minor": 0
      },
      "text/plain": [
       "Output()"
      ]
     },
     "metadata": {},
     "output_type": "display_data"
    },
    {
     "data": {
      "text/html": [
       "<pre style=\"white-space:pre;overflow-x:auto;line-height:normal;font-family:Menlo,'DejaVu Sans Mono',consolas,'Courier New',monospace\"></pre>\n"
      ],
      "text/plain": []
     },
     "metadata": {},
     "output_type": "display_data"
    },
    {
     "data": {
      "text/html": [
       "<pre style=\"white-space:pre;overflow-x:auto;line-height:normal;font-family:Menlo,'DejaVu Sans Mono',consolas,'Courier New',monospace\">\n",
       "</pre>\n"
      ],
      "text/plain": [
       "\n"
      ]
     },
     "metadata": {},
     "output_type": "display_data"
    },
    {
     "data": {
      "application/vnd.jupyter.widget-view+json": {
       "model_id": "0460f351d2144bd281276eeaa6a083e6",
       "version_major": 2,
       "version_minor": 0
      },
      "text/plain": [
       "Output()"
      ]
     },
     "metadata": {},
     "output_type": "display_data"
    },
    {
     "data": {
      "text/html": [
       "<pre style=\"white-space:pre;overflow-x:auto;line-height:normal;font-family:Menlo,'DejaVu Sans Mono',consolas,'Courier New',monospace\"></pre>\n"
      ],
      "text/plain": []
     },
     "metadata": {},
     "output_type": "display_data"
    },
    {
     "data": {
      "text/html": [
       "<pre style=\"white-space:pre;overflow-x:auto;line-height:normal;font-family:Menlo,'DejaVu Sans Mono',consolas,'Courier New',monospace\">\n",
       "</pre>\n"
      ],
      "text/plain": [
       "\n"
      ]
     },
     "metadata": {},
     "output_type": "display_data"
    },
    {
     "name": "stdout",
     "output_type": "stream",
     "text": [
      "Running file 4: data_simulation_9.nc\n"
     ]
    },
    {
     "data": {
      "application/vnd.jupyter.widget-view+json": {
       "model_id": "802b520db99f4fa7bd5d586f2c3bdde5",
       "version_major": 2,
       "version_minor": 0
      },
      "text/plain": [
       "Output()"
      ]
     },
     "metadata": {},
     "output_type": "display_data"
    },
    {
     "data": {
      "text/html": [
       "<pre style=\"white-space:pre;overflow-x:auto;line-height:normal;font-family:Menlo,'DejaVu Sans Mono',consolas,'Courier New',monospace\"></pre>\n"
      ],
      "text/plain": []
     },
     "metadata": {},
     "output_type": "display_data"
    },
    {
     "data": {
      "text/html": [
       "<pre style=\"white-space:pre;overflow-x:auto;line-height:normal;font-family:Menlo,'DejaVu Sans Mono',consolas,'Courier New',monospace\">\n",
       "</pre>\n"
      ],
      "text/plain": [
       "\n"
      ]
     },
     "metadata": {},
     "output_type": "display_data"
    },
    {
     "data": {
      "application/vnd.jupyter.widget-view+json": {
       "model_id": "5dae084336f444af9b7e8845802011a8",
       "version_major": 2,
       "version_minor": 0
      },
      "text/plain": [
       "Output()"
      ]
     },
     "metadata": {},
     "output_type": "display_data"
    },
    {
     "data": {
      "text/html": [
       "<pre style=\"white-space:pre;overflow-x:auto;line-height:normal;font-family:Menlo,'DejaVu Sans Mono',consolas,'Courier New',monospace\"></pre>\n"
      ],
      "text/plain": []
     },
     "metadata": {},
     "output_type": "display_data"
    },
    {
     "data": {
      "text/html": [
       "<pre style=\"white-space:pre;overflow-x:auto;line-height:normal;font-family:Menlo,'DejaVu Sans Mono',consolas,'Courier New',monospace\">\n",
       "</pre>\n"
      ],
      "text/plain": [
       "\n"
      ]
     },
     "metadata": {},
     "output_type": "display_data"
    },
    {
     "data": {
      "application/vnd.jupyter.widget-view+json": {
       "model_id": "e88a5e62e0804bcfb2d1af506cf7aaad",
       "version_major": 2,
       "version_minor": 0
      },
      "text/plain": [
       "Output()"
      ]
     },
     "metadata": {},
     "output_type": "display_data"
    },
    {
     "data": {
      "text/html": [
       "<pre style=\"white-space:pre;overflow-x:auto;line-height:normal;font-family:Menlo,'DejaVu Sans Mono',consolas,'Courier New',monospace\"></pre>\n"
      ],
      "text/plain": []
     },
     "metadata": {},
     "output_type": "display_data"
    },
    {
     "data": {
      "text/html": [
       "<pre style=\"white-space:pre;overflow-x:auto;line-height:normal;font-family:Menlo,'DejaVu Sans Mono',consolas,'Courier New',monospace\">\n",
       "</pre>\n"
      ],
      "text/plain": [
       "\n"
      ]
     },
     "metadata": {},
     "output_type": "display_data"
    },
    {
     "data": {
      "application/vnd.jupyter.widget-view+json": {
       "model_id": "1ae56beeeb274a209b27b4daec6aa0c7",
       "version_major": 2,
       "version_minor": 0
      },
      "text/plain": [
       "Output()"
      ]
     },
     "metadata": {},
     "output_type": "display_data"
    },
    {
     "data": {
      "text/html": [
       "<pre style=\"white-space:pre;overflow-x:auto;line-height:normal;font-family:Menlo,'DejaVu Sans Mono',consolas,'Courier New',monospace\"></pre>\n"
      ],
      "text/plain": []
     },
     "metadata": {},
     "output_type": "display_data"
    },
    {
     "data": {
      "text/html": [
       "<pre style=\"white-space:pre;overflow-x:auto;line-height:normal;font-family:Menlo,'DejaVu Sans Mono',consolas,'Courier New',monospace\">\n",
       "</pre>\n"
      ],
      "text/plain": [
       "\n"
      ]
     },
     "metadata": {},
     "output_type": "display_data"
    },
    {
     "name": "stdout",
     "output_type": "stream",
     "text": [
      "Running file 5: data_simulation_0.nc\n"
     ]
    },
    {
     "data": {
      "application/vnd.jupyter.widget-view+json": {
       "model_id": "7ef0ec07ce2147659b6f5ded6298fe91",
       "version_major": 2,
       "version_minor": 0
      },
      "text/plain": [
       "Output()"
      ]
     },
     "metadata": {},
     "output_type": "display_data"
    },
    {
     "data": {
      "text/html": [
       "<pre style=\"white-space:pre;overflow-x:auto;line-height:normal;font-family:Menlo,'DejaVu Sans Mono',consolas,'Courier New',monospace\"></pre>\n"
      ],
      "text/plain": []
     },
     "metadata": {},
     "output_type": "display_data"
    },
    {
     "data": {
      "text/html": [
       "<pre style=\"white-space:pre;overflow-x:auto;line-height:normal;font-family:Menlo,'DejaVu Sans Mono',consolas,'Courier New',monospace\">\n",
       "</pre>\n"
      ],
      "text/plain": [
       "\n"
      ]
     },
     "metadata": {},
     "output_type": "display_data"
    },
    {
     "data": {
      "application/vnd.jupyter.widget-view+json": {
       "model_id": "f4c67cc25ff749d3ba9c343999ee463c",
       "version_major": 2,
       "version_minor": 0
      },
      "text/plain": [
       "Output()"
      ]
     },
     "metadata": {},
     "output_type": "display_data"
    },
    {
     "data": {
      "text/html": [
       "<pre style=\"white-space:pre;overflow-x:auto;line-height:normal;font-family:Menlo,'DejaVu Sans Mono',consolas,'Courier New',monospace\"></pre>\n"
      ],
      "text/plain": []
     },
     "metadata": {},
     "output_type": "display_data"
    },
    {
     "data": {
      "text/html": [
       "<pre style=\"white-space:pre;overflow-x:auto;line-height:normal;font-family:Menlo,'DejaVu Sans Mono',consolas,'Courier New',monospace\">\n",
       "</pre>\n"
      ],
      "text/plain": [
       "\n"
      ]
     },
     "metadata": {},
     "output_type": "display_data"
    },
    {
     "data": {
      "application/vnd.jupyter.widget-view+json": {
       "model_id": "372c08e526c248949cc41d0089ebb4ed",
       "version_major": 2,
       "version_minor": 0
      },
      "text/plain": [
       "Output()"
      ]
     },
     "metadata": {},
     "output_type": "display_data"
    },
    {
     "data": {
      "text/html": [
       "<pre style=\"white-space:pre;overflow-x:auto;line-height:normal;font-family:Menlo,'DejaVu Sans Mono',consolas,'Courier New',monospace\"></pre>\n"
      ],
      "text/plain": []
     },
     "metadata": {},
     "output_type": "display_data"
    },
    {
     "data": {
      "text/html": [
       "<pre style=\"white-space:pre;overflow-x:auto;line-height:normal;font-family:Menlo,'DejaVu Sans Mono',consolas,'Courier New',monospace\">\n",
       "</pre>\n"
      ],
      "text/plain": [
       "\n"
      ]
     },
     "metadata": {},
     "output_type": "display_data"
    },
    {
     "data": {
      "application/vnd.jupyter.widget-view+json": {
       "model_id": "8d0afd2c98cb4c8a8c7b04a9ad45acd1",
       "version_major": 2,
       "version_minor": 0
      },
      "text/plain": [
       "Output()"
      ]
     },
     "metadata": {},
     "output_type": "display_data"
    },
    {
     "data": {
      "text/html": [
       "<pre style=\"white-space:pre;overflow-x:auto;line-height:normal;font-family:Menlo,'DejaVu Sans Mono',consolas,'Courier New',monospace\"></pre>\n"
      ],
      "text/plain": []
     },
     "metadata": {},
     "output_type": "display_data"
    },
    {
     "data": {
      "text/html": [
       "<pre style=\"white-space:pre;overflow-x:auto;line-height:normal;font-family:Menlo,'DejaVu Sans Mono',consolas,'Courier New',monospace\">\n",
       "</pre>\n"
      ],
      "text/plain": [
       "\n"
      ]
     },
     "metadata": {},
     "output_type": "display_data"
    },
    {
     "name": "stdout",
     "output_type": "stream",
     "text": [
      "Running file 6: data_simulation_4.nc\n"
     ]
    },
    {
     "data": {
      "application/vnd.jupyter.widget-view+json": {
       "model_id": "b614bd3b5a65407fb36265a5e8cfe7ce",
       "version_major": 2,
       "version_minor": 0
      },
      "text/plain": [
       "Output()"
      ]
     },
     "metadata": {},
     "output_type": "display_data"
    },
    {
     "data": {
      "text/html": [
       "<pre style=\"white-space:pre;overflow-x:auto;line-height:normal;font-family:Menlo,'DejaVu Sans Mono',consolas,'Courier New',monospace\"></pre>\n"
      ],
      "text/plain": []
     },
     "metadata": {},
     "output_type": "display_data"
    },
    {
     "data": {
      "text/html": [
       "<pre style=\"white-space:pre;overflow-x:auto;line-height:normal;font-family:Menlo,'DejaVu Sans Mono',consolas,'Courier New',monospace\">\n",
       "</pre>\n"
      ],
      "text/plain": [
       "\n"
      ]
     },
     "metadata": {},
     "output_type": "display_data"
    },
    {
     "data": {
      "application/vnd.jupyter.widget-view+json": {
       "model_id": "92248ca4ae704dfea5fc9b089730129a",
       "version_major": 2,
       "version_minor": 0
      },
      "text/plain": [
       "Output()"
      ]
     },
     "metadata": {},
     "output_type": "display_data"
    },
    {
     "data": {
      "text/html": [
       "<pre style=\"white-space:pre;overflow-x:auto;line-height:normal;font-family:Menlo,'DejaVu Sans Mono',consolas,'Courier New',monospace\"></pre>\n"
      ],
      "text/plain": []
     },
     "metadata": {},
     "output_type": "display_data"
    },
    {
     "data": {
      "text/html": [
       "<pre style=\"white-space:pre;overflow-x:auto;line-height:normal;font-family:Menlo,'DejaVu Sans Mono',consolas,'Courier New',monospace\">\n",
       "</pre>\n"
      ],
      "text/plain": [
       "\n"
      ]
     },
     "metadata": {},
     "output_type": "display_data"
    },
    {
     "data": {
      "application/vnd.jupyter.widget-view+json": {
       "model_id": "b6ad5111665b42ee9ef05b55942f774d",
       "version_major": 2,
       "version_minor": 0
      },
      "text/plain": [
       "Output()"
      ]
     },
     "metadata": {},
     "output_type": "display_data"
    },
    {
     "data": {
      "text/html": [
       "<pre style=\"white-space:pre;overflow-x:auto;line-height:normal;font-family:Menlo,'DejaVu Sans Mono',consolas,'Courier New',monospace\"></pre>\n"
      ],
      "text/plain": []
     },
     "metadata": {},
     "output_type": "display_data"
    },
    {
     "data": {
      "text/html": [
       "<pre style=\"white-space:pre;overflow-x:auto;line-height:normal;font-family:Menlo,'DejaVu Sans Mono',consolas,'Courier New',monospace\">\n",
       "</pre>\n"
      ],
      "text/plain": [
       "\n"
      ]
     },
     "metadata": {},
     "output_type": "display_data"
    },
    {
     "data": {
      "application/vnd.jupyter.widget-view+json": {
       "model_id": "536bb9d0420f4876b2791403ddcdd0db",
       "version_major": 2,
       "version_minor": 0
      },
      "text/plain": [
       "Output()"
      ]
     },
     "metadata": {},
     "output_type": "display_data"
    },
    {
     "data": {
      "text/html": [
       "<pre style=\"white-space:pre;overflow-x:auto;line-height:normal;font-family:Menlo,'DejaVu Sans Mono',consolas,'Courier New',monospace\"></pre>\n"
      ],
      "text/plain": []
     },
     "metadata": {},
     "output_type": "display_data"
    },
    {
     "data": {
      "text/html": [
       "<pre style=\"white-space:pre;overflow-x:auto;line-height:normal;font-family:Menlo,'DejaVu Sans Mono',consolas,'Courier New',monospace\">\n",
       "</pre>\n"
      ],
      "text/plain": [
       "\n"
      ]
     },
     "metadata": {},
     "output_type": "display_data"
    },
    {
     "name": "stdout",
     "output_type": "stream",
     "text": [
      "Running file 7: data_simulation_8.nc\n"
     ]
    },
    {
     "data": {
      "application/vnd.jupyter.widget-view+json": {
       "model_id": "680797a061954a5daac217706722c100",
       "version_major": 2,
       "version_minor": 0
      },
      "text/plain": [
       "Output()"
      ]
     },
     "metadata": {},
     "output_type": "display_data"
    },
    {
     "data": {
      "text/html": [
       "<pre style=\"white-space:pre;overflow-x:auto;line-height:normal;font-family:Menlo,'DejaVu Sans Mono',consolas,'Courier New',monospace\"></pre>\n"
      ],
      "text/plain": []
     },
     "metadata": {},
     "output_type": "display_data"
    },
    {
     "data": {
      "text/html": [
       "<pre style=\"white-space:pre;overflow-x:auto;line-height:normal;font-family:Menlo,'DejaVu Sans Mono',consolas,'Courier New',monospace\">\n",
       "</pre>\n"
      ],
      "text/plain": [
       "\n"
      ]
     },
     "metadata": {},
     "output_type": "display_data"
    },
    {
     "data": {
      "application/vnd.jupyter.widget-view+json": {
       "model_id": "540c08532a7e4fcd913a567a84db0134",
       "version_major": 2,
       "version_minor": 0
      },
      "text/plain": [
       "Output()"
      ]
     },
     "metadata": {},
     "output_type": "display_data"
    },
    {
     "data": {
      "text/html": [
       "<pre style=\"white-space:pre;overflow-x:auto;line-height:normal;font-family:Menlo,'DejaVu Sans Mono',consolas,'Courier New',monospace\"></pre>\n"
      ],
      "text/plain": []
     },
     "metadata": {},
     "output_type": "display_data"
    },
    {
     "data": {
      "text/html": [
       "<pre style=\"white-space:pre;overflow-x:auto;line-height:normal;font-family:Menlo,'DejaVu Sans Mono',consolas,'Courier New',monospace\">\n",
       "</pre>\n"
      ],
      "text/plain": [
       "\n"
      ]
     },
     "metadata": {},
     "output_type": "display_data"
    },
    {
     "data": {
      "application/vnd.jupyter.widget-view+json": {
       "model_id": "986b6ef53ea8452bb42745689f2f5491",
       "version_major": 2,
       "version_minor": 0
      },
      "text/plain": [
       "Output()"
      ]
     },
     "metadata": {},
     "output_type": "display_data"
    },
    {
     "data": {
      "text/html": [
       "<pre style=\"white-space:pre;overflow-x:auto;line-height:normal;font-family:Menlo,'DejaVu Sans Mono',consolas,'Courier New',monospace\"></pre>\n"
      ],
      "text/plain": []
     },
     "metadata": {},
     "output_type": "display_data"
    },
    {
     "data": {
      "text/html": [
       "<pre style=\"white-space:pre;overflow-x:auto;line-height:normal;font-family:Menlo,'DejaVu Sans Mono',consolas,'Courier New',monospace\">\n",
       "</pre>\n"
      ],
      "text/plain": [
       "\n"
      ]
     },
     "metadata": {},
     "output_type": "display_data"
    },
    {
     "data": {
      "application/vnd.jupyter.widget-view+json": {
       "model_id": "c5f06e014b844c478410d945d8739fee",
       "version_major": 2,
       "version_minor": 0
      },
      "text/plain": [
       "Output()"
      ]
     },
     "metadata": {},
     "output_type": "display_data"
    },
    {
     "data": {
      "text/html": [
       "<pre style=\"white-space:pre;overflow-x:auto;line-height:normal;font-family:Menlo,'DejaVu Sans Mono',consolas,'Courier New',monospace\"></pre>\n"
      ],
      "text/plain": []
     },
     "metadata": {},
     "output_type": "display_data"
    },
    {
     "data": {
      "text/html": [
       "<pre style=\"white-space:pre;overflow-x:auto;line-height:normal;font-family:Menlo,'DejaVu Sans Mono',consolas,'Courier New',monospace\">\n",
       "</pre>\n"
      ],
      "text/plain": [
       "\n"
      ]
     },
     "metadata": {},
     "output_type": "display_data"
    },
    {
     "name": "stdout",
     "output_type": "stream",
     "text": [
      "Running file 8: data_simulation_6.nc\n"
     ]
    },
    {
     "data": {
      "application/vnd.jupyter.widget-view+json": {
       "model_id": "cfed3f3675804022b15706374b167bd1",
       "version_major": 2,
       "version_minor": 0
      },
      "text/plain": [
       "Output()"
      ]
     },
     "metadata": {},
     "output_type": "display_data"
    },
    {
     "data": {
      "text/html": [
       "<pre style=\"white-space:pre;overflow-x:auto;line-height:normal;font-family:Menlo,'DejaVu Sans Mono',consolas,'Courier New',monospace\"></pre>\n"
      ],
      "text/plain": []
     },
     "metadata": {},
     "output_type": "display_data"
    },
    {
     "data": {
      "text/html": [
       "<pre style=\"white-space:pre;overflow-x:auto;line-height:normal;font-family:Menlo,'DejaVu Sans Mono',consolas,'Courier New',monospace\">\n",
       "</pre>\n"
      ],
      "text/plain": [
       "\n"
      ]
     },
     "metadata": {},
     "output_type": "display_data"
    },
    {
     "data": {
      "application/vnd.jupyter.widget-view+json": {
       "model_id": "25a34e8978484275876b83a39444a2f6",
       "version_major": 2,
       "version_minor": 0
      },
      "text/plain": [
       "Output()"
      ]
     },
     "metadata": {},
     "output_type": "display_data"
    },
    {
     "data": {
      "text/html": [
       "<pre style=\"white-space:pre;overflow-x:auto;line-height:normal;font-family:Menlo,'DejaVu Sans Mono',consolas,'Courier New',monospace\"></pre>\n"
      ],
      "text/plain": []
     },
     "metadata": {},
     "output_type": "display_data"
    },
    {
     "data": {
      "text/html": [
       "<pre style=\"white-space:pre;overflow-x:auto;line-height:normal;font-family:Menlo,'DejaVu Sans Mono',consolas,'Courier New',monospace\">\n",
       "</pre>\n"
      ],
      "text/plain": [
       "\n"
      ]
     },
     "metadata": {},
     "output_type": "display_data"
    },
    {
     "data": {
      "application/vnd.jupyter.widget-view+json": {
       "model_id": "f36fef430bf24424b5ff7739c6d2c08c",
       "version_major": 2,
       "version_minor": 0
      },
      "text/plain": [
       "Output()"
      ]
     },
     "metadata": {},
     "output_type": "display_data"
    },
    {
     "data": {
      "text/html": [
       "<pre style=\"white-space:pre;overflow-x:auto;line-height:normal;font-family:Menlo,'DejaVu Sans Mono',consolas,'Courier New',monospace\"></pre>\n"
      ],
      "text/plain": []
     },
     "metadata": {},
     "output_type": "display_data"
    },
    {
     "data": {
      "text/html": [
       "<pre style=\"white-space:pre;overflow-x:auto;line-height:normal;font-family:Menlo,'DejaVu Sans Mono',consolas,'Courier New',monospace\">\n",
       "</pre>\n"
      ],
      "text/plain": [
       "\n"
      ]
     },
     "metadata": {},
     "output_type": "display_data"
    },
    {
     "data": {
      "application/vnd.jupyter.widget-view+json": {
       "model_id": "69cb66ac49e74c9c97afc1a00c4828da",
       "version_major": 2,
       "version_minor": 0
      },
      "text/plain": [
       "Output()"
      ]
     },
     "metadata": {},
     "output_type": "display_data"
    },
    {
     "data": {
      "text/html": [
       "<pre style=\"white-space:pre;overflow-x:auto;line-height:normal;font-family:Menlo,'DejaVu Sans Mono',consolas,'Courier New',monospace\"></pre>\n"
      ],
      "text/plain": []
     },
     "metadata": {},
     "output_type": "display_data"
    },
    {
     "data": {
      "text/html": [
       "<pre style=\"white-space:pre;overflow-x:auto;line-height:normal;font-family:Menlo,'DejaVu Sans Mono',consolas,'Courier New',monospace\">\n",
       "</pre>\n"
      ],
      "text/plain": [
       "\n"
      ]
     },
     "metadata": {},
     "output_type": "display_data"
    },
    {
     "name": "stdout",
     "output_type": "stream",
     "text": [
      "Running file 9: data_simulation_2.nc\n"
     ]
    },
    {
     "data": {
      "application/vnd.jupyter.widget-view+json": {
       "model_id": "8aafaba972504811aa661393a3425ee3",
       "version_major": 2,
       "version_minor": 0
      },
      "text/plain": [
       "Output()"
      ]
     },
     "metadata": {},
     "output_type": "display_data"
    },
    {
     "data": {
      "text/html": [
       "<pre style=\"white-space:pre;overflow-x:auto;line-height:normal;font-family:Menlo,'DejaVu Sans Mono',consolas,'Courier New',monospace\"></pre>\n"
      ],
      "text/plain": []
     },
     "metadata": {},
     "output_type": "display_data"
    },
    {
     "data": {
      "text/html": [
       "<pre style=\"white-space:pre;overflow-x:auto;line-height:normal;font-family:Menlo,'DejaVu Sans Mono',consolas,'Courier New',monospace\">\n",
       "</pre>\n"
      ],
      "text/plain": [
       "\n"
      ]
     },
     "metadata": {},
     "output_type": "display_data"
    },
    {
     "data": {
      "application/vnd.jupyter.widget-view+json": {
       "model_id": "364e2e8522564c82b88c443188033a6a",
       "version_major": 2,
       "version_minor": 0
      },
      "text/plain": [
       "Output()"
      ]
     },
     "metadata": {},
     "output_type": "display_data"
    },
    {
     "data": {
      "text/html": [
       "<pre style=\"white-space:pre;overflow-x:auto;line-height:normal;font-family:Menlo,'DejaVu Sans Mono',consolas,'Courier New',monospace\"></pre>\n"
      ],
      "text/plain": []
     },
     "metadata": {},
     "output_type": "display_data"
    },
    {
     "data": {
      "text/html": [
       "<pre style=\"white-space:pre;overflow-x:auto;line-height:normal;font-family:Menlo,'DejaVu Sans Mono',consolas,'Courier New',monospace\">\n",
       "</pre>\n"
      ],
      "text/plain": [
       "\n"
      ]
     },
     "metadata": {},
     "output_type": "display_data"
    },
    {
     "data": {
      "application/vnd.jupyter.widget-view+json": {
       "model_id": "95344888388547c2a7d85f066b01e85e",
       "version_major": 2,
       "version_minor": 0
      },
      "text/plain": [
       "Output()"
      ]
     },
     "metadata": {},
     "output_type": "display_data"
    },
    {
     "data": {
      "text/html": [
       "<pre style=\"white-space:pre;overflow-x:auto;line-height:normal;font-family:Menlo,'DejaVu Sans Mono',consolas,'Courier New',monospace\"></pre>\n"
      ],
      "text/plain": []
     },
     "metadata": {},
     "output_type": "display_data"
    },
    {
     "data": {
      "text/html": [
       "<pre style=\"white-space:pre;overflow-x:auto;line-height:normal;font-family:Menlo,'DejaVu Sans Mono',consolas,'Courier New',monospace\">\n",
       "</pre>\n"
      ],
      "text/plain": [
       "\n"
      ]
     },
     "metadata": {},
     "output_type": "display_data"
    },
    {
     "data": {
      "application/vnd.jupyter.widget-view+json": {
       "model_id": "d2074f07f76f4cd8b65c4126df0d1eb8",
       "version_major": 2,
       "version_minor": 0
      },
      "text/plain": [
       "Output()"
      ]
     },
     "metadata": {},
     "output_type": "display_data"
    },
    {
     "data": {
      "text/html": [
       "<pre style=\"white-space:pre;overflow-x:auto;line-height:normal;font-family:Menlo,'DejaVu Sans Mono',consolas,'Courier New',monospace\"></pre>\n"
      ],
      "text/plain": []
     },
     "metadata": {},
     "output_type": "display_data"
    },
    {
     "data": {
      "text/html": [
       "<pre style=\"white-space:pre;overflow-x:auto;line-height:normal;font-family:Menlo,'DejaVu Sans Mono',consolas,'Courier New',monospace\">\n",
       "</pre>\n"
      ],
      "text/plain": [
       "\n"
      ]
     },
     "metadata": {},
     "output_type": "display_data"
    },
    {
     "name": "stdout",
     "output_type": "stream",
     "text": [
      "Running file 10: data_simulation_5.nc\n"
     ]
    },
    {
     "data": {
      "application/vnd.jupyter.widget-view+json": {
       "model_id": "308d51ecdcd244e68582df8f5322b51b",
       "version_major": 2,
       "version_minor": 0
      },
      "text/plain": [
       "Output()"
      ]
     },
     "metadata": {},
     "output_type": "display_data"
    },
    {
     "data": {
      "text/html": [
       "<pre style=\"white-space:pre;overflow-x:auto;line-height:normal;font-family:Menlo,'DejaVu Sans Mono',consolas,'Courier New',monospace\"></pre>\n"
      ],
      "text/plain": []
     },
     "metadata": {},
     "output_type": "display_data"
    },
    {
     "data": {
      "text/html": [
       "<pre style=\"white-space:pre;overflow-x:auto;line-height:normal;font-family:Menlo,'DejaVu Sans Mono',consolas,'Courier New',monospace\">\n",
       "</pre>\n"
      ],
      "text/plain": [
       "\n"
      ]
     },
     "metadata": {},
     "output_type": "display_data"
    },
    {
     "data": {
      "application/vnd.jupyter.widget-view+json": {
       "model_id": "44632ad769c14a009c2ce3ad7eaf5f8c",
       "version_major": 2,
       "version_minor": 0
      },
      "text/plain": [
       "Output()"
      ]
     },
     "metadata": {},
     "output_type": "display_data"
    },
    {
     "data": {
      "text/html": [
       "<pre style=\"white-space:pre;overflow-x:auto;line-height:normal;font-family:Menlo,'DejaVu Sans Mono',consolas,'Courier New',monospace\"></pre>\n"
      ],
      "text/plain": []
     },
     "metadata": {},
     "output_type": "display_data"
    },
    {
     "data": {
      "text/html": [
       "<pre style=\"white-space:pre;overflow-x:auto;line-height:normal;font-family:Menlo,'DejaVu Sans Mono',consolas,'Courier New',monospace\">\n",
       "</pre>\n"
      ],
      "text/plain": [
       "\n"
      ]
     },
     "metadata": {},
     "output_type": "display_data"
    },
    {
     "data": {
      "application/vnd.jupyter.widget-view+json": {
       "model_id": "77c6ea5eccbc4b27a3b69a095915632f",
       "version_major": 2,
       "version_minor": 0
      },
      "text/plain": [
       "Output()"
      ]
     },
     "metadata": {},
     "output_type": "display_data"
    },
    {
     "data": {
      "text/html": [
       "<pre style=\"white-space:pre;overflow-x:auto;line-height:normal;font-family:Menlo,'DejaVu Sans Mono',consolas,'Courier New',monospace\"></pre>\n"
      ],
      "text/plain": []
     },
     "metadata": {},
     "output_type": "display_data"
    },
    {
     "data": {
      "text/html": [
       "<pre style=\"white-space:pre;overflow-x:auto;line-height:normal;font-family:Menlo,'DejaVu Sans Mono',consolas,'Courier New',monospace\">\n",
       "</pre>\n"
      ],
      "text/plain": [
       "\n"
      ]
     },
     "metadata": {},
     "output_type": "display_data"
    },
    {
     "data": {
      "application/vnd.jupyter.widget-view+json": {
       "model_id": "dd9b3dc043114ddfa5de70b77b94c33d",
       "version_major": 2,
       "version_minor": 0
      },
      "text/plain": [
       "Output()"
      ]
     },
     "metadata": {},
     "output_type": "display_data"
    },
    {
     "data": {
      "text/html": [
       "<pre style=\"white-space:pre;overflow-x:auto;line-height:normal;font-family:Menlo,'DejaVu Sans Mono',consolas,'Courier New',monospace\"></pre>\n"
      ],
      "text/plain": []
     },
     "metadata": {},
     "output_type": "display_data"
    },
    {
     "data": {
      "text/html": [
       "<pre style=\"white-space:pre;overflow-x:auto;line-height:normal;font-family:Menlo,'DejaVu Sans Mono',consolas,'Courier New',monospace\">\n",
       "</pre>\n"
      ],
      "text/plain": [
       "\n"
      ]
     },
     "metadata": {},
     "output_type": "display_data"
    }
   ],
   "source": [
    "# Nome do arquivo ZIP\n",
    "zip_filename = \"simulations_9k_grains_per_mm3.zip\"\n",
    "output_folder = \"csv_files_9k_grains_per_mm3\"\n",
    "os.makedirs(output_folder, exist_ok=True)\n",
    "\n",
    "\n",
    "# Abrir o arquivo ZIP e listar os arquivos dentro dele\n",
    "with zipfile.ZipFile(zip_filename, \"r\") as zipf:\n",
    "    # Listar os nomes dos arquivos NetCDF no ZIP\n",
    "    netcdf_files = [name for name in zipf.namelist() if name.endswith(\".nc\")]\n",
    "    # print(f\"Arquivos encontrados no ZIP: {netcdf_files}\")\n",
    "    \n",
    "    # Iterar sobre todos os arquivos NetCDF no ZIP\n",
    "    for i, nc_file in enumerate(netcdf_files):\n",
    "        with zipf.open(nc_file) as file:\n",
    "            print(f\"Running file {i+1}: {nc_file}\")\n",
    "            data = xr.open_dataset(file)\n",
    "            \n",
    "            x_, y_ = np.meshgrid(data.x.values, data.y.values)\n",
    "            coordinates = ([x_, y_ , data.z.values])\n",
    "\n",
    "            # Run the code\n",
    "            data_copy = data.copy(deep=True)\n",
    "            data_copy2 = data_copy.copy(deep=True)\n",
    "\n",
    "            height_difference = 5\n",
    "            \n",
    "            # Have to assign the same points as the data because the Harmonica\n",
    "            # transforms give slightly different coordinates due to round-off.\n",
    "            # This is a bug and is being worked on.\n",
    "            data_up = (\n",
    "                hm.upward_continuation(data.bz, height_difference)\n",
    "                .assign_attrs(data.bz.attrs)\n",
    "                .to_dataset(name=\"bz\")\n",
    "                .assign_coords(x=data.x, y=data.y)\n",
    "                .assign_coords(z=data.z + height_difference)\n",
    "            )\n",
    "            data_up = data_up.assign(mg.data_gradients(data_up.bz))\n",
    "            \n",
    "            stretched = skimage.exposure.rescale_intensity(\n",
    "                data_up.tga, \n",
    "                in_range=tuple(np.percentile(data_up.tga, (1, 99))),\n",
    "            )\n",
    "            data_up = data_up.assign(tga_stretched=xr.DataArray(stretched, coords=data_up.coords))\n",
    "\n",
    "\n",
    "            windows = mg.detect_anomalies(\n",
    "                data_up.tga_stretched, \n",
    "                size_range=[20, 150],\n",
    "                size_increment=1.0,\n",
    "                threshold=0.05,\n",
    "                overlap=0.0,\n",
    "                exclude_border=15\n",
    "            )\n",
    "            \n",
    "            ## Standard method\n",
    "            positions = []\n",
    "            estimated_dipole_moments = []\n",
    "            estimated_stds = []\n",
    "            calculated_r2 = []\n",
    "            calculated_SNR = []\n",
    "            windows_filtered = []\n",
    "            base_levels = []\n",
    "            for window in windows:\n",
    "                anomaly = data_up.sel(x=slice(*window[:2]), y=slice(*window[2:]))\n",
    "                position, base_level = mg.euler_deconvolution(\n",
    "                    anomaly.bz, \n",
    "                    anomaly.x_deriv, \n",
    "                    anomaly.y_deriv, \n",
    "                    anomaly.z_deriv,\n",
    "                )\n",
    "                \n",
    "                data_minus_background = anomaly.bz.values - base_level\n",
    "                anomaly = anomaly.assign(data_minus_background=(['y','x'], data_minus_background))\n",
    "                anomaly.data_minus_background.attrs = {\"long_name\": \"dipole-model\", \"units\": \"nT\"}\n",
    "            \n",
    "                moment, covariance, r2, SNR = mg.dipole_moment_inversion(\n",
    "                    anomaly.data_minus_background, position,\n",
    "                )\n",
    "                \n",
    "                bad_euler = False # position[2] > 0\n",
    "                poor_fit = False\n",
    "                \n",
    "                if bad_euler or poor_fit:\n",
    "                    continue\n",
    "                positions.append(position)  \n",
    "                estimated_dipole_moments.append(moment)\n",
    "                estimated_stds.append(mg.covariance_to_angle_std(moment, covariance))\n",
    "                calculated_r2.append(r2)\n",
    "                calculated_SNR.append(SNR)\n",
    "                windows_filtered.append(window)\n",
    "                base_levels.append(base_level)\n",
    "            positions = np.transpose(positions)\n",
    "            \n",
    "            #### IF NEEDED INSERT HERE THE MISFITS CALC FOR THE STANDARD METHOD #######\n",
    "            ##\n",
    "            #### IF NEEDED INSERT HERE THE MISFITS CALC FOR THE STANDARD METHOD #######\n",
    "    \n",
    "            \n",
    "            ## Iterative Method\n",
    "            warnings.filterwarnings(\"ignore\")\n",
    "            \n",
    "            x_concat = []\n",
    "            y_concat = []\n",
    "            z_concat = []\n",
    "            bz_concat = []\n",
    "            xc_concat = []\n",
    "            yc_concat = []\n",
    "            zc_concat = []\n",
    "            z_deriv_concat = []\n",
    "            \n",
    "            estimated_dipole_moments_itr_euler = []\n",
    "            \n",
    "            # fitting parameters\n",
    "            calculated_r2_itr_euler = []\n",
    "            calculated_SNR_itr_euler = []\n",
    "            \n",
    "            data_copy = data.copy(deep=True)\n",
    "            data_up_copy = data_up.copy(deep=True)\n",
    "            \n",
    "            #################################\n",
    "            for window in rich.progress.track(np.array(windows), total = len(np.array(windows))):\n",
    "                anomaly = data_up_copy.sel(x=slice(*window[:2]), y=slice(*window[2:]))\n",
    "                position, base_level = mg.euler_deconvolution(\n",
    "                    anomaly.bz, \n",
    "                    anomaly.x_deriv, \n",
    "                    anomaly.y_deriv, \n",
    "                    anomaly.z_deriv,\n",
    "                )\n",
    "                \n",
    "                data_minus_background = anomaly.bz.values - base_level \n",
    "                anomaly = anomaly.assign(data_minus_background=(['y','x'], data_minus_background))\n",
    "                anomaly.data_minus_background.attrs = {\"long_name\": \"dipole-model\", \"units\": \"nT\"}\n",
    "            \n",
    "                \n",
    "                moment, covariance, r2, SNR = mg.dipole_moment_inversion(anomaly.data_minus_background, position)\n",
    "            \n",
    "                ## SCIPY MINIMIZATION\n",
    "                anomaly_table=vd.grid_to_table(anomaly)\n",
    "                amplitude = np.linalg.norm(moment)\n",
    "                args=(data_minus_background.ravel(), \n",
    "                     ( anomaly_table.x.values,\n",
    "                       anomaly_table.y.values, \n",
    "                       anomaly.z.values.ravel()),\n",
    "                      amplitude, position[0], position[1], position[2])\n",
    "                \n",
    "                minimization=sp.optimize.minimize(goal_function, (1, 1, 1,\n",
    "                                                                  moment[0]/amplitude,\n",
    "                                                                  moment[1]/amplitude,\n",
    "                                                                  moment[2]/amplitude),\n",
    "                                                  \n",
    "                                                  args=args,\n",
    "                                                  \n",
    "                                                    method='Nelder-Mead', options=dict(fatol=1.0e-8))\n",
    "                \n",
    "                if minimization.success:\n",
    "                    \n",
    "                    moment = np.array([minimization['x'][3], minimization['x'][4], minimization['x'][5]])*amplitude\n",
    "                    position = np.array([minimization['x'][0]*position[0], \n",
    "                                         minimization['x'][1]*position[1],\n",
    "                                         minimization['x'][2]*position[2]])\n",
    "                    xxx, yyy = np.meshgrid(anomaly.x.values, anomaly.y.values)\n",
    "                    zzz = anomaly.z.values.ravel()\n",
    "                    pred = mg.dipole_bz([xxx, yyy, zzz], \n",
    "                              position,\n",
    "                              moment\n",
    "                             )\n",
    "                    \n",
    "                    residuals = data_minus_background.ravel() - pred.ravel()\n",
    "                    residuals_sum_sq = np.sum(residuals**2)\n",
    "                    r2 = 1 - residuals_sum_sq / np.linalg.norm(data_minus_background.ravel() - np.mean(data_minus_background.ravel())) ** 2\n",
    "                \n",
    "            \n",
    "                estimated_dipole_moments_itr_euler.append(moment)\n",
    "                \n",
    "                #########\n",
    "                \n",
    "                discard = mg.dipole_bz(coordinates, position, moment)\n",
    "            \n",
    "                data_copy.bz.values -= discard\n",
    "                \n",
    "                data_up_copy = (\n",
    "                            hm.upward_continuation(data_copy.bz, height_difference)\n",
    "                            .assign_attrs(data_copy.bz.attrs)\n",
    "                            .to_dataset(name=\"bz\")\n",
    "                            .assign_coords(x=data_copy.x, y=data_copy.y)\n",
    "                            .assign_coords(z=data_copy.z + height_difference)\n",
    "                               )\n",
    "                \n",
    "                \n",
    "                data_up_copy = data_up_copy.assign(mg.data_gradients(data_up_copy.bz))\n",
    "                \n",
    "                \n",
    "                ########\n",
    "                bad_euler = False #position[2] > 0.0\n",
    "                poor_fit =  False # r2 < 0.85  \n",
    "            \n",
    "                if bad_euler or poor_fit:\n",
    "                    continue\n",
    "                xx, yy = np.meshgrid(anomaly.x.values, anomaly.y.values)\n",
    "                x_concat = np.append(x_concat, xx)\n",
    "                y_concat = np.append(y_concat, yy)    \n",
    "                z_concat = np.append(z_concat, anomaly.z.values)\n",
    "                bz_concat = np.append(bz_concat, anomaly.bz.values)\n",
    "                z_deriv_concat = np.append(z_deriv_concat, anomaly.z_deriv.values)\n",
    "                xc_concat = np.append(xc_concat, position[0])\n",
    "                yc_concat = np.append(yc_concat, position[1])\n",
    "                zc_concat = np.append(zc_concat, position[2])\n",
    "                calculated_r2_itr_euler = np.append(calculated_r2_itr_euler, r2)\n",
    "                calculated_SNR_itr_euler = np.append(calculated_SNR_itr_euler, SNR)\n",
    "            \n",
    "            df = pd.DataFrame({'x':x_concat,\n",
    "                               'y':y_concat,\n",
    "                               'z':z_concat,\n",
    "                              'bz':bz_concat,\n",
    "                             'z_deriv':z_deriv_concat})\n",
    "            \n",
    "            positions_itr = np.array([xc_concat, yc_concat, zc_concat])\n",
    "            \n",
    "            \n",
    "            \n",
    "            ## EULER ENHANCEMENT SECOND STEP\n",
    "            warnings.filterwarnings(\"ignore\")\n",
    "            data_copy = data.copy(deep=True)\n",
    "            euler_r2_itr_cond = calculated_r2_itr_euler>=0.975\n",
    "            \n",
    "            zc_concat_temp = list()\n",
    "            xc_concat_temp = list()\n",
    "            yc_concat_temp = list()\n",
    "            \n",
    "            estimated_dipole_moments_itr_euler_temp = list()\n",
    "            \n",
    "            indexes = np.where(np.array(euler_r2_itr_cond))[0]\n",
    "            # SOURCES WITH R2 >= 0.99 ARE NOT ENHANCED, WE CALCULATE THEIR ANOMALY AND REMOVE THEM FROM THE DATA SET\n",
    "            # for index, window in enumerate(rich.progress.track(np.array(windows)[euler_r2_itr_cond], total=len(np.array(windows)[euler_r2_itr_cond]))):\n",
    "            for index in rich.progress.track(indexes, total=len(indexes)):\n",
    "                window = windows[index]\n",
    "                position = positions_itr[:, index]\n",
    "                estimated_dipole_moments_itr_euler_temp.append(estimated_dipole_moments_itr_euler[index])\n",
    "                xc_concat_temp = np.append(xc_concat_temp, position[0])\n",
    "                yc_concat_temp = np.append(yc_concat_temp, position[1])\n",
    "                zc_concat_temp = np.append(zc_concat_temp, position[2])  \n",
    "            \n",
    "                \n",
    "            # remove all signals \n",
    "            position_temp = np.array([xc_concat_temp, yc_concat_temp, zc_concat_temp])\n",
    "            discard = mg.dipole_bz(coordinates, position_temp, estimated_dipole_moments_itr_euler_temp)\n",
    "            data_copy.bz.values -= discard\n",
    "            \n",
    "            data_up_copy = (\n",
    "                        hm.upward_continuation(data_copy.bz, height_difference)\n",
    "                        .assign_attrs(data_copy.bz.attrs)\n",
    "                        .to_dataset(name=\"bz\")\n",
    "                        .assign_coords(x=data_copy.x, y=data_copy.y)\n",
    "                        .assign_coords(z=data_copy.z + height_difference)\n",
    "                           )\n",
    "            \n",
    "            \n",
    "            data_up_copy = data_up_copy.assign(mg.data_gradients(data_up_copy.bz))\n",
    "            \n",
    "            \n",
    "            # SOURCES WITH R2 <= 0.99 ARE ENHANCED\n",
    "            indexes = np.where(~np.array(euler_r2_itr_cond))[0]\n",
    "            # for index, window in enumerate(rich.progress.track(np.array(windows)[~euler_r2_itr_cond], total=len(np.array(windows)[~euler_r2_itr_cond]))):\n",
    "            for index in rich.progress.track(indexes, total=len(indexes)):\n",
    "                window = windows[index]\n",
    "                anomaly = data_up_copy.sel(x=slice(*window[:2]), y=slice(*window[2:]))\n",
    "                position, base_level = mg.euler_deconvolution(\n",
    "                    anomaly.bz, \n",
    "                    anomaly.x_deriv, \n",
    "                    anomaly.y_deriv, \n",
    "                    anomaly.z_deriv,\n",
    "                )\n",
    "                data_minus_background = anomaly.bz.values - base_level \n",
    "                anomaly = anomaly.assign(data_minus_background=(['y','x'], data_minus_background))\n",
    "                anomaly.data_minus_background.attrs = {\"long_name\": \"dipole-model\", \"units\": \"nT\"}\n",
    "                \n",
    "                moment, covariance, r2, SNR = mg.dipole_moment_inversion(anomaly.data_minus_background, position)\n",
    "            \n",
    "            \n",
    "            \n",
    "                ## SCIPY MINIMIZATION\n",
    "                anomaly_table=vd.grid_to_table(anomaly)\n",
    "                amplitude = np.linalg.norm(moment)\n",
    "                args=(data_minus_background.ravel(), \n",
    "                     ( anomaly_table.x.values,\n",
    "                       anomaly_table.y.values, \n",
    "                       anomaly.z.values.ravel()),\n",
    "                      amplitude, position[0], position[1], position[2])\n",
    "                \n",
    "                minimization=sp.optimize.minimize(goal_function, (1, 1, 1,\n",
    "                                                                  moment[0]/amplitude,\n",
    "                                                                  moment[1]/amplitude,\n",
    "                                                                  moment[2]/amplitude),\n",
    "                                                  \n",
    "                                                  args=args,\n",
    "                                                  \n",
    "                                                    method='Nelder-Mead', options=dict(fatol=1.0e-8))\n",
    "                \n",
    "                if minimization.success:\n",
    "                    \n",
    "                    moment = np.array([minimization['x'][3], minimization['x'][4], minimization['x'][5]])*amplitude\n",
    "                    position = np.array([minimization['x'][0]*position[0], \n",
    "                                         minimization['x'][1]*position[1],\n",
    "                                         minimization['x'][2]*position[2]])\n",
    "                    xxx, yyy = np.meshgrid(anomaly.x.values, anomaly.y.values)\n",
    "                    zzz = anomaly.z.values.ravel()\n",
    "                    pred = mg.dipole_bz([xxx, yyy, zzz], \n",
    "                              position,\n",
    "                              moment\n",
    "                             )\n",
    "                    \n",
    "                    residuals = data_minus_background.ravel() - pred.ravel()\n",
    "                    residuals_sum_sq = np.sum(residuals**2)\n",
    "                    r2 = 1 - residuals_sum_sq / np.linalg.norm(data_minus_background.ravel() - np.mean(data_minus_background.ravel())) ** 2\n",
    "                    \n",
    "                    if r2 >= calculated_r2_itr_euler[index]:\n",
    "                        estimated_dipole_moments_itr_euler[index] = moment\n",
    "                        positions_itr[:, index] = position\n",
    "                \n",
    "                discard = mg.dipole_bz(coordinates, position, moment)\n",
    "            \n",
    "                data_copy.bz.values -= discard\n",
    "            \n",
    "                data_up_copy = (\n",
    "                            hm.upward_continuation(data_copy.bz, height_difference)\n",
    "                            .assign_attrs(data_copy.bz.attrs)\n",
    "                            .to_dataset(name=\"bz\")\n",
    "                            .assign_coords(x=data_copy.x, y=data_copy.y)\n",
    "                            .assign_coords(z=data_copy.z + height_difference)\n",
    "                               )\n",
    "                \n",
    "                \n",
    "                data_up_copy = data_up_copy.assign(mg.data_gradients(data_up_copy.bz))\n",
    "            \n",
    "            \n",
    "            \n",
    "            #### IF NEEDED INSERT HERE THE MISFITS CALC FOR THE ITERATIVE METHOD #######\n",
    "            ##\n",
    "            #### IF NEEDED INSERT HERE THE MISFITS CALC FOR THE ITERATIVE METHOD #######\n",
    "            \n",
    "            \n",
    "            ## RE RUN THE RESIDUAL TO FIND MORE SOURCES\n",
    "            data_up_copy = (\n",
    "                        hm.upward_continuation(data_copy.bz, height_difference)\n",
    "                        .assign_attrs(data_copy.bz.attrs)\n",
    "                        .to_dataset(name=\"bz\")\n",
    "                        .assign_coords(x=data_copy.x, y=data_copy.y)\n",
    "                        .assign_coords(z=data_copy.z + height_difference)\n",
    "                           )\n",
    "            \n",
    "            data_up_copy = data_up_copy.assign(mg.data_gradients(data_up_copy.bz))\n",
    "            \n",
    "            stretched = skimage.exposure.rescale_intensity(\n",
    "                data_up_copy.tga, \n",
    "                in_range=tuple(np.percentile(data_up_copy.tga, (1, 99))),\n",
    "            )\n",
    "            data_up_copy = data_up_copy.assign(tga_stretched=xr.DataArray(stretched, coords=data_up.coords))\n",
    "            \n",
    "            windows_new = mg.detect_anomalies(\n",
    "                data_up_copy.tga_stretched, \n",
    "                size_range=[20,150],\n",
    "                size_increment=1.3,\n",
    "                threshold=0.02,\n",
    "                overlap=0.0,\n",
    "                exclude_border=15\n",
    "            )\n",
    "            \n",
    "            def intersects(window1, window2):\n",
    "                # Verifica se há sobreposição horizontal\n",
    "                horizontal_overlap = (window1[0] <= window2[1]) and (window2[0] <= window1[1])\n",
    "                # Verifica se há sobreposição vertical\n",
    "                vertical_overlap = (window1[2] <= window2[3]) and (window2[2] <= window1[3])\n",
    "                return horizontal_overlap and vertical_overlap\n",
    "                \n",
    "            \n",
    "            # Remove overlapping windows\n",
    "            non_overlapping_windows = np.copy(windows_new)\n",
    "            \n",
    "            for window in windows:\n",
    "                non_overlapping_windows = [nw for nw in non_overlapping_windows if not intersects(nw, window)]\n",
    "            \n",
    "            \n",
    "            data_copy_2 = data_copy.copy(deep=True)\n",
    "            data_up_copy_2 = data_up_copy.copy(deep=True)\n",
    "            \n",
    "            positions_itr_enhanced = list(np.copy(positions_itr))\n",
    "            estimated_dipole_moments_itr_euler_enhanced = list(np.copy(estimated_dipole_moments_itr_euler))\n",
    "            windows_enhanced = list(np.copy(windows))\n",
    "            calculated_r2_itr_euler_enhanced = list(np.copy(calculated_r2_itr_euler))\n",
    "            \n",
    "            #################################\n",
    "            for window in rich.progress.track(np.array(non_overlapping_windows), total = len(np.array(non_overlapping_windows))):\n",
    "                anomaly = data_up_copy_2.sel(x=slice(*window[:2]), y=slice(*window[2:]))\n",
    "                position, base_level = mg.euler_deconvolution(\n",
    "                    anomaly.bz, \n",
    "                    anomaly.x_deriv, \n",
    "                    anomaly.y_deriv, \n",
    "                    anomaly.z_deriv,\n",
    "                )\n",
    "                \n",
    "                data_minus_background = anomaly.bz.values - base_level \n",
    "                anomaly = anomaly.assign(data_minus_background=(['y','x'], data_minus_background))\n",
    "                anomaly.data_minus_background.attrs = {\"long_name\": \"dipole-model\", \"units\": \"nT\"}\n",
    "            \n",
    "                \n",
    "                moment, covariance, r2, SNR = mg.dipole_moment_inversion(anomaly.data_minus_background, position)\n",
    "            \n",
    "                ## SCIPY MINIMIZATION\n",
    "                anomaly_table=vd.grid_to_table(anomaly)\n",
    "                amplitude = np.linalg.norm(moment)\n",
    "                args=(data_minus_background.ravel(), \n",
    "                     ( anomaly_table.x.values,\n",
    "                       anomaly_table.y.values, \n",
    "                       anomaly.z.values.ravel()),\n",
    "                      amplitude, position[0], position[1], position[2])\n",
    "                \n",
    "                minimization=sp.optimize.minimize(goal_function, (1, 1, 1,\n",
    "                                                                  moment[0]/amplitude,\n",
    "                                                                  moment[1]/amplitude,\n",
    "                                                                  moment[2]/amplitude),\n",
    "                                                  \n",
    "                                                  args=args,\n",
    "                                                  \n",
    "                                                    method='Nelder-Mead', options=dict(fatol=1.0e-8))\n",
    "                \n",
    "                if minimization.success:\n",
    "                    \n",
    "                    moment = np.array([minimization['x'][3], minimization['x'][4], minimization['x'][5]])*amplitude\n",
    "                    position = np.array([minimization['x'][0]*position[0], \n",
    "                                         minimization['x'][1]*position[1],\n",
    "                                         minimization['x'][2]*position[2]])\n",
    "                    xxx, yyy = np.meshgrid(anomaly.x.values, anomaly.y.values)\n",
    "                    zzz = anomaly.z.values.ravel()\n",
    "                    pred = mg.dipole_bz([xxx, yyy, zzz], \n",
    "                              position,\n",
    "                              moment\n",
    "                             )\n",
    "                    \n",
    "                    residuals = data_minus_background.ravel() - pred.ravel()\n",
    "                    residuals_sum_sq = np.sum(residuals**2)\n",
    "                    r2 = 1 - residuals_sum_sq / np.linalg.norm(data_minus_background.ravel() - np.mean(data_minus_background.ravel())) ** 2\n",
    "            \n",
    "            \n",
    "                windows_enhanced.append(window)\n",
    "                estimated_dipole_moments_itr_euler_enhanced.append(moment)\n",
    "                for i in range(3):\n",
    "                    positions_itr_enhanced[i]=np.append(positions_itr_enhanced[i], position[i])\n",
    "                calculated_r2_itr_euler_enhanced.append(r2)\n",
    "                #########\n",
    "                \n",
    "                discard = mg.dipole_bz(coordinates, position, moment)\n",
    "            \n",
    "                data_copy_2.bz.values -= discard\n",
    "                \n",
    "                data_up_copy_2 = (\n",
    "                            hm.upward_continuation(data_copy_2.bz, height_difference)\n",
    "                            .assign_attrs(data_copy_2.bz.attrs)\n",
    "                            .to_dataset(name=\"bz\")\n",
    "                            .assign_coords(x=data_copy_2.x, y=data_copy_2.y)\n",
    "                            .assign_coords(z=data_copy_2.z + height_difference)\n",
    "                               )\n",
    "                \n",
    "                \n",
    "                data_up_copy_2 = data_up_copy_2.assign(mg.data_gradients(data_up_copy_2.bz))\n",
    "                \n",
    "                \n",
    "                ########\n",
    "                bad_euler = False #position[2] > 0.0\n",
    "                poor_fit =  False # r2 < 0.85  \n",
    "            \n",
    "                if bad_euler or poor_fit:\n",
    "                    continue\n",
    "            \n",
    "            #### IF NEEDED INSERT HERE THE MISFITS CALC FOR THE RE RUN METHOD #######\n",
    "            ##\n",
    "            #### IF NEEDED INSERT HERE THE MISFITS CALC FOR THE RE RUN METHOD #######\n",
    "\n",
    "            # Criar um DataFrame com os vetores\n",
    "            standard_dataframe = pd.DataFrame({\n",
    "                'mx_standard': np.asarray(estimated_dipole_moments)[:,0],\n",
    "                'my_standard': np.asarray(estimated_dipole_moments)[:,1],\n",
    "                'mz_standard': np.asarray(estimated_dipole_moments)[:,2],\n",
    "                'r_2_standard': np.asarray(calculated_r2),\n",
    "            })\n",
    "            standard_csv_name = os.path.join(output_folder, nc_file.replace('.nc', '_standard.csv'))\n",
    "            standard_dataframe.to_csv(standard_csv_name, index=False)\n",
    "\n",
    "            # Criar DataFrame para os vetores iterativos\n",
    "            iterative_dataframe = pd.DataFrame({\n",
    "                'mx_iterative': np.asarray(estimated_dipole_moments_itr_euler_enhanced)[:,0],\n",
    "                'my_iterative': np.asarray(estimated_dipole_moments_itr_euler_enhanced)[:,1],\n",
    "                'mz_iterative': np.asarray(estimated_dipole_moments_itr_euler_enhanced)[:,2],\n",
    "                'r_2_iterative': np.asarray(calculated_r2_itr_euler_enhanced),\n",
    "            })\n",
    "\n",
    "            # Salvar DataFrame iterativo como CSV\n",
    "            iterative_csv_name = os.path.join(output_folder, nc_file.replace('.nc', '_iterative.csv'))\n",
    "            iterative_dataframe.to_csv(iterative_csv_name, index=False)\n"
   ]
  },
  {
   "cell_type": "code",
   "execution_count": 7,
   "id": "df5bfee4-e99a-495e-b74f-392cadbe756c",
   "metadata": {},
   "outputs": [
    {
     "data": {
      "text/plain": [
       "(186, 3)"
      ]
     },
     "execution_count": 7,
     "metadata": {},
     "output_type": "execute_result"
    }
   ],
   "source": [
    "np.shape(estimated_dipole_moments_itr_euler)"
   ]
  },
  {
   "cell_type": "code",
   "execution_count": null,
   "id": "18c03f3a-05ee-45d5-a47e-75cbf59cd0a7",
   "metadata": {},
   "outputs": [],
   "source": []
  },
  {
   "cell_type": "code",
   "execution_count": null,
   "id": "c23e51a1-6038-4e3c-8100-ed3f60b3d50a",
   "metadata": {},
   "outputs": [],
   "source": []
  }
 ],
 "metadata": {
  "kernelspec": {
   "display_name": "Python 3 (ipykernel)",
   "language": "python",
   "name": "python3"
  },
  "language_info": {
   "codemirror_mode": {
    "name": "ipython",
    "version": 3
   },
   "file_extension": ".py",
   "mimetype": "text/x-python",
   "name": "python",
   "nbconvert_exporter": "python",
   "pygments_lexer": "ipython3",
   "version": "3.10.14"
  }
 },
 "nbformat": 4,
 "nbformat_minor": 5
}

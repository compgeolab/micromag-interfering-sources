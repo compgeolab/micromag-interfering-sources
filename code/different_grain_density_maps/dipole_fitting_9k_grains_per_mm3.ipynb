{
 "cells": [
  {
   "cell_type": "code",
   "execution_count": 2,
   "id": "ec341992-1bf8-456a-8906-6ed3bfa66489",
   "metadata": {},
   "outputs": [],
   "source": [
    "import pathlib\n",
    "import numpy as np\n",
    "import scipy as sp\n",
    "import pandas as pd\n",
    "import xarray as xr\n",
    "import matplotlib.pyplot as plt\n",
    "import matplotlib.patches\n",
    "import mplstereonet\n",
    "import skimage.exposure\n",
    "import harmonica as hm\n",
    "import verde as vd\n",
    "\n",
    "import zipfile\n",
    "import os\n",
    "\n",
    "import time\n",
    "import warnings\n",
    "import rich.progress\n",
    "\n",
    "import sys\n",
    "sys.path.append(\"..\")\n",
    "import micromag as mg"
   ]
  },
  {
   "cell_type": "code",
   "execution_count": 3,
   "id": "e3ae97c5-7a2a-4cca-9cc6-38e603ac90ad",
   "metadata": {},
   "outputs": [],
   "source": [
    "# !pip install h5netcdf"
   ]
  },
  {
   "cell_type": "code",
   "execution_count": 4,
   "id": "75cd9b24-78a3-4599-b58d-97cda58e80b5",
   "metadata": {},
   "outputs": [],
   "source": [
    "import scipy as sp\n",
    "import numba\n",
    "import choclo\n",
    "# @numba.jit(nopython=True, parallel=True)\n",
    "def goal_function(parameter, obs_data, coordinates, amplitude, x_0, y_0, z_0):\n",
    "    bz = mg.dipole_bz(coordinates, \n",
    "                      ([parameter[0]*x_0], [parameter[1]*y_0], [parameter[2]*z_0]),\n",
    "                     np.array([parameter[3], parameter[4], parameter[5]])*amplitude\n",
    "                     )\n",
    "                   \n",
    "    \n",
    "    Res = np.linalg.norm(obs_data-bz.ravel())\n",
    "    # print(Res)\n",
    "    return(Res)"
   ]
  },
  {
   "cell_type": "code",
   "execution_count": 5,
   "id": "bf791f22-011d-48a7-9417-9b0902e557a3",
   "metadata": {},
   "outputs": [],
   "source": [
    "input_folder = \"simulations_9k_grains_per_mm3\"\n",
    "output_folder = \"csv_files_9k_grains_per_mm3\"\n",
    "os.makedirs(output_folder, exist_ok=True)\n"
   ]
  },
  {
   "cell_type": "code",
   "execution_count": 6,
   "id": "18c03f3a-05ee-45d5-a47e-75cbf59cd0a7",
   "metadata": {},
   "outputs": [
    {
     "name": "stdout",
     "output_type": "stream",
     "text": [
      "Running file 1: data_simulation_7.nc\n"
     ]
    },
    {
     "name": "stderr",
     "output_type": "stream",
     "text": [
      "/home/gelson/anaconda3/envs/micromag-euler-dipole/lib/python3.10/site-packages/xrft/xrft.py:573: FutureWarning: Default ifft's behaviour (lag=None) changed! Default value of lag was zero (centered output coordinates) and is now set to transformed coordinate's attribute: 'direct_lag'.\n",
      "  warnings.warn(msg, FutureWarning)\n",
      "/home/gelson/anaconda3/envs/micromag-euler-dipole/lib/python3.10/site-packages/xrft/xrft.py:573: FutureWarning: Default ifft's behaviour (lag=None) changed! Default value of lag was zero (centered output coordinates) and is now set to transformed coordinate's attribute: 'direct_lag'.\n",
      "  warnings.warn(msg, FutureWarning)\n",
      "/home/gelson/anaconda3/envs/micromag-euler-dipole/lib/python3.10/site-packages/xrft/xrft.py:573: FutureWarning: Default ifft's behaviour (lag=None) changed! Default value of lag was zero (centered output coordinates) and is now set to transformed coordinate's attribute: 'direct_lag'.\n",
      "  warnings.warn(msg, FutureWarning)\n"
     ]
    },
    {
     "data": {
      "application/vnd.jupyter.widget-view+json": {
       "model_id": "be24b5466b3b41c09c9ff3cd444547a6",
       "version_major": 2,
       "version_minor": 0
      },
      "text/plain": [
       "Output()"
      ]
     },
     "metadata": {},
     "output_type": "display_data"
    },
    {
     "data": {
      "text/html": [
       "<pre style=\"white-space:pre;overflow-x:auto;line-height:normal;font-family:Menlo,'DejaVu Sans Mono',consolas,'Courier New',monospace\"></pre>\n"
      ],
      "text/plain": []
     },
     "metadata": {},
     "output_type": "display_data"
    },
    {
     "data": {
      "text/html": [
       "<pre style=\"white-space:pre;overflow-x:auto;line-height:normal;font-family:Menlo,'DejaVu Sans Mono',consolas,'Courier New',monospace\">\n",
       "</pre>\n"
      ],
      "text/plain": [
       "\n"
      ]
     },
     "metadata": {},
     "output_type": "display_data"
    },
    {
     "data": {
      "application/vnd.jupyter.widget-view+json": {
       "model_id": "a008c46fe06c495ba4083824fbc11ed2",
       "version_major": 2,
       "version_minor": 0
      },
      "text/plain": [
       "Output()"
      ]
     },
     "metadata": {},
     "output_type": "display_data"
    },
    {
     "data": {
      "text/html": [
       "<pre style=\"white-space:pre;overflow-x:auto;line-height:normal;font-family:Menlo,'DejaVu Sans Mono',consolas,'Courier New',monospace\"></pre>\n"
      ],
      "text/plain": []
     },
     "metadata": {},
     "output_type": "display_data"
    },
    {
     "data": {
      "text/html": [
       "<pre style=\"white-space:pre;overflow-x:auto;line-height:normal;font-family:Menlo,'DejaVu Sans Mono',consolas,'Courier New',monospace\">\n",
       "</pre>\n"
      ],
      "text/plain": [
       "\n"
      ]
     },
     "metadata": {},
     "output_type": "display_data"
    },
    {
     "data": {
      "application/vnd.jupyter.widget-view+json": {
       "model_id": "267bb90e530f4fb7ac29e2fba044caa3",
       "version_major": 2,
       "version_minor": 0
      },
      "text/plain": [
       "Output()"
      ]
     },
     "metadata": {},
     "output_type": "display_data"
    },
    {
     "data": {
      "text/html": [
       "<pre style=\"white-space:pre;overflow-x:auto;line-height:normal;font-family:Menlo,'DejaVu Sans Mono',consolas,'Courier New',monospace\"></pre>\n"
      ],
      "text/plain": []
     },
     "metadata": {},
     "output_type": "display_data"
    },
    {
     "data": {
      "text/html": [
       "<pre style=\"white-space:pre;overflow-x:auto;line-height:normal;font-family:Menlo,'DejaVu Sans Mono',consolas,'Courier New',monospace\">\n",
       "</pre>\n"
      ],
      "text/plain": [
       "\n"
      ]
     },
     "metadata": {},
     "output_type": "display_data"
    },
    {
     "data": {
      "application/vnd.jupyter.widget-view+json": {
       "model_id": "ba515991f08042db98bd2118a797d288",
       "version_major": 2,
       "version_minor": 0
      },
      "text/plain": [
       "Output()"
      ]
     },
     "metadata": {},
     "output_type": "display_data"
    },
    {
     "data": {
      "text/html": [
       "<pre style=\"white-space:pre;overflow-x:auto;line-height:normal;font-family:Menlo,'DejaVu Sans Mono',consolas,'Courier New',monospace\"></pre>\n"
      ],
      "text/plain": []
     },
     "metadata": {},
     "output_type": "display_data"
    },
    {
     "data": {
      "text/html": [
       "<pre style=\"white-space:pre;overflow-x:auto;line-height:normal;font-family:Menlo,'DejaVu Sans Mono',consolas,'Courier New',monospace\">\n",
       "</pre>\n"
      ],
      "text/plain": [
       "\n"
      ]
     },
     "metadata": {},
     "output_type": "display_data"
    },
    {
     "name": "stdout",
     "output_type": "stream",
     "text": [
      "Running file 2: data_simulation_3.nc\n"
     ]
    },
    {
     "data": {
      "application/vnd.jupyter.widget-view+json": {
       "model_id": "6cb9514c7f854c36a5fbc734d47187a6",
       "version_major": 2,
       "version_minor": 0
      },
      "text/plain": [
       "Output()"
      ]
     },
     "metadata": {},
     "output_type": "display_data"
    },
    {
     "data": {
      "text/html": [
       "<pre style=\"white-space:pre;overflow-x:auto;line-height:normal;font-family:Menlo,'DejaVu Sans Mono',consolas,'Courier New',monospace\"></pre>\n"
      ],
      "text/plain": []
     },
     "metadata": {},
     "output_type": "display_data"
    },
    {
     "data": {
      "text/html": [
       "<pre style=\"white-space:pre;overflow-x:auto;line-height:normal;font-family:Menlo,'DejaVu Sans Mono',consolas,'Courier New',monospace\">\n",
       "</pre>\n"
      ],
      "text/plain": [
       "\n"
      ]
     },
     "metadata": {},
     "output_type": "display_data"
    },
    {
     "data": {
      "application/vnd.jupyter.widget-view+json": {
       "model_id": "58e9e6607e7c4956a05ad14e10177d0f",
       "version_major": 2,
       "version_minor": 0
      },
      "text/plain": [
       "Output()"
      ]
     },
     "metadata": {},
     "output_type": "display_data"
    },
    {
     "data": {
      "text/html": [
       "<pre style=\"white-space:pre;overflow-x:auto;line-height:normal;font-family:Menlo,'DejaVu Sans Mono',consolas,'Courier New',monospace\"></pre>\n"
      ],
      "text/plain": []
     },
     "metadata": {},
     "output_type": "display_data"
    },
    {
     "data": {
      "text/html": [
       "<pre style=\"white-space:pre;overflow-x:auto;line-height:normal;font-family:Menlo,'DejaVu Sans Mono',consolas,'Courier New',monospace\">\n",
       "</pre>\n"
      ],
      "text/plain": [
       "\n"
      ]
     },
     "metadata": {},
     "output_type": "display_data"
    },
    {
     "data": {
      "application/vnd.jupyter.widget-view+json": {
       "model_id": "0541d4e5f2a541a99b7f9ac060538522",
       "version_major": 2,
       "version_minor": 0
      },
      "text/plain": [
       "Output()"
      ]
     },
     "metadata": {},
     "output_type": "display_data"
    },
    {
     "data": {
      "text/html": [
       "<pre style=\"white-space:pre;overflow-x:auto;line-height:normal;font-family:Menlo,'DejaVu Sans Mono',consolas,'Courier New',monospace\"></pre>\n"
      ],
      "text/plain": []
     },
     "metadata": {},
     "output_type": "display_data"
    },
    {
     "data": {
      "text/html": [
       "<pre style=\"white-space:pre;overflow-x:auto;line-height:normal;font-family:Menlo,'DejaVu Sans Mono',consolas,'Courier New',monospace\">\n",
       "</pre>\n"
      ],
      "text/plain": [
       "\n"
      ]
     },
     "metadata": {},
     "output_type": "display_data"
    },
    {
     "data": {
      "application/vnd.jupyter.widget-view+json": {
       "model_id": "29f1e52287f34569a829b3fcf67bf5d6",
       "version_major": 2,
       "version_minor": 0
      },
      "text/plain": [
       "Output()"
      ]
     },
     "metadata": {},
     "output_type": "display_data"
    },
    {
     "data": {
      "text/html": [
       "<pre style=\"white-space:pre;overflow-x:auto;line-height:normal;font-family:Menlo,'DejaVu Sans Mono',consolas,'Courier New',monospace\"></pre>\n"
      ],
      "text/plain": []
     },
     "metadata": {},
     "output_type": "display_data"
    },
    {
     "data": {
      "text/html": [
       "<pre style=\"white-space:pre;overflow-x:auto;line-height:normal;font-family:Menlo,'DejaVu Sans Mono',consolas,'Courier New',monospace\">\n",
       "</pre>\n"
      ],
      "text/plain": [
       "\n"
      ]
     },
     "metadata": {},
     "output_type": "display_data"
    },
    {
     "name": "stdout",
     "output_type": "stream",
     "text": [
      "Running file 3: data_simulation_1.nc\n"
     ]
    },
    {
     "data": {
      "application/vnd.jupyter.widget-view+json": {
       "model_id": "90893a05988343b5b9cbaad43d8a770a",
       "version_major": 2,
       "version_minor": 0
      },
      "text/plain": [
       "Output()"
      ]
     },
     "metadata": {},
     "output_type": "display_data"
    },
    {
     "data": {
      "text/html": [
       "<pre style=\"white-space:pre;overflow-x:auto;line-height:normal;font-family:Menlo,'DejaVu Sans Mono',consolas,'Courier New',monospace\"></pre>\n"
      ],
      "text/plain": []
     },
     "metadata": {},
     "output_type": "display_data"
    },
    {
     "data": {
      "text/html": [
       "<pre style=\"white-space:pre;overflow-x:auto;line-height:normal;font-family:Menlo,'DejaVu Sans Mono',consolas,'Courier New',monospace\">\n",
       "</pre>\n"
      ],
      "text/plain": [
       "\n"
      ]
     },
     "metadata": {},
     "output_type": "display_data"
    },
    {
     "data": {
      "application/vnd.jupyter.widget-view+json": {
       "model_id": "dc5873da19f445c8bb9a81ba2d7f47c0",
       "version_major": 2,
       "version_minor": 0
      },
      "text/plain": [
       "Output()"
      ]
     },
     "metadata": {},
     "output_type": "display_data"
    },
    {
     "data": {
      "text/html": [
       "<pre style=\"white-space:pre;overflow-x:auto;line-height:normal;font-family:Menlo,'DejaVu Sans Mono',consolas,'Courier New',monospace\"></pre>\n"
      ],
      "text/plain": []
     },
     "metadata": {},
     "output_type": "display_data"
    },
    {
     "data": {
      "text/html": [
       "<pre style=\"white-space:pre;overflow-x:auto;line-height:normal;font-family:Menlo,'DejaVu Sans Mono',consolas,'Courier New',monospace\">\n",
       "</pre>\n"
      ],
      "text/plain": [
       "\n"
      ]
     },
     "metadata": {},
     "output_type": "display_data"
    },
    {
     "data": {
      "application/vnd.jupyter.widget-view+json": {
       "model_id": "36cf0a2698374156aaf4220e08dd11c8",
       "version_major": 2,
       "version_minor": 0
      },
      "text/plain": [
       "Output()"
      ]
     },
     "metadata": {},
     "output_type": "display_data"
    },
    {
     "data": {
      "text/html": [
       "<pre style=\"white-space:pre;overflow-x:auto;line-height:normal;font-family:Menlo,'DejaVu Sans Mono',consolas,'Courier New',monospace\"></pre>\n"
      ],
      "text/plain": []
     },
     "metadata": {},
     "output_type": "display_data"
    },
    {
     "data": {
      "text/html": [
       "<pre style=\"white-space:pre;overflow-x:auto;line-height:normal;font-family:Menlo,'DejaVu Sans Mono',consolas,'Courier New',monospace\">\n",
       "</pre>\n"
      ],
      "text/plain": [
       "\n"
      ]
     },
     "metadata": {},
     "output_type": "display_data"
    },
    {
     "data": {
      "application/vnd.jupyter.widget-view+json": {
       "model_id": "fe3755c9276c4590999b52df36bd80e1",
       "version_major": 2,
       "version_minor": 0
      },
      "text/plain": [
       "Output()"
      ]
     },
     "metadata": {},
     "output_type": "display_data"
    },
    {
     "data": {
      "text/html": [
       "<pre style=\"white-space:pre;overflow-x:auto;line-height:normal;font-family:Menlo,'DejaVu Sans Mono',consolas,'Courier New',monospace\"></pre>\n"
      ],
      "text/plain": []
     },
     "metadata": {},
     "output_type": "display_data"
    },
    {
     "data": {
      "text/html": [
       "<pre style=\"white-space:pre;overflow-x:auto;line-height:normal;font-family:Menlo,'DejaVu Sans Mono',consolas,'Courier New',monospace\">\n",
       "</pre>\n"
      ],
      "text/plain": [
       "\n"
      ]
     },
     "metadata": {},
     "output_type": "display_data"
    },
    {
     "name": "stdout",
     "output_type": "stream",
     "text": [
      "Running file 4: data_simulation_9.nc\n"
     ]
    },
    {
     "data": {
      "application/vnd.jupyter.widget-view+json": {
       "model_id": "f4c8d41b73e14114a54174279785c541",
       "version_major": 2,
       "version_minor": 0
      },
      "text/plain": [
       "Output()"
      ]
     },
     "metadata": {},
     "output_type": "display_data"
    },
    {
     "data": {
      "text/html": [
       "<pre style=\"white-space:pre;overflow-x:auto;line-height:normal;font-family:Menlo,'DejaVu Sans Mono',consolas,'Courier New',monospace\"></pre>\n"
      ],
      "text/plain": []
     },
     "metadata": {},
     "output_type": "display_data"
    },
    {
     "data": {
      "text/html": [
       "<pre style=\"white-space:pre;overflow-x:auto;line-height:normal;font-family:Menlo,'DejaVu Sans Mono',consolas,'Courier New',monospace\">\n",
       "</pre>\n"
      ],
      "text/plain": [
       "\n"
      ]
     },
     "metadata": {},
     "output_type": "display_data"
    },
    {
     "data": {
      "application/vnd.jupyter.widget-view+json": {
       "model_id": "f7f5ae5adb7a49eba5b4068184e8dbb7",
       "version_major": 2,
       "version_minor": 0
      },
      "text/plain": [
       "Output()"
      ]
     },
     "metadata": {},
     "output_type": "display_data"
    },
    {
     "data": {
      "text/html": [
       "<pre style=\"white-space:pre;overflow-x:auto;line-height:normal;font-family:Menlo,'DejaVu Sans Mono',consolas,'Courier New',monospace\"></pre>\n"
      ],
      "text/plain": []
     },
     "metadata": {},
     "output_type": "display_data"
    },
    {
     "data": {
      "text/html": [
       "<pre style=\"white-space:pre;overflow-x:auto;line-height:normal;font-family:Menlo,'DejaVu Sans Mono',consolas,'Courier New',monospace\">\n",
       "</pre>\n"
      ],
      "text/plain": [
       "\n"
      ]
     },
     "metadata": {},
     "output_type": "display_data"
    },
    {
     "data": {
      "application/vnd.jupyter.widget-view+json": {
       "model_id": "fb9dbf6d59794b4e8f7c58ab6ed71e1c",
       "version_major": 2,
       "version_minor": 0
      },
      "text/plain": [
       "Output()"
      ]
     },
     "metadata": {},
     "output_type": "display_data"
    },
    {
     "data": {
      "text/html": [
       "<pre style=\"white-space:pre;overflow-x:auto;line-height:normal;font-family:Menlo,'DejaVu Sans Mono',consolas,'Courier New',monospace\"></pre>\n"
      ],
      "text/plain": []
     },
     "metadata": {},
     "output_type": "display_data"
    },
    {
     "data": {
      "text/html": [
       "<pre style=\"white-space:pre;overflow-x:auto;line-height:normal;font-family:Menlo,'DejaVu Sans Mono',consolas,'Courier New',monospace\">\n",
       "</pre>\n"
      ],
      "text/plain": [
       "\n"
      ]
     },
     "metadata": {},
     "output_type": "display_data"
    },
    {
     "data": {
      "application/vnd.jupyter.widget-view+json": {
       "model_id": "762a04f39a84458a8bbc01ed693b5bb3",
       "version_major": 2,
       "version_minor": 0
      },
      "text/plain": [
       "Output()"
      ]
     },
     "metadata": {},
     "output_type": "display_data"
    },
    {
     "data": {
      "text/html": [
       "<pre style=\"white-space:pre;overflow-x:auto;line-height:normal;font-family:Menlo,'DejaVu Sans Mono',consolas,'Courier New',monospace\"></pre>\n"
      ],
      "text/plain": []
     },
     "metadata": {},
     "output_type": "display_data"
    },
    {
     "data": {
      "text/html": [
       "<pre style=\"white-space:pre;overflow-x:auto;line-height:normal;font-family:Menlo,'DejaVu Sans Mono',consolas,'Courier New',monospace\">\n",
       "</pre>\n"
      ],
      "text/plain": [
       "\n"
      ]
     },
     "metadata": {},
     "output_type": "display_data"
    },
    {
     "name": "stdout",
     "output_type": "stream",
     "text": [
      "Running file 5: data_simulation_0.nc\n"
     ]
    },
    {
     "data": {
      "application/vnd.jupyter.widget-view+json": {
       "model_id": "f096bc57a6cb41ee91a357742f43029f",
       "version_major": 2,
       "version_minor": 0
      },
      "text/plain": [
       "Output()"
      ]
     },
     "metadata": {},
     "output_type": "display_data"
    },
    {
     "data": {
      "text/html": [
       "<pre style=\"white-space:pre;overflow-x:auto;line-height:normal;font-family:Menlo,'DejaVu Sans Mono',consolas,'Courier New',monospace\"></pre>\n"
      ],
      "text/plain": []
     },
     "metadata": {},
     "output_type": "display_data"
    },
    {
     "data": {
      "text/html": [
       "<pre style=\"white-space:pre;overflow-x:auto;line-height:normal;font-family:Menlo,'DejaVu Sans Mono',consolas,'Courier New',monospace\">\n",
       "</pre>\n"
      ],
      "text/plain": [
       "\n"
      ]
     },
     "metadata": {},
     "output_type": "display_data"
    },
    {
     "data": {
      "application/vnd.jupyter.widget-view+json": {
       "model_id": "6b9432170b9b4bd6a0fa7753bb864f93",
       "version_major": 2,
       "version_minor": 0
      },
      "text/plain": [
       "Output()"
      ]
     },
     "metadata": {},
     "output_type": "display_data"
    },
    {
     "data": {
      "text/html": [
       "<pre style=\"white-space:pre;overflow-x:auto;line-height:normal;font-family:Menlo,'DejaVu Sans Mono',consolas,'Courier New',monospace\"></pre>\n"
      ],
      "text/plain": []
     },
     "metadata": {},
     "output_type": "display_data"
    },
    {
     "data": {
      "text/html": [
       "<pre style=\"white-space:pre;overflow-x:auto;line-height:normal;font-family:Menlo,'DejaVu Sans Mono',consolas,'Courier New',monospace\">\n",
       "</pre>\n"
      ],
      "text/plain": [
       "\n"
      ]
     },
     "metadata": {},
     "output_type": "display_data"
    },
    {
     "data": {
      "application/vnd.jupyter.widget-view+json": {
       "model_id": "195fc52edf8e4f32b1720d795b62160c",
       "version_major": 2,
       "version_minor": 0
      },
      "text/plain": [
       "Output()"
      ]
     },
     "metadata": {},
     "output_type": "display_data"
    },
    {
     "data": {
      "text/html": [
       "<pre style=\"white-space:pre;overflow-x:auto;line-height:normal;font-family:Menlo,'DejaVu Sans Mono',consolas,'Courier New',monospace\"></pre>\n"
      ],
      "text/plain": []
     },
     "metadata": {},
     "output_type": "display_data"
    },
    {
     "data": {
      "text/html": [
       "<pre style=\"white-space:pre;overflow-x:auto;line-height:normal;font-family:Menlo,'DejaVu Sans Mono',consolas,'Courier New',monospace\">\n",
       "</pre>\n"
      ],
      "text/plain": [
       "\n"
      ]
     },
     "metadata": {},
     "output_type": "display_data"
    },
    {
     "data": {
      "application/vnd.jupyter.widget-view+json": {
       "model_id": "a3aac8318f214dc2bfcae50de53ea2e1",
       "version_major": 2,
       "version_minor": 0
      },
      "text/plain": [
       "Output()"
      ]
     },
     "metadata": {},
     "output_type": "display_data"
    },
    {
     "data": {
      "text/html": [
       "<pre style=\"white-space:pre;overflow-x:auto;line-height:normal;font-family:Menlo,'DejaVu Sans Mono',consolas,'Courier New',monospace\"></pre>\n"
      ],
      "text/plain": []
     },
     "metadata": {},
     "output_type": "display_data"
    },
    {
     "data": {
      "text/html": [
       "<pre style=\"white-space:pre;overflow-x:auto;line-height:normal;font-family:Menlo,'DejaVu Sans Mono',consolas,'Courier New',monospace\">\n",
       "</pre>\n"
      ],
      "text/plain": [
       "\n"
      ]
     },
     "metadata": {},
     "output_type": "display_data"
    },
    {
     "name": "stdout",
     "output_type": "stream",
     "text": [
      "Running file 6: data_simulation_4.nc\n"
     ]
    },
    {
     "data": {
      "application/vnd.jupyter.widget-view+json": {
       "model_id": "3d2feac2e99b4181828c5096ae235210",
       "version_major": 2,
       "version_minor": 0
      },
      "text/plain": [
       "Output()"
      ]
     },
     "metadata": {},
     "output_type": "display_data"
    },
    {
     "data": {
      "text/html": [
       "<pre style=\"white-space:pre;overflow-x:auto;line-height:normal;font-family:Menlo,'DejaVu Sans Mono',consolas,'Courier New',monospace\"></pre>\n"
      ],
      "text/plain": []
     },
     "metadata": {},
     "output_type": "display_data"
    },
    {
     "data": {
      "text/html": [
       "<pre style=\"white-space:pre;overflow-x:auto;line-height:normal;font-family:Menlo,'DejaVu Sans Mono',consolas,'Courier New',monospace\">\n",
       "</pre>\n"
      ],
      "text/plain": [
       "\n"
      ]
     },
     "metadata": {},
     "output_type": "display_data"
    },
    {
     "data": {
      "application/vnd.jupyter.widget-view+json": {
       "model_id": "a31f522af3ff4a8b861542e49e31f125",
       "version_major": 2,
       "version_minor": 0
      },
      "text/plain": [
       "Output()"
      ]
     },
     "metadata": {},
     "output_type": "display_data"
    },
    {
     "data": {
      "text/html": [
       "<pre style=\"white-space:pre;overflow-x:auto;line-height:normal;font-family:Menlo,'DejaVu Sans Mono',consolas,'Courier New',monospace\"></pre>\n"
      ],
      "text/plain": []
     },
     "metadata": {},
     "output_type": "display_data"
    },
    {
     "data": {
      "text/html": [
       "<pre style=\"white-space:pre;overflow-x:auto;line-height:normal;font-family:Menlo,'DejaVu Sans Mono',consolas,'Courier New',monospace\">\n",
       "</pre>\n"
      ],
      "text/plain": [
       "\n"
      ]
     },
     "metadata": {},
     "output_type": "display_data"
    },
    {
     "data": {
      "application/vnd.jupyter.widget-view+json": {
       "model_id": "783ba01a28bd418ca9706e1a39058a38",
       "version_major": 2,
       "version_minor": 0
      },
      "text/plain": [
       "Output()"
      ]
     },
     "metadata": {},
     "output_type": "display_data"
    },
    {
     "data": {
      "text/html": [
       "<pre style=\"white-space:pre;overflow-x:auto;line-height:normal;font-family:Menlo,'DejaVu Sans Mono',consolas,'Courier New',monospace\"></pre>\n"
      ],
      "text/plain": []
     },
     "metadata": {},
     "output_type": "display_data"
    },
    {
     "data": {
      "text/html": [
       "<pre style=\"white-space:pre;overflow-x:auto;line-height:normal;font-family:Menlo,'DejaVu Sans Mono',consolas,'Courier New',monospace\">\n",
       "</pre>\n"
      ],
      "text/plain": [
       "\n"
      ]
     },
     "metadata": {},
     "output_type": "display_data"
    },
    {
     "data": {
      "application/vnd.jupyter.widget-view+json": {
       "model_id": "42cddbc52feb4d3c99766d5b1a3bf9b6",
       "version_major": 2,
       "version_minor": 0
      },
      "text/plain": [
       "Output()"
      ]
     },
     "metadata": {},
     "output_type": "display_data"
    },
    {
     "data": {
      "text/html": [
       "<pre style=\"white-space:pre;overflow-x:auto;line-height:normal;font-family:Menlo,'DejaVu Sans Mono',consolas,'Courier New',monospace\"></pre>\n"
      ],
      "text/plain": []
     },
     "metadata": {},
     "output_type": "display_data"
    },
    {
     "data": {
      "text/html": [
       "<pre style=\"white-space:pre;overflow-x:auto;line-height:normal;font-family:Menlo,'DejaVu Sans Mono',consolas,'Courier New',monospace\">\n",
       "</pre>\n"
      ],
      "text/plain": [
       "\n"
      ]
     },
     "metadata": {},
     "output_type": "display_data"
    },
    {
     "name": "stdout",
     "output_type": "stream",
     "text": [
      "Running file 7: data_simulation_8.nc\n"
     ]
    },
    {
     "data": {
      "application/vnd.jupyter.widget-view+json": {
       "model_id": "56b6dc776e71498b8a9efc1bb859cb9b",
       "version_major": 2,
       "version_minor": 0
      },
      "text/plain": [
       "Output()"
      ]
     },
     "metadata": {},
     "output_type": "display_data"
    },
    {
     "data": {
      "text/html": [
       "<pre style=\"white-space:pre;overflow-x:auto;line-height:normal;font-family:Menlo,'DejaVu Sans Mono',consolas,'Courier New',monospace\"></pre>\n"
      ],
      "text/plain": []
     },
     "metadata": {},
     "output_type": "display_data"
    },
    {
     "data": {
      "text/html": [
       "<pre style=\"white-space:pre;overflow-x:auto;line-height:normal;font-family:Menlo,'DejaVu Sans Mono',consolas,'Courier New',monospace\">\n",
       "</pre>\n"
      ],
      "text/plain": [
       "\n"
      ]
     },
     "metadata": {},
     "output_type": "display_data"
    },
    {
     "data": {
      "application/vnd.jupyter.widget-view+json": {
       "model_id": "8eea331916af4251bfca3dfa6b850170",
       "version_major": 2,
       "version_minor": 0
      },
      "text/plain": [
       "Output()"
      ]
     },
     "metadata": {},
     "output_type": "display_data"
    },
    {
     "data": {
      "text/html": [
       "<pre style=\"white-space:pre;overflow-x:auto;line-height:normal;font-family:Menlo,'DejaVu Sans Mono',consolas,'Courier New',monospace\"></pre>\n"
      ],
      "text/plain": []
     },
     "metadata": {},
     "output_type": "display_data"
    },
    {
     "data": {
      "text/html": [
       "<pre style=\"white-space:pre;overflow-x:auto;line-height:normal;font-family:Menlo,'DejaVu Sans Mono',consolas,'Courier New',monospace\">\n",
       "</pre>\n"
      ],
      "text/plain": [
       "\n"
      ]
     },
     "metadata": {},
     "output_type": "display_data"
    },
    {
     "data": {
      "application/vnd.jupyter.widget-view+json": {
       "model_id": "ae0ccd4ef8c64391bc15ce8f076e0fbc",
       "version_major": 2,
       "version_minor": 0
      },
      "text/plain": [
       "Output()"
      ]
     },
     "metadata": {},
     "output_type": "display_data"
    },
    {
     "data": {
      "text/html": [
       "<pre style=\"white-space:pre;overflow-x:auto;line-height:normal;font-family:Menlo,'DejaVu Sans Mono',consolas,'Courier New',monospace\"></pre>\n"
      ],
      "text/plain": []
     },
     "metadata": {},
     "output_type": "display_data"
    },
    {
     "data": {
      "text/html": [
       "<pre style=\"white-space:pre;overflow-x:auto;line-height:normal;font-family:Menlo,'DejaVu Sans Mono',consolas,'Courier New',monospace\">\n",
       "</pre>\n"
      ],
      "text/plain": [
       "\n"
      ]
     },
     "metadata": {},
     "output_type": "display_data"
    },
    {
     "data": {
      "application/vnd.jupyter.widget-view+json": {
       "model_id": "0768756b7ee14cb8ad4081ad270f4aad",
       "version_major": 2,
       "version_minor": 0
      },
      "text/plain": [
       "Output()"
      ]
     },
     "metadata": {},
     "output_type": "display_data"
    },
    {
     "data": {
      "text/html": [
       "<pre style=\"white-space:pre;overflow-x:auto;line-height:normal;font-family:Menlo,'DejaVu Sans Mono',consolas,'Courier New',monospace\"></pre>\n"
      ],
      "text/plain": []
     },
     "metadata": {},
     "output_type": "display_data"
    },
    {
     "data": {
      "text/html": [
       "<pre style=\"white-space:pre;overflow-x:auto;line-height:normal;font-family:Menlo,'DejaVu Sans Mono',consolas,'Courier New',monospace\">\n",
       "</pre>\n"
      ],
      "text/plain": [
       "\n"
      ]
     },
     "metadata": {},
     "output_type": "display_data"
    },
    {
     "name": "stdout",
     "output_type": "stream",
     "text": [
      "Running file 8: data_simulation_6.nc\n"
     ]
    },
    {
     "data": {
      "application/vnd.jupyter.widget-view+json": {
       "model_id": "a1b771f70183446ea46e4d1d0054dd2a",
       "version_major": 2,
       "version_minor": 0
      },
      "text/plain": [
       "Output()"
      ]
     },
     "metadata": {},
     "output_type": "display_data"
    },
    {
     "data": {
      "text/html": [
       "<pre style=\"white-space:pre;overflow-x:auto;line-height:normal;font-family:Menlo,'DejaVu Sans Mono',consolas,'Courier New',monospace\"></pre>\n"
      ],
      "text/plain": []
     },
     "metadata": {},
     "output_type": "display_data"
    },
    {
     "data": {
      "text/html": [
       "<pre style=\"white-space:pre;overflow-x:auto;line-height:normal;font-family:Menlo,'DejaVu Sans Mono',consolas,'Courier New',monospace\">\n",
       "</pre>\n"
      ],
      "text/plain": [
       "\n"
      ]
     },
     "metadata": {},
     "output_type": "display_data"
    },
    {
     "data": {
      "application/vnd.jupyter.widget-view+json": {
       "model_id": "346ac745e2f3404faf1e45cb95ac2976",
       "version_major": 2,
       "version_minor": 0
      },
      "text/plain": [
       "Output()"
      ]
     },
     "metadata": {},
     "output_type": "display_data"
    },
    {
     "data": {
      "text/html": [
       "<pre style=\"white-space:pre;overflow-x:auto;line-height:normal;font-family:Menlo,'DejaVu Sans Mono',consolas,'Courier New',monospace\"></pre>\n"
      ],
      "text/plain": []
     },
     "metadata": {},
     "output_type": "display_data"
    },
    {
     "data": {
      "text/html": [
       "<pre style=\"white-space:pre;overflow-x:auto;line-height:normal;font-family:Menlo,'DejaVu Sans Mono',consolas,'Courier New',monospace\">\n",
       "</pre>\n"
      ],
      "text/plain": [
       "\n"
      ]
     },
     "metadata": {},
     "output_type": "display_data"
    },
    {
     "data": {
      "application/vnd.jupyter.widget-view+json": {
       "model_id": "c63045ef680f4109b50f50787edf92f4",
       "version_major": 2,
       "version_minor": 0
      },
      "text/plain": [
       "Output()"
      ]
     },
     "metadata": {},
     "output_type": "display_data"
    },
    {
     "data": {
      "text/html": [
       "<pre style=\"white-space:pre;overflow-x:auto;line-height:normal;font-family:Menlo,'DejaVu Sans Mono',consolas,'Courier New',monospace\"></pre>\n"
      ],
      "text/plain": []
     },
     "metadata": {},
     "output_type": "display_data"
    },
    {
     "data": {
      "text/html": [
       "<pre style=\"white-space:pre;overflow-x:auto;line-height:normal;font-family:Menlo,'DejaVu Sans Mono',consolas,'Courier New',monospace\">\n",
       "</pre>\n"
      ],
      "text/plain": [
       "\n"
      ]
     },
     "metadata": {},
     "output_type": "display_data"
    },
    {
     "data": {
      "application/vnd.jupyter.widget-view+json": {
       "model_id": "48393ba26b7f4ce380bb1cb8b3f861a3",
       "version_major": 2,
       "version_minor": 0
      },
      "text/plain": [
       "Output()"
      ]
     },
     "metadata": {},
     "output_type": "display_data"
    },
    {
     "data": {
      "text/html": [
       "<pre style=\"white-space:pre;overflow-x:auto;line-height:normal;font-family:Menlo,'DejaVu Sans Mono',consolas,'Courier New',monospace\"></pre>\n"
      ],
      "text/plain": []
     },
     "metadata": {},
     "output_type": "display_data"
    },
    {
     "data": {
      "text/html": [
       "<pre style=\"white-space:pre;overflow-x:auto;line-height:normal;font-family:Menlo,'DejaVu Sans Mono',consolas,'Courier New',monospace\">\n",
       "</pre>\n"
      ],
      "text/plain": [
       "\n"
      ]
     },
     "metadata": {},
     "output_type": "display_data"
    },
    {
     "name": "stdout",
     "output_type": "stream",
     "text": [
      "Running file 9: data_simulation_2.nc\n"
     ]
    },
    {
     "data": {
      "application/vnd.jupyter.widget-view+json": {
       "model_id": "e0aabf49d17d405fb81d7af6d7d99f80",
       "version_major": 2,
       "version_minor": 0
      },
      "text/plain": [
       "Output()"
      ]
     },
     "metadata": {},
     "output_type": "display_data"
    },
    {
     "data": {
      "text/html": [
       "<pre style=\"white-space:pre;overflow-x:auto;line-height:normal;font-family:Menlo,'DejaVu Sans Mono',consolas,'Courier New',monospace\"></pre>\n"
      ],
      "text/plain": []
     },
     "metadata": {},
     "output_type": "display_data"
    },
    {
     "data": {
      "text/html": [
       "<pre style=\"white-space:pre;overflow-x:auto;line-height:normal;font-family:Menlo,'DejaVu Sans Mono',consolas,'Courier New',monospace\">\n",
       "</pre>\n"
      ],
      "text/plain": [
       "\n"
      ]
     },
     "metadata": {},
     "output_type": "display_data"
    },
    {
     "data": {
      "application/vnd.jupyter.widget-view+json": {
       "model_id": "a579d0d2e0a04afb8111c3f50d15c8fe",
       "version_major": 2,
       "version_minor": 0
      },
      "text/plain": [
       "Output()"
      ]
     },
     "metadata": {},
     "output_type": "display_data"
    },
    {
     "data": {
      "text/html": [
       "<pre style=\"white-space:pre;overflow-x:auto;line-height:normal;font-family:Menlo,'DejaVu Sans Mono',consolas,'Courier New',monospace\"></pre>\n"
      ],
      "text/plain": []
     },
     "metadata": {},
     "output_type": "display_data"
    },
    {
     "data": {
      "text/html": [
       "<pre style=\"white-space:pre;overflow-x:auto;line-height:normal;font-family:Menlo,'DejaVu Sans Mono',consolas,'Courier New',monospace\">\n",
       "</pre>\n"
      ],
      "text/plain": [
       "\n"
      ]
     },
     "metadata": {},
     "output_type": "display_data"
    },
    {
     "data": {
      "application/vnd.jupyter.widget-view+json": {
       "model_id": "f0463b12927b4f2eaab53ecb9cc55a61",
       "version_major": 2,
       "version_minor": 0
      },
      "text/plain": [
       "Output()"
      ]
     },
     "metadata": {},
     "output_type": "display_data"
    },
    {
     "data": {
      "text/html": [
       "<pre style=\"white-space:pre;overflow-x:auto;line-height:normal;font-family:Menlo,'DejaVu Sans Mono',consolas,'Courier New',monospace\"></pre>\n"
      ],
      "text/plain": []
     },
     "metadata": {},
     "output_type": "display_data"
    },
    {
     "data": {
      "text/html": [
       "<pre style=\"white-space:pre;overflow-x:auto;line-height:normal;font-family:Menlo,'DejaVu Sans Mono',consolas,'Courier New',monospace\">\n",
       "</pre>\n"
      ],
      "text/plain": [
       "\n"
      ]
     },
     "metadata": {},
     "output_type": "display_data"
    },
    {
     "data": {
      "application/vnd.jupyter.widget-view+json": {
       "model_id": "7a5b8463b5b542cf992db2581bf6a9cc",
       "version_major": 2,
       "version_minor": 0
      },
      "text/plain": [
       "Output()"
      ]
     },
     "metadata": {},
     "output_type": "display_data"
    },
    {
     "data": {
      "text/html": [
       "<pre style=\"white-space:pre;overflow-x:auto;line-height:normal;font-family:Menlo,'DejaVu Sans Mono',consolas,'Courier New',monospace\"></pre>\n"
      ],
      "text/plain": []
     },
     "metadata": {},
     "output_type": "display_data"
    },
    {
     "data": {
      "text/html": [
       "<pre style=\"white-space:pre;overflow-x:auto;line-height:normal;font-family:Menlo,'DejaVu Sans Mono',consolas,'Courier New',monospace\">\n",
       "</pre>\n"
      ],
      "text/plain": [
       "\n"
      ]
     },
     "metadata": {},
     "output_type": "display_data"
    },
    {
     "name": "stdout",
     "output_type": "stream",
     "text": [
      "Running file 10: data_simulation_5.nc\n"
     ]
    },
    {
     "data": {
      "application/vnd.jupyter.widget-view+json": {
       "model_id": "2702b323fb3843c4a6bc1e573356290b",
       "version_major": 2,
       "version_minor": 0
      },
      "text/plain": [
       "Output()"
      ]
     },
     "metadata": {},
     "output_type": "display_data"
    },
    {
     "data": {
      "text/html": [
       "<pre style=\"white-space:pre;overflow-x:auto;line-height:normal;font-family:Menlo,'DejaVu Sans Mono',consolas,'Courier New',monospace\"></pre>\n"
      ],
      "text/plain": []
     },
     "metadata": {},
     "output_type": "display_data"
    },
    {
     "data": {
      "text/html": [
       "<pre style=\"white-space:pre;overflow-x:auto;line-height:normal;font-family:Menlo,'DejaVu Sans Mono',consolas,'Courier New',monospace\">\n",
       "</pre>\n"
      ],
      "text/plain": [
       "\n"
      ]
     },
     "metadata": {},
     "output_type": "display_data"
    },
    {
     "data": {
      "application/vnd.jupyter.widget-view+json": {
       "model_id": "a9bf4457d35f4ea68b22861e359395cd",
       "version_major": 2,
       "version_minor": 0
      },
      "text/plain": [
       "Output()"
      ]
     },
     "metadata": {},
     "output_type": "display_data"
    },
    {
     "data": {
      "text/html": [
       "<pre style=\"white-space:pre;overflow-x:auto;line-height:normal;font-family:Menlo,'DejaVu Sans Mono',consolas,'Courier New',monospace\"></pre>\n"
      ],
      "text/plain": []
     },
     "metadata": {},
     "output_type": "display_data"
    },
    {
     "data": {
      "text/html": [
       "<pre style=\"white-space:pre;overflow-x:auto;line-height:normal;font-family:Menlo,'DejaVu Sans Mono',consolas,'Courier New',monospace\">\n",
       "</pre>\n"
      ],
      "text/plain": [
       "\n"
      ]
     },
     "metadata": {},
     "output_type": "display_data"
    },
    {
     "data": {
      "application/vnd.jupyter.widget-view+json": {
       "model_id": "bf62e66c788248398ca3ca9e365d36f3",
       "version_major": 2,
       "version_minor": 0
      },
      "text/plain": [
       "Output()"
      ]
     },
     "metadata": {},
     "output_type": "display_data"
    },
    {
     "data": {
      "text/html": [
       "<pre style=\"white-space:pre;overflow-x:auto;line-height:normal;font-family:Menlo,'DejaVu Sans Mono',consolas,'Courier New',monospace\"></pre>\n"
      ],
      "text/plain": []
     },
     "metadata": {},
     "output_type": "display_data"
    },
    {
     "data": {
      "text/html": [
       "<pre style=\"white-space:pre;overflow-x:auto;line-height:normal;font-family:Menlo,'DejaVu Sans Mono',consolas,'Courier New',monospace\">\n",
       "</pre>\n"
      ],
      "text/plain": [
       "\n"
      ]
     },
     "metadata": {},
     "output_type": "display_data"
    },
    {
     "data": {
      "application/vnd.jupyter.widget-view+json": {
       "model_id": "22a57479f8394e19aa081f258d9f052c",
       "version_major": 2,
       "version_minor": 0
      },
      "text/plain": [
       "Output()"
      ]
     },
     "metadata": {},
     "output_type": "display_data"
    },
    {
     "data": {
      "text/html": [
       "<pre style=\"white-space:pre;overflow-x:auto;line-height:normal;font-family:Menlo,'DejaVu Sans Mono',consolas,'Courier New',monospace\"></pre>\n"
      ],
      "text/plain": []
     },
     "metadata": {},
     "output_type": "display_data"
    },
    {
     "data": {
      "text/html": [
       "<pre style=\"white-space:pre;overflow-x:auto;line-height:normal;font-family:Menlo,'DejaVu Sans Mono',consolas,'Courier New',monospace\">\n",
       "</pre>\n"
      ],
      "text/plain": [
       "\n"
      ]
     },
     "metadata": {},
     "output_type": "display_data"
    }
   ],
   "source": [
    "# get all files inside the folder\n",
    "netcdf_files = [f for f in os.listdir(input_folder) if f.endswith(\".nc\")]\n",
    "\n",
    "for i, nc_file in enumerate(netcdf_files):\n",
    "    nc_file_path = os.path.join(input_folder, nc_file)\n",
    "    print(f\"Running file {i+1}: {nc_file}\")\n",
    "    \n",
    "    # Abrir o arquivo NetCDF com xarray\n",
    "    data = xr.open_dataset(nc_file_path)\n",
    "   \n",
    "    x_, y_ = np.meshgrid(data.x.values, data.y.values)\n",
    "    coordinates = ([x_, y_ , data.z.values])\n",
    "\n",
    "    # Run the code\n",
    "    data_copy = data.copy(deep=True)\n",
    "    data_copy2 = data_copy.copy(deep=True)\n",
    "\n",
    "    height_difference = 5\n",
    "    \n",
    "    # Have to assign the same points as the data because the Harmonica\n",
    "    # transforms give slightly different coordinates due to round-off.\n",
    "    # This is a bug and is being worked on.\n",
    "    data_up = (\n",
    "        hm.upward_continuation(data.bz, height_difference)\n",
    "        .assign_attrs(data.bz.attrs)\n",
    "        .to_dataset(name=\"bz\")\n",
    "        .assign_coords(x=data.x, y=data.y)\n",
    "        .assign_coords(z=data.z + height_difference)\n",
    "    )\n",
    "    data_up = data_up.assign(mg.data_gradients(data_up.bz))\n",
    "    \n",
    "    stretched = skimage.exposure.rescale_intensity(\n",
    "        data_up.tga, \n",
    "        in_range=tuple(np.percentile(data_up.tga, (1, 99))),\n",
    "    )\n",
    "    data_up = data_up.assign(tga_stretched=xr.DataArray(stretched, coords=data_up.coords))\n",
    "\n",
    "\n",
    "    windows = mg.detect_anomalies(\n",
    "        data_up.tga_stretched, \n",
    "        size_range=[20, 150],\n",
    "        size_increment=1.0,\n",
    "        threshold=0.05,\n",
    "        overlap=0.0,\n",
    "        exclude_border=15\n",
    "    )\n",
    "    \n",
    "    ## Standard method\n",
    "    positions = []\n",
    "    estimated_dipole_moments = []\n",
    "    estimated_stds = []\n",
    "    calculated_r2 = []\n",
    "    calculated_SNR = []\n",
    "    windows_filtered = []\n",
    "    base_levels = []\n",
    "    for window in windows:\n",
    "        anomaly = data_up.sel(x=slice(*window[:2]), y=slice(*window[2:]))\n",
    "        position, base_level = mg.euler_deconvolution(\n",
    "            anomaly.bz, \n",
    "            anomaly.x_deriv, \n",
    "            anomaly.y_deriv, \n",
    "            anomaly.z_deriv,\n",
    "        )\n",
    "        \n",
    "        data_minus_background = anomaly.bz.values - base_level\n",
    "        anomaly = anomaly.assign(data_minus_background=(['y','x'], data_minus_background))\n",
    "        anomaly.data_minus_background.attrs = {\"long_name\": \"dipole-model\", \"units\": \"nT\"}\n",
    "    \n",
    "        moment, covariance, r2, SNR = mg.dipole_moment_inversion(\n",
    "            anomaly.data_minus_background, position,\n",
    "        )\n",
    "        \n",
    "        bad_euler = False # position[2] > 0\n",
    "        poor_fit = False\n",
    "        \n",
    "        if bad_euler or poor_fit:\n",
    "            continue\n",
    "        positions.append(position)  \n",
    "        estimated_dipole_moments.append(moment)\n",
    "        estimated_stds.append(mg.covariance_to_angle_std(moment, covariance))\n",
    "        calculated_r2.append(r2)\n",
    "        calculated_SNR.append(SNR)\n",
    "        windows_filtered.append(window)\n",
    "        base_levels.append(base_level)\n",
    "    positions = np.transpose(positions)\n",
    "    \n",
    "    #### IF NEEDED INSERT HERE THE MISFITS CALC FOR THE STANDARD METHOD #######\n",
    "    ##\n",
    "    #### IF NEEDED INSERT HERE THE MISFITS CALC FOR THE STANDARD METHOD #######\n",
    "\n",
    "    \n",
    "    ## Iterative Method\n",
    "    warnings.filterwarnings(\"ignore\")\n",
    "    \n",
    "    x_concat = []\n",
    "    y_concat = []\n",
    "    z_concat = []\n",
    "    bz_concat = []\n",
    "    xc_concat = []\n",
    "    yc_concat = []\n",
    "    zc_concat = []\n",
    "    z_deriv_concat = []\n",
    "    \n",
    "    estimated_dipole_moments_itr_euler = []\n",
    "    \n",
    "    # fitting parameters\n",
    "    calculated_r2_itr_euler = []\n",
    "    calculated_SNR_itr_euler = []\n",
    "    \n",
    "    data_copy = data.copy(deep=True)\n",
    "    data_up_copy = data_up.copy(deep=True)\n",
    "    \n",
    "    #################################\n",
    "    for window in rich.progress.track(np.array(windows), total = len(np.array(windows))):\n",
    "        anomaly = data_up_copy.sel(x=slice(*window[:2]), y=slice(*window[2:]))\n",
    "        position, base_level = mg.euler_deconvolution(\n",
    "            anomaly.bz, \n",
    "            anomaly.x_deriv, \n",
    "            anomaly.y_deriv, \n",
    "            anomaly.z_deriv,\n",
    "        )\n",
    "        \n",
    "        data_minus_background = anomaly.bz.values - base_level \n",
    "        anomaly = anomaly.assign(data_minus_background=(['y','x'], data_minus_background))\n",
    "        anomaly.data_minus_background.attrs = {\"long_name\": \"dipole-model\", \"units\": \"nT\"}\n",
    "    \n",
    "        \n",
    "        moment, covariance, r2, SNR = mg.dipole_moment_inversion(anomaly.data_minus_background, position)\n",
    "    \n",
    "        ## SCIPY MINIMIZATION\n",
    "        anomaly_table=vd.grid_to_table(anomaly)\n",
    "        amplitude = np.linalg.norm(moment)\n",
    "        args=(data_minus_background.ravel(), \n",
    "             ( anomaly_table.x.values,\n",
    "               anomaly_table.y.values, \n",
    "               anomaly.z.values.ravel()),\n",
    "              amplitude, position[0], position[1], position[2])\n",
    "        \n",
    "        minimization=sp.optimize.minimize(goal_function, (1, 1, 1,\n",
    "                                                          moment[0]/amplitude,\n",
    "                                                          moment[1]/amplitude,\n",
    "                                                          moment[2]/amplitude),\n",
    "                                          \n",
    "                                          args=args,\n",
    "                                          \n",
    "                                            method='Nelder-Mead', options=dict(fatol=1.0e-8))\n",
    "        \n",
    "        if minimization.success:\n",
    "            \n",
    "            moment = np.array([minimization['x'][3], minimization['x'][4], minimization['x'][5]])*amplitude\n",
    "            position = np.array([minimization['x'][0]*position[0], \n",
    "                                 minimization['x'][1]*position[1],\n",
    "                                 minimization['x'][2]*position[2]])\n",
    "            xxx, yyy = np.meshgrid(anomaly.x.values, anomaly.y.values)\n",
    "            zzz = anomaly.z.values.ravel()\n",
    "            pred = mg.dipole_bz([xxx, yyy, zzz], \n",
    "                      position,\n",
    "                      moment\n",
    "                     )\n",
    "            \n",
    "            residuals = data_minus_background.ravel() - pred.ravel()\n",
    "            residuals_sum_sq = np.sum(residuals**2)\n",
    "            r2 = 1 - residuals_sum_sq / np.linalg.norm(data_minus_background.ravel() - np.mean(data_minus_background.ravel())) ** 2\n",
    "        \n",
    "    \n",
    "        estimated_dipole_moments_itr_euler.append(moment)\n",
    "        \n",
    "        #########\n",
    "        \n",
    "        discard = mg.dipole_bz(coordinates, position, moment)\n",
    "    \n",
    "        data_copy.bz.values -= discard\n",
    "        \n",
    "        data_up_copy = (\n",
    "                    hm.upward_continuation(data_copy.bz, height_difference)\n",
    "                    .assign_attrs(data_copy.bz.attrs)\n",
    "                    .to_dataset(name=\"bz\")\n",
    "                    .assign_coords(x=data_copy.x, y=data_copy.y)\n",
    "                    .assign_coords(z=data_copy.z + height_difference)\n",
    "                       )\n",
    "        \n",
    "        \n",
    "        data_up_copy = data_up_copy.assign(mg.data_gradients(data_up_copy.bz))\n",
    "        \n",
    "        \n",
    "        ########\n",
    "        bad_euler = False #position[2] > 0.0\n",
    "        poor_fit =  False # r2 < 0.85  \n",
    "    \n",
    "        if bad_euler or poor_fit:\n",
    "            continue\n",
    "        xx, yy = np.meshgrid(anomaly.x.values, anomaly.y.values)\n",
    "        x_concat = np.append(x_concat, xx)\n",
    "        y_concat = np.append(y_concat, yy)    \n",
    "        z_concat = np.append(z_concat, anomaly.z.values)\n",
    "        bz_concat = np.append(bz_concat, anomaly.bz.values)\n",
    "        z_deriv_concat = np.append(z_deriv_concat, anomaly.z_deriv.values)\n",
    "        xc_concat = np.append(xc_concat, position[0])\n",
    "        yc_concat = np.append(yc_concat, position[1])\n",
    "        zc_concat = np.append(zc_concat, position[2])\n",
    "        calculated_r2_itr_euler = np.append(calculated_r2_itr_euler, r2)\n",
    "        calculated_SNR_itr_euler = np.append(calculated_SNR_itr_euler, SNR)\n",
    "    \n",
    "    df = pd.DataFrame({'x':x_concat,\n",
    "                       'y':y_concat,\n",
    "                       'z':z_concat,\n",
    "                      'bz':bz_concat,\n",
    "                     'z_deriv':z_deriv_concat})\n",
    "    \n",
    "    positions_itr = np.array([xc_concat, yc_concat, zc_concat])\n",
    "    \n",
    "    \n",
    "    \n",
    "    ## EULER ENHANCEMENT SECOND STEP\n",
    "    warnings.filterwarnings(\"ignore\")\n",
    "    data_copy = data.copy(deep=True)\n",
    "    euler_r2_itr_cond = calculated_r2_itr_euler>=0.975\n",
    "    \n",
    "    zc_concat_temp = list()\n",
    "    xc_concat_temp = list()\n",
    "    yc_concat_temp = list()\n",
    "    \n",
    "    estimated_dipole_moments_itr_euler_temp = list()\n",
    "    \n",
    "    indexes = np.where(np.array(euler_r2_itr_cond))[0]\n",
    "    # SOURCES WITH R2 >= 0.99 ARE NOT ENHANCED, WE CALCULATE THEIR ANOMALY AND REMOVE THEM FROM THE DATA SET\n",
    "    # for index, window in enumerate(rich.progress.track(np.array(windows)[euler_r2_itr_cond], total=len(np.array(windows)[euler_r2_itr_cond]))):\n",
    "    for index in rich.progress.track(indexes, total=len(indexes)):\n",
    "        window = windows[index]\n",
    "        position = positions_itr[:, index]\n",
    "        estimated_dipole_moments_itr_euler_temp.append(estimated_dipole_moments_itr_euler[index])\n",
    "        xc_concat_temp = np.append(xc_concat_temp, position[0])\n",
    "        yc_concat_temp = np.append(yc_concat_temp, position[1])\n",
    "        zc_concat_temp = np.append(zc_concat_temp, position[2])  \n",
    "    \n",
    "        \n",
    "    # remove all signals \n",
    "    position_temp = np.array([xc_concat_temp, yc_concat_temp, zc_concat_temp])\n",
    "    discard = mg.dipole_bz(coordinates, position_temp, estimated_dipole_moments_itr_euler_temp)\n",
    "    data_copy.bz.values -= discard\n",
    "    \n",
    "    data_up_copy = (\n",
    "                hm.upward_continuation(data_copy.bz, height_difference)\n",
    "                .assign_attrs(data_copy.bz.attrs)\n",
    "                .to_dataset(name=\"bz\")\n",
    "                .assign_coords(x=data_copy.x, y=data_copy.y)\n",
    "                .assign_coords(z=data_copy.z + height_difference)\n",
    "                   )\n",
    "    \n",
    "    \n",
    "    data_up_copy = data_up_copy.assign(mg.data_gradients(data_up_copy.bz))\n",
    "    \n",
    "    \n",
    "    # SOURCES WITH R2 <= 0.99 ARE ENHANCED\n",
    "    indexes = np.where(~np.array(euler_r2_itr_cond))[0]\n",
    "    # for index, window in enumerate(rich.progress.track(np.array(windows)[~euler_r2_itr_cond], total=len(np.array(windows)[~euler_r2_itr_cond]))):\n",
    "    for index in rich.progress.track(indexes, total=len(indexes)):\n",
    "        window = windows[index]\n",
    "        anomaly = data_up_copy.sel(x=slice(*window[:2]), y=slice(*window[2:]))\n",
    "        position, base_level = mg.euler_deconvolution(\n",
    "            anomaly.bz, \n",
    "            anomaly.x_deriv, \n",
    "            anomaly.y_deriv, \n",
    "            anomaly.z_deriv,\n",
    "        )\n",
    "        data_minus_background = anomaly.bz.values - base_level \n",
    "        anomaly = anomaly.assign(data_minus_background=(['y','x'], data_minus_background))\n",
    "        anomaly.data_minus_background.attrs = {\"long_name\": \"dipole-model\", \"units\": \"nT\"}\n",
    "        \n",
    "        moment, covariance, r2, SNR = mg.dipole_moment_inversion(anomaly.data_minus_background, position)\n",
    "    \n",
    "    \n",
    "    \n",
    "        ## SCIPY MINIMIZATION\n",
    "        anomaly_table=vd.grid_to_table(anomaly)\n",
    "        amplitude = np.linalg.norm(moment)\n",
    "        args=(data_minus_background.ravel(), \n",
    "             ( anomaly_table.x.values,\n",
    "               anomaly_table.y.values, \n",
    "               anomaly.z.values.ravel()),\n",
    "              amplitude, position[0], position[1], position[2])\n",
    "        \n",
    "        minimization=sp.optimize.minimize(goal_function, (1, 1, 1,\n",
    "                                                          moment[0]/amplitude,\n",
    "                                                          moment[1]/amplitude,\n",
    "                                                          moment[2]/amplitude),\n",
    "                                          \n",
    "                                          args=args,\n",
    "                                          \n",
    "                                            method='Nelder-Mead', options=dict(fatol=1.0e-8))\n",
    "        \n",
    "        if minimization.success:\n",
    "            \n",
    "            moment = np.array([minimization['x'][3], minimization['x'][4], minimization['x'][5]])*amplitude\n",
    "            position = np.array([minimization['x'][0]*position[0], \n",
    "                                 minimization['x'][1]*position[1],\n",
    "                                 minimization['x'][2]*position[2]])\n",
    "            xxx, yyy = np.meshgrid(anomaly.x.values, anomaly.y.values)\n",
    "            zzz = anomaly.z.values.ravel()\n",
    "            pred = mg.dipole_bz([xxx, yyy, zzz], \n",
    "                      position,\n",
    "                      moment\n",
    "                     )\n",
    "            \n",
    "            residuals = data_minus_background.ravel() - pred.ravel()\n",
    "            residuals_sum_sq = np.sum(residuals**2)\n",
    "            r2 = 1 - residuals_sum_sq / np.linalg.norm(data_minus_background.ravel() - np.mean(data_minus_background.ravel())) ** 2\n",
    "            \n",
    "            if r2 >= calculated_r2_itr_euler[index]:\n",
    "                estimated_dipole_moments_itr_euler[index] = moment\n",
    "                positions_itr[:, index] = position\n",
    "        \n",
    "        discard = mg.dipole_bz(coordinates, position, moment)\n",
    "    \n",
    "        data_copy.bz.values -= discard\n",
    "    \n",
    "        data_up_copy = (\n",
    "                    hm.upward_continuation(data_copy.bz, height_difference)\n",
    "                    .assign_attrs(data_copy.bz.attrs)\n",
    "                    .to_dataset(name=\"bz\")\n",
    "                    .assign_coords(x=data_copy.x, y=data_copy.y)\n",
    "                    .assign_coords(z=data_copy.z + height_difference)\n",
    "                       )\n",
    "        \n",
    "        \n",
    "        data_up_copy = data_up_copy.assign(mg.data_gradients(data_up_copy.bz))\n",
    "    \n",
    "    \n",
    "    \n",
    "    #### IF NEEDED INSERT HERE THE MISFITS CALC FOR THE ITERATIVE METHOD #######\n",
    "    ##\n",
    "    #### IF NEEDED INSERT HERE THE MISFITS CALC FOR THE ITERATIVE METHOD #######\n",
    "    \n",
    "    \n",
    "    ## RE RUN THE RESIDUAL TO FIND MORE SOURCES\n",
    "    data_up_copy = (\n",
    "                hm.upward_continuation(data_copy.bz, height_difference)\n",
    "                .assign_attrs(data_copy.bz.attrs)\n",
    "                .to_dataset(name=\"bz\")\n",
    "                .assign_coords(x=data_copy.x, y=data_copy.y)\n",
    "                .assign_coords(z=data_copy.z + height_difference)\n",
    "                   )\n",
    "    \n",
    "    data_up_copy = data_up_copy.assign(mg.data_gradients(data_up_copy.bz))\n",
    "    \n",
    "    stretched = skimage.exposure.rescale_intensity(\n",
    "        data_up_copy.tga, \n",
    "        in_range=tuple(np.percentile(data_up_copy.tga, (1, 99))),\n",
    "    )\n",
    "    data_up_copy = data_up_copy.assign(tga_stretched=xr.DataArray(stretched, coords=data_up.coords))\n",
    "    \n",
    "    windows_new = mg.detect_anomalies(\n",
    "        data_up_copy.tga_stretched, \n",
    "        size_range=[20,150],\n",
    "        size_increment=1.3,\n",
    "        threshold=0.02,\n",
    "        overlap=0.0,\n",
    "        exclude_border=15\n",
    "    )\n",
    "    \n",
    "    def intersects(window1, window2):\n",
    "        # Verifica se há sobreposição horizontal\n",
    "        horizontal_overlap = (window1[0] <= window2[1]) and (window2[0] <= window1[1])\n",
    "        # Verifica se há sobreposição vertical\n",
    "        vertical_overlap = (window1[2] <= window2[3]) and (window2[2] <= window1[3])\n",
    "        return horizontal_overlap and vertical_overlap\n",
    "        \n",
    "    \n",
    "    # Remove overlapping windows\n",
    "    non_overlapping_windows = np.copy(windows_new)\n",
    "    \n",
    "    for window in windows:\n",
    "        non_overlapping_windows = [nw for nw in non_overlapping_windows if not intersects(nw, window)]\n",
    "    \n",
    "    \n",
    "    data_copy_2 = data_copy.copy(deep=True)\n",
    "    data_up_copy_2 = data_up_copy.copy(deep=True)\n",
    "    \n",
    "    positions_itr_enhanced = list(np.copy(positions_itr))\n",
    "    estimated_dipole_moments_itr_euler_enhanced = list(np.copy(estimated_dipole_moments_itr_euler))\n",
    "    windows_enhanced = list(np.copy(windows))\n",
    "    calculated_r2_itr_euler_enhanced = list(np.copy(calculated_r2_itr_euler))\n",
    "    \n",
    "    #################################\n",
    "    for window in rich.progress.track(np.array(non_overlapping_windows), total = len(np.array(non_overlapping_windows))):\n",
    "        anomaly = data_up_copy_2.sel(x=slice(*window[:2]), y=slice(*window[2:]))\n",
    "        position, base_level = mg.euler_deconvolution(\n",
    "            anomaly.bz, \n",
    "            anomaly.x_deriv, \n",
    "            anomaly.y_deriv, \n",
    "            anomaly.z_deriv,\n",
    "        )\n",
    "        \n",
    "        data_minus_background = anomaly.bz.values - base_level \n",
    "        anomaly = anomaly.assign(data_minus_background=(['y','x'], data_minus_background))\n",
    "        anomaly.data_minus_background.attrs = {\"long_name\": \"dipole-model\", \"units\": \"nT\"}\n",
    "    \n",
    "        \n",
    "        moment, covariance, r2, SNR = mg.dipole_moment_inversion(anomaly.data_minus_background, position)\n",
    "    \n",
    "        ## SCIPY MINIMIZATION\n",
    "        anomaly_table=vd.grid_to_table(anomaly)\n",
    "        amplitude = np.linalg.norm(moment)\n",
    "        args=(data_minus_background.ravel(), \n",
    "             ( anomaly_table.x.values,\n",
    "               anomaly_table.y.values, \n",
    "               anomaly.z.values.ravel()),\n",
    "              amplitude, position[0], position[1], position[2])\n",
    "        \n",
    "        minimization=sp.optimize.minimize(goal_function, (1, 1, 1,\n",
    "                                                          moment[0]/amplitude,\n",
    "                                                          moment[1]/amplitude,\n",
    "                                                          moment[2]/amplitude),\n",
    "                                          \n",
    "                                          args=args,\n",
    "                                          \n",
    "                                            method='Nelder-Mead', options=dict(fatol=1.0e-8))\n",
    "        \n",
    "        if minimization.success:\n",
    "            \n",
    "            moment = np.array([minimization['x'][3], minimization['x'][4], minimization['x'][5]])*amplitude\n",
    "            position = np.array([minimization['x'][0]*position[0], \n",
    "                                 minimization['x'][1]*position[1],\n",
    "                                 minimization['x'][2]*position[2]])\n",
    "            xxx, yyy = np.meshgrid(anomaly.x.values, anomaly.y.values)\n",
    "            zzz = anomaly.z.values.ravel()\n",
    "            pred = mg.dipole_bz([xxx, yyy, zzz], \n",
    "                      position,\n",
    "                      moment\n",
    "                     )\n",
    "            \n",
    "            residuals = data_minus_background.ravel() - pred.ravel()\n",
    "            residuals_sum_sq = np.sum(residuals**2)\n",
    "            r2 = 1 - residuals_sum_sq / np.linalg.norm(data_minus_background.ravel() - np.mean(data_minus_background.ravel())) ** 2\n",
    "    \n",
    "    \n",
    "        windows_enhanced.append(window)\n",
    "        estimated_dipole_moments_itr_euler_enhanced.append(moment)\n",
    "        for i in range(3):\n",
    "            positions_itr_enhanced[i]=np.append(positions_itr_enhanced[i], position[i])\n",
    "        calculated_r2_itr_euler_enhanced.append(r2)\n",
    "        #########\n",
    "        \n",
    "        discard = mg.dipole_bz(coordinates, position, moment)\n",
    "    \n",
    "        data_copy_2.bz.values -= discard\n",
    "        \n",
    "        data_up_copy_2 = (\n",
    "                    hm.upward_continuation(data_copy_2.bz, height_difference)\n",
    "                    .assign_attrs(data_copy_2.bz.attrs)\n",
    "                    .to_dataset(name=\"bz\")\n",
    "                    .assign_coords(x=data_copy_2.x, y=data_copy_2.y)\n",
    "                    .assign_coords(z=data_copy_2.z + height_difference)\n",
    "                       )\n",
    "        \n",
    "        \n",
    "        data_up_copy_2 = data_up_copy_2.assign(mg.data_gradients(data_up_copy_2.bz))\n",
    "        \n",
    "        \n",
    "        ########\n",
    "        bad_euler = False #position[2] > 0.0\n",
    "        poor_fit =  False # r2 < 0.85  \n",
    "    \n",
    "        if bad_euler or poor_fit:\n",
    "            continue\n",
    "    \n",
    "    #### IF NEEDED INSERT HERE THE MISFITS CALC FOR THE RE RUN METHOD #######\n",
    "    ##\n",
    "    #### IF NEEDED INSERT HERE THE MISFITS CALC FOR THE RE RUN METHOD #######\n",
    "\n",
    "    # Criar um DataFrame com os vetores\n",
    "    standard_dataframe = pd.DataFrame({\n",
    "        'mx_standard': np.asarray(estimated_dipole_moments)[:,0],\n",
    "        'my_standard': np.asarray(estimated_dipole_moments)[:,1],\n",
    "        'mz_standard': np.asarray(estimated_dipole_moments)[:,2],\n",
    "        'r_2_standard': np.asarray(calculated_r2),\n",
    "    })\n",
    "    standard_csv_name = os.path.join(output_folder, nc_file.replace('.nc', '_standard.csv'))\n",
    "    standard_dataframe.to_csv(standard_csv_name, index=False)\n",
    "\n",
    "    # Criar DataFrame para os vetores iterativos\n",
    "    iterative_dataframe = pd.DataFrame({\n",
    "        'mx_iterative': np.asarray(estimated_dipole_moments_itr_euler_enhanced)[:,0],\n",
    "        'my_iterative': np.asarray(estimated_dipole_moments_itr_euler_enhanced)[:,1],\n",
    "        'mz_iterative': np.asarray(estimated_dipole_moments_itr_euler_enhanced)[:,2],\n",
    "        'r_2_iterative': np.asarray(calculated_r2_itr_euler_enhanced),\n",
    "    })\n",
    "\n",
    "    # Salvar DataFrame iterativo como CSV\n",
    "    iterative_csv_name = os.path.join(output_folder, nc_file.replace('.nc', '_iterative.csv'))\n",
    "    iterative_dataframe.to_csv(iterative_csv_name, index=False)\n"
   ]
  },
  {
   "cell_type": "code",
   "execution_count": 7,
   "id": "c23e51a1-6038-4e3c-8100-ed3f60b3d50a",
   "metadata": {},
   "outputs": [
    {
     "data": {
      "text/plain": [
       "(206, 3)"
      ]
     },
     "execution_count": 7,
     "metadata": {},
     "output_type": "execute_result"
    }
   ],
   "source": [
    "np.shape(estimated_dipole_moments_itr_euler)"
   ]
  },
  {
   "cell_type": "code",
   "execution_count": null,
   "id": "814ea084-73e8-4343-9ab1-41d286b70785",
   "metadata": {},
   "outputs": [],
   "source": []
  }
 ],
 "metadata": {
  "kernelspec": {
   "display_name": "Python 3 (ipykernel)",
   "language": "python",
   "name": "python3"
  },
  "language_info": {
   "codemirror_mode": {
    "name": "ipython",
    "version": 3
   },
   "file_extension": ".py",
   "mimetype": "text/x-python",
   "name": "python",
   "nbconvert_exporter": "python",
   "pygments_lexer": "ipython3",
   "version": "3.10.14"
  }
 },
 "nbformat": 4,
 "nbformat_minor": 5
}

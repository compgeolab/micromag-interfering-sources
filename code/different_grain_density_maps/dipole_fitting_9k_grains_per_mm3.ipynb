{
 "cells": [
  {
   "cell_type": "code",
   "execution_count": 2,
   "id": "ec341992-1bf8-456a-8906-6ed3bfa66489",
   "metadata": {},
   "outputs": [],
   "source": [
    "import pathlib\n",
    "import numpy as np\n",
    "import scipy as sp\n",
    "import pandas as pd\n",
    "import xarray as xr\n",
    "import matplotlib.pyplot as plt\n",
    "import matplotlib.patches\n",
    "import mplstereonet\n",
    "import skimage.exposure\n",
    "import harmonica as hm\n",
    "import verde as vd\n",
    "\n",
    "import zipfile\n",
    "import os\n",
    "import micromag as mg\n",
    "\n",
    "import time\n",
    "import warnings\n",
    "import rich.progress"
   ]
  },
  {
   "cell_type": "code",
   "execution_count": 3,
   "id": "e3ae97c5-7a2a-4cca-9cc6-38e603ac90ad",
   "metadata": {},
   "outputs": [],
   "source": [
    "# !pip install h5netcdf"
   ]
  },
  {
   "cell_type": "code",
   "execution_count": 4,
   "id": "75cd9b24-78a3-4599-b58d-97cda58e80b5",
   "metadata": {},
   "outputs": [],
   "source": [
    "import scipy as sp\n",
    "import numba\n",
    "import choclo\n",
    "# @numba.jit(nopython=True, parallel=True)\n",
    "def goal_function(parameter, obs_data, coordinates, amplitude, x_0, y_0, z_0):\n",
    "    bz = mg.dipole_bz(coordinates, \n",
    "                      ([parameter[0]*x_0], [parameter[1]*y_0], [parameter[2]*z_0]),\n",
    "                     np.array([parameter[3], parameter[4], parameter[5]])*amplitude\n",
    "                     )\n",
    "                   \n",
    "    \n",
    "    Res = np.linalg.norm(obs_data-bz.ravel())\n",
    "    # print(Res)\n",
    "    return(Res)"
   ]
  },
  {
   "cell_type": "code",
   "execution_count": null,
   "id": "bf791f22-011d-48a7-9417-9b0902e557a3",
   "metadata": {},
   "outputs": [],
   "source": [
    "input_folder = \"simulations_9k_grains_per_mm3\"\n",
    "output_folder = \"csv_files_9k_grains_per_mm3\"\n",
    "os.makedirs(output_folder, exist_ok=True)\n"
   ]
  },
  {
   "cell_type": "code",
   "execution_count": 7,
   "id": "18c03f3a-05ee-45d5-a47e-75cbf59cd0a7",
   "metadata": {},
   "outputs": [
    {
     "name": "stdout",
     "output_type": "stream",
     "text": [
      "Running file 1: data_simulation_7.nc\n"
     ]
    },
    {
     "name": "stderr",
     "output_type": "stream",
     "text": [
      "/home/gelson/anaconda3/envs/micromag-euler-dipole/lib/python3.10/site-packages/xrft/xrft.py:573: FutureWarning: Default ifft's behaviour (lag=None) changed! Default value of lag was zero (centered output coordinates) and is now set to transformed coordinate's attribute: 'direct_lag'.\n",
      "  warnings.warn(msg, FutureWarning)\n",
      "/home/gelson/anaconda3/envs/micromag-euler-dipole/lib/python3.10/site-packages/xrft/xrft.py:573: FutureWarning: Default ifft's behaviour (lag=None) changed! Default value of lag was zero (centered output coordinates) and is now set to transformed coordinate's attribute: 'direct_lag'.\n",
      "  warnings.warn(msg, FutureWarning)\n",
      "/home/gelson/anaconda3/envs/micromag-euler-dipole/lib/python3.10/site-packages/xrft/xrft.py:573: FutureWarning: Default ifft's behaviour (lag=None) changed! Default value of lag was zero (centered output coordinates) and is now set to transformed coordinate's attribute: 'direct_lag'.\n",
      "  warnings.warn(msg, FutureWarning)\n"
     ]
    },
    {
     "data": {
      "application/vnd.jupyter.widget-view+json": {
       "model_id": "8dc152a941df4dc78cbaa3956b73c45b",
       "version_major": 2,
       "version_minor": 0
      },
      "text/plain": [
       "Output()"
      ]
     },
     "metadata": {},
     "output_type": "display_data"
    },
    {
     "data": {
      "text/html": [
       "<pre style=\"white-space:pre;overflow-x:auto;line-height:normal;font-family:Menlo,'DejaVu Sans Mono',consolas,'Courier New',monospace\"></pre>\n"
      ],
      "text/plain": []
     },
     "metadata": {},
     "output_type": "display_data"
    },
    {
     "data": {
      "text/html": [
       "<pre style=\"white-space:pre;overflow-x:auto;line-height:normal;font-family:Menlo,'DejaVu Sans Mono',consolas,'Courier New',monospace\">\n",
       "</pre>\n"
      ],
      "text/plain": [
       "\n"
      ]
     },
     "metadata": {},
     "output_type": "display_data"
    },
    {
     "data": {
      "application/vnd.jupyter.widget-view+json": {
       "model_id": "703d2fa926de413aa2ab4af1ac3c1c2a",
       "version_major": 2,
       "version_minor": 0
      },
      "text/plain": [
       "Output()"
      ]
     },
     "metadata": {},
     "output_type": "display_data"
    },
    {
     "data": {
      "text/html": [
       "<pre style=\"white-space:pre;overflow-x:auto;line-height:normal;font-family:Menlo,'DejaVu Sans Mono',consolas,'Courier New',monospace\"></pre>\n"
      ],
      "text/plain": []
     },
     "metadata": {},
     "output_type": "display_data"
    },
    {
     "data": {
      "text/html": [
       "<pre style=\"white-space:pre;overflow-x:auto;line-height:normal;font-family:Menlo,'DejaVu Sans Mono',consolas,'Courier New',monospace\">\n",
       "</pre>\n"
      ],
      "text/plain": [
       "\n"
      ]
     },
     "metadata": {},
     "output_type": "display_data"
    },
    {
     "data": {
      "application/vnd.jupyter.widget-view+json": {
       "model_id": "29acbbedfcc14cb1bcc46b3b0dff811c",
       "version_major": 2,
       "version_minor": 0
      },
      "text/plain": [
       "Output()"
      ]
     },
     "metadata": {},
     "output_type": "display_data"
    },
    {
     "data": {
      "text/html": [
       "<pre style=\"white-space:pre;overflow-x:auto;line-height:normal;font-family:Menlo,'DejaVu Sans Mono',consolas,'Courier New',monospace\"></pre>\n"
      ],
      "text/plain": []
     },
     "metadata": {},
     "output_type": "display_data"
    },
    {
     "data": {
      "text/html": [
       "<pre style=\"white-space:pre;overflow-x:auto;line-height:normal;font-family:Menlo,'DejaVu Sans Mono',consolas,'Courier New',monospace\">\n",
       "</pre>\n"
      ],
      "text/plain": [
       "\n"
      ]
     },
     "metadata": {},
     "output_type": "display_data"
    },
    {
     "data": {
      "application/vnd.jupyter.widget-view+json": {
       "model_id": "7ef85b0205ee41729e3c797f35c56968",
       "version_major": 2,
       "version_minor": 0
      },
      "text/plain": [
       "Output()"
      ]
     },
     "metadata": {},
     "output_type": "display_data"
    },
    {
     "data": {
      "text/html": [
       "<pre style=\"white-space:pre;overflow-x:auto;line-height:normal;font-family:Menlo,'DejaVu Sans Mono',consolas,'Courier New',monospace\"></pre>\n"
      ],
      "text/plain": []
     },
     "metadata": {},
     "output_type": "display_data"
    },
    {
     "data": {
      "text/html": [
       "<pre style=\"white-space:pre;overflow-x:auto;line-height:normal;font-family:Menlo,'DejaVu Sans Mono',consolas,'Courier New',monospace\">\n",
       "</pre>\n"
      ],
      "text/plain": [
       "\n"
      ]
     },
     "metadata": {},
     "output_type": "display_data"
    },
    {
     "name": "stdout",
     "output_type": "stream",
     "text": [
      "Running file 2: data_simulation_3.nc\n"
     ]
    },
    {
     "data": {
      "application/vnd.jupyter.widget-view+json": {
       "model_id": "8fe65e1e626445668eeb740720a45c73",
       "version_major": 2,
       "version_minor": 0
      },
      "text/plain": [
       "Output()"
      ]
     },
     "metadata": {},
     "output_type": "display_data"
    },
    {
     "data": {
      "text/html": [
       "<pre style=\"white-space:pre;overflow-x:auto;line-height:normal;font-family:Menlo,'DejaVu Sans Mono',consolas,'Courier New',monospace\"></pre>\n"
      ],
      "text/plain": []
     },
     "metadata": {},
     "output_type": "display_data"
    },
    {
     "data": {
      "text/html": [
       "<pre style=\"white-space:pre;overflow-x:auto;line-height:normal;font-family:Menlo,'DejaVu Sans Mono',consolas,'Courier New',monospace\">\n",
       "</pre>\n"
      ],
      "text/plain": [
       "\n"
      ]
     },
     "metadata": {},
     "output_type": "display_data"
    },
    {
     "data": {
      "application/vnd.jupyter.widget-view+json": {
       "model_id": "a09767d2880c43ad9ca6906a4bbc22ff",
       "version_major": 2,
       "version_minor": 0
      },
      "text/plain": [
       "Output()"
      ]
     },
     "metadata": {},
     "output_type": "display_data"
    },
    {
     "data": {
      "text/html": [
       "<pre style=\"white-space:pre;overflow-x:auto;line-height:normal;font-family:Menlo,'DejaVu Sans Mono',consolas,'Courier New',monospace\"></pre>\n"
      ],
      "text/plain": []
     },
     "metadata": {},
     "output_type": "display_data"
    },
    {
     "data": {
      "text/html": [
       "<pre style=\"white-space:pre;overflow-x:auto;line-height:normal;font-family:Menlo,'DejaVu Sans Mono',consolas,'Courier New',monospace\">\n",
       "</pre>\n"
      ],
      "text/plain": [
       "\n"
      ]
     },
     "metadata": {},
     "output_type": "display_data"
    },
    {
     "data": {
      "application/vnd.jupyter.widget-view+json": {
       "model_id": "6d8027232b3c48cd8c1b0f904d486a02",
       "version_major": 2,
       "version_minor": 0
      },
      "text/plain": [
       "Output()"
      ]
     },
     "metadata": {},
     "output_type": "display_data"
    },
    {
     "data": {
      "text/html": [
       "<pre style=\"white-space:pre;overflow-x:auto;line-height:normal;font-family:Menlo,'DejaVu Sans Mono',consolas,'Courier New',monospace\"></pre>\n"
      ],
      "text/plain": []
     },
     "metadata": {},
     "output_type": "display_data"
    },
    {
     "data": {
      "text/html": [
       "<pre style=\"white-space:pre;overflow-x:auto;line-height:normal;font-family:Menlo,'DejaVu Sans Mono',consolas,'Courier New',monospace\">\n",
       "</pre>\n"
      ],
      "text/plain": [
       "\n"
      ]
     },
     "metadata": {},
     "output_type": "display_data"
    },
    {
     "data": {
      "application/vnd.jupyter.widget-view+json": {
       "model_id": "d1a59a65a9ee47ccbea5868e49963718",
       "version_major": 2,
       "version_minor": 0
      },
      "text/plain": [
       "Output()"
      ]
     },
     "metadata": {},
     "output_type": "display_data"
    },
    {
     "data": {
      "text/html": [
       "<pre style=\"white-space:pre;overflow-x:auto;line-height:normal;font-family:Menlo,'DejaVu Sans Mono',consolas,'Courier New',monospace\"></pre>\n"
      ],
      "text/plain": []
     },
     "metadata": {},
     "output_type": "display_data"
    },
    {
     "data": {
      "text/html": [
       "<pre style=\"white-space:pre;overflow-x:auto;line-height:normal;font-family:Menlo,'DejaVu Sans Mono',consolas,'Courier New',monospace\">\n",
       "</pre>\n"
      ],
      "text/plain": [
       "\n"
      ]
     },
     "metadata": {},
     "output_type": "display_data"
    },
    {
     "name": "stdout",
     "output_type": "stream",
     "text": [
      "Running file 3: data_simulation_1.nc\n"
     ]
    },
    {
     "data": {
      "application/vnd.jupyter.widget-view+json": {
       "model_id": "7dca164cfd6247fc810f99bede6ec0cd",
       "version_major": 2,
       "version_minor": 0
      },
      "text/plain": [
       "Output()"
      ]
     },
     "metadata": {},
     "output_type": "display_data"
    },
    {
     "data": {
      "text/html": [
       "<pre style=\"white-space:pre;overflow-x:auto;line-height:normal;font-family:Menlo,'DejaVu Sans Mono',consolas,'Courier New',monospace\"></pre>\n"
      ],
      "text/plain": []
     },
     "metadata": {},
     "output_type": "display_data"
    },
    {
     "data": {
      "text/html": [
       "<pre style=\"white-space:pre;overflow-x:auto;line-height:normal;font-family:Menlo,'DejaVu Sans Mono',consolas,'Courier New',monospace\">\n",
       "</pre>\n"
      ],
      "text/plain": [
       "\n"
      ]
     },
     "metadata": {},
     "output_type": "display_data"
    },
    {
     "data": {
      "application/vnd.jupyter.widget-view+json": {
       "model_id": "efd3abdc7d9e4efab1e1efaf66d6cc1d",
       "version_major": 2,
       "version_minor": 0
      },
      "text/plain": [
       "Output()"
      ]
     },
     "metadata": {},
     "output_type": "display_data"
    },
    {
     "data": {
      "text/html": [
       "<pre style=\"white-space:pre;overflow-x:auto;line-height:normal;font-family:Menlo,'DejaVu Sans Mono',consolas,'Courier New',monospace\"></pre>\n"
      ],
      "text/plain": []
     },
     "metadata": {},
     "output_type": "display_data"
    },
    {
     "data": {
      "text/html": [
       "<pre style=\"white-space:pre;overflow-x:auto;line-height:normal;font-family:Menlo,'DejaVu Sans Mono',consolas,'Courier New',monospace\">\n",
       "</pre>\n"
      ],
      "text/plain": [
       "\n"
      ]
     },
     "metadata": {},
     "output_type": "display_data"
    },
    {
     "data": {
      "application/vnd.jupyter.widget-view+json": {
       "model_id": "0f54ff611a1542ea9eefdf39c2e3be0e",
       "version_major": 2,
       "version_minor": 0
      },
      "text/plain": [
       "Output()"
      ]
     },
     "metadata": {},
     "output_type": "display_data"
    },
    {
     "data": {
      "text/html": [
       "<pre style=\"white-space:pre;overflow-x:auto;line-height:normal;font-family:Menlo,'DejaVu Sans Mono',consolas,'Courier New',monospace\"></pre>\n"
      ],
      "text/plain": []
     },
     "metadata": {},
     "output_type": "display_data"
    },
    {
     "data": {
      "text/html": [
       "<pre style=\"white-space:pre;overflow-x:auto;line-height:normal;font-family:Menlo,'DejaVu Sans Mono',consolas,'Courier New',monospace\">\n",
       "</pre>\n"
      ],
      "text/plain": [
       "\n"
      ]
     },
     "metadata": {},
     "output_type": "display_data"
    },
    {
     "data": {
      "application/vnd.jupyter.widget-view+json": {
       "model_id": "a89d986bdc8e4490b39e96cf3baf16e5",
       "version_major": 2,
       "version_minor": 0
      },
      "text/plain": [
       "Output()"
      ]
     },
     "metadata": {},
     "output_type": "display_data"
    },
    {
     "data": {
      "text/html": [
       "<pre style=\"white-space:pre;overflow-x:auto;line-height:normal;font-family:Menlo,'DejaVu Sans Mono',consolas,'Courier New',monospace\"></pre>\n"
      ],
      "text/plain": []
     },
     "metadata": {},
     "output_type": "display_data"
    },
    {
     "data": {
      "text/html": [
       "<pre style=\"white-space:pre;overflow-x:auto;line-height:normal;font-family:Menlo,'DejaVu Sans Mono',consolas,'Courier New',monospace\">\n",
       "</pre>\n"
      ],
      "text/plain": [
       "\n"
      ]
     },
     "metadata": {},
     "output_type": "display_data"
    },
    {
     "name": "stdout",
     "output_type": "stream",
     "text": [
      "Running file 4: data_simulation_9.nc\n"
     ]
    },
    {
     "data": {
      "application/vnd.jupyter.widget-view+json": {
       "model_id": "9e2bffcf0aba42fc8f3965299220bb26",
       "version_major": 2,
       "version_minor": 0
      },
      "text/plain": [
       "Output()"
      ]
     },
     "metadata": {},
     "output_type": "display_data"
    },
    {
     "data": {
      "text/html": [
       "<pre style=\"white-space:pre;overflow-x:auto;line-height:normal;font-family:Menlo,'DejaVu Sans Mono',consolas,'Courier New',monospace\"></pre>\n"
      ],
      "text/plain": []
     },
     "metadata": {},
     "output_type": "display_data"
    },
    {
     "data": {
      "text/html": [
       "<pre style=\"white-space:pre;overflow-x:auto;line-height:normal;font-family:Menlo,'DejaVu Sans Mono',consolas,'Courier New',monospace\">\n",
       "</pre>\n"
      ],
      "text/plain": [
       "\n"
      ]
     },
     "metadata": {},
     "output_type": "display_data"
    },
    {
     "data": {
      "application/vnd.jupyter.widget-view+json": {
       "model_id": "57c15b9132e94f61ae798917aadd5f4a",
       "version_major": 2,
       "version_minor": 0
      },
      "text/plain": [
       "Output()"
      ]
     },
     "metadata": {},
     "output_type": "display_data"
    },
    {
     "data": {
      "text/html": [
       "<pre style=\"white-space:pre;overflow-x:auto;line-height:normal;font-family:Menlo,'DejaVu Sans Mono',consolas,'Courier New',monospace\"></pre>\n"
      ],
      "text/plain": []
     },
     "metadata": {},
     "output_type": "display_data"
    },
    {
     "data": {
      "text/html": [
       "<pre style=\"white-space:pre;overflow-x:auto;line-height:normal;font-family:Menlo,'DejaVu Sans Mono',consolas,'Courier New',monospace\">\n",
       "</pre>\n"
      ],
      "text/plain": [
       "\n"
      ]
     },
     "metadata": {},
     "output_type": "display_data"
    },
    {
     "data": {
      "application/vnd.jupyter.widget-view+json": {
       "model_id": "c18787c2afe64a849089c2a53b420ed8",
       "version_major": 2,
       "version_minor": 0
      },
      "text/plain": [
       "Output()"
      ]
     },
     "metadata": {},
     "output_type": "display_data"
    },
    {
     "data": {
      "text/html": [
       "<pre style=\"white-space:pre;overflow-x:auto;line-height:normal;font-family:Menlo,'DejaVu Sans Mono',consolas,'Courier New',monospace\"></pre>\n"
      ],
      "text/plain": []
     },
     "metadata": {},
     "output_type": "display_data"
    },
    {
     "data": {
      "text/html": [
       "<pre style=\"white-space:pre;overflow-x:auto;line-height:normal;font-family:Menlo,'DejaVu Sans Mono',consolas,'Courier New',monospace\">\n",
       "</pre>\n"
      ],
      "text/plain": [
       "\n"
      ]
     },
     "metadata": {},
     "output_type": "display_data"
    },
    {
     "data": {
      "application/vnd.jupyter.widget-view+json": {
       "model_id": "48e6a86118b74d958000a30d0e27a60d",
       "version_major": 2,
       "version_minor": 0
      },
      "text/plain": [
       "Output()"
      ]
     },
     "metadata": {},
     "output_type": "display_data"
    },
    {
     "data": {
      "text/html": [
       "<pre style=\"white-space:pre;overflow-x:auto;line-height:normal;font-family:Menlo,'DejaVu Sans Mono',consolas,'Courier New',monospace\"></pre>\n"
      ],
      "text/plain": []
     },
     "metadata": {},
     "output_type": "display_data"
    },
    {
     "data": {
      "text/html": [
       "<pre style=\"white-space:pre;overflow-x:auto;line-height:normal;font-family:Menlo,'DejaVu Sans Mono',consolas,'Courier New',monospace\">\n",
       "</pre>\n"
      ],
      "text/plain": [
       "\n"
      ]
     },
     "metadata": {},
     "output_type": "display_data"
    },
    {
     "name": "stdout",
     "output_type": "stream",
     "text": [
      "Running file 5: data_simulation_0.nc\n"
     ]
    },
    {
     "data": {
      "application/vnd.jupyter.widget-view+json": {
       "model_id": "bab32c38474d4b40975249e3f2c36d69",
       "version_major": 2,
       "version_minor": 0
      },
      "text/plain": [
       "Output()"
      ]
     },
     "metadata": {},
     "output_type": "display_data"
    },
    {
     "data": {
      "text/html": [
       "<pre style=\"white-space:pre;overflow-x:auto;line-height:normal;font-family:Menlo,'DejaVu Sans Mono',consolas,'Courier New',monospace\"></pre>\n"
      ],
      "text/plain": []
     },
     "metadata": {},
     "output_type": "display_data"
    },
    {
     "data": {
      "text/html": [
       "<pre style=\"white-space:pre;overflow-x:auto;line-height:normal;font-family:Menlo,'DejaVu Sans Mono',consolas,'Courier New',monospace\">\n",
       "</pre>\n"
      ],
      "text/plain": [
       "\n"
      ]
     },
     "metadata": {},
     "output_type": "display_data"
    },
    {
     "data": {
      "application/vnd.jupyter.widget-view+json": {
       "model_id": "22ebee6dc34a4e2d8d7f66ecd0670a62",
       "version_major": 2,
       "version_minor": 0
      },
      "text/plain": [
       "Output()"
      ]
     },
     "metadata": {},
     "output_type": "display_data"
    },
    {
     "data": {
      "text/html": [
       "<pre style=\"white-space:pre;overflow-x:auto;line-height:normal;font-family:Menlo,'DejaVu Sans Mono',consolas,'Courier New',monospace\"></pre>\n"
      ],
      "text/plain": []
     },
     "metadata": {},
     "output_type": "display_data"
    },
    {
     "data": {
      "text/html": [
       "<pre style=\"white-space:pre;overflow-x:auto;line-height:normal;font-family:Menlo,'DejaVu Sans Mono',consolas,'Courier New',monospace\">\n",
       "</pre>\n"
      ],
      "text/plain": [
       "\n"
      ]
     },
     "metadata": {},
     "output_type": "display_data"
    },
    {
     "data": {
      "application/vnd.jupyter.widget-view+json": {
       "model_id": "3a7708b9cf034b08b2223d1b3a3b6dc3",
       "version_major": 2,
       "version_minor": 0
      },
      "text/plain": [
       "Output()"
      ]
     },
     "metadata": {},
     "output_type": "display_data"
    },
    {
     "data": {
      "text/html": [
       "<pre style=\"white-space:pre;overflow-x:auto;line-height:normal;font-family:Menlo,'DejaVu Sans Mono',consolas,'Courier New',monospace\"></pre>\n"
      ],
      "text/plain": []
     },
     "metadata": {},
     "output_type": "display_data"
    },
    {
     "data": {
      "text/html": [
       "<pre style=\"white-space:pre;overflow-x:auto;line-height:normal;font-family:Menlo,'DejaVu Sans Mono',consolas,'Courier New',monospace\">\n",
       "</pre>\n"
      ],
      "text/plain": [
       "\n"
      ]
     },
     "metadata": {},
     "output_type": "display_data"
    },
    {
     "data": {
      "application/vnd.jupyter.widget-view+json": {
       "model_id": "474d5f63cb1749b681a447ebb2655b00",
       "version_major": 2,
       "version_minor": 0
      },
      "text/plain": [
       "Output()"
      ]
     },
     "metadata": {},
     "output_type": "display_data"
    },
    {
     "data": {
      "text/html": [
       "<pre style=\"white-space:pre;overflow-x:auto;line-height:normal;font-family:Menlo,'DejaVu Sans Mono',consolas,'Courier New',monospace\"></pre>\n"
      ],
      "text/plain": []
     },
     "metadata": {},
     "output_type": "display_data"
    },
    {
     "data": {
      "text/html": [
       "<pre style=\"white-space:pre;overflow-x:auto;line-height:normal;font-family:Menlo,'DejaVu Sans Mono',consolas,'Courier New',monospace\">\n",
       "</pre>\n"
      ],
      "text/plain": [
       "\n"
      ]
     },
     "metadata": {},
     "output_type": "display_data"
    },
    {
     "name": "stdout",
     "output_type": "stream",
     "text": [
      "Running file 6: data_simulation_4.nc\n"
     ]
    },
    {
     "ename": "KeyboardInterrupt",
     "evalue": "",
     "output_type": "error",
     "traceback": [
      "\u001b[0;31m---------------------------------------------------------------------------\u001b[0m",
      "\u001b[0;31mKeyboardInterrupt\u001b[0m                         Traceback (most recent call last)",
      "Cell \u001b[0;32mIn[7], line 44\u001b[0m\n\u001b[1;32m     37\u001b[0m stretched \u001b[38;5;241m=\u001b[39m skimage\u001b[38;5;241m.\u001b[39mexposure\u001b[38;5;241m.\u001b[39mrescale_intensity(\n\u001b[1;32m     38\u001b[0m     data_up\u001b[38;5;241m.\u001b[39mtga, \n\u001b[1;32m     39\u001b[0m     in_range\u001b[38;5;241m=\u001b[39m\u001b[38;5;28mtuple\u001b[39m(np\u001b[38;5;241m.\u001b[39mpercentile(data_up\u001b[38;5;241m.\u001b[39mtga, (\u001b[38;5;241m1\u001b[39m, \u001b[38;5;241m99\u001b[39m))),\n\u001b[1;32m     40\u001b[0m )\n\u001b[1;32m     41\u001b[0m data_up \u001b[38;5;241m=\u001b[39m data_up\u001b[38;5;241m.\u001b[39massign(tga_stretched\u001b[38;5;241m=\u001b[39mxr\u001b[38;5;241m.\u001b[39mDataArray(stretched, coords\u001b[38;5;241m=\u001b[39mdata_up\u001b[38;5;241m.\u001b[39mcoords))\n\u001b[0;32m---> 44\u001b[0m windows \u001b[38;5;241m=\u001b[39m \u001b[43mmg\u001b[49m\u001b[38;5;241;43m.\u001b[39;49m\u001b[43mdetect_anomalies\u001b[49m\u001b[43m(\u001b[49m\n\u001b[1;32m     45\u001b[0m \u001b[43m    \u001b[49m\u001b[43mdata_up\u001b[49m\u001b[38;5;241;43m.\u001b[39;49m\u001b[43mtga_stretched\u001b[49m\u001b[43m,\u001b[49m\u001b[43m \u001b[49m\n\u001b[1;32m     46\u001b[0m \u001b[43m    \u001b[49m\u001b[43msize_range\u001b[49m\u001b[38;5;241;43m=\u001b[39;49m\u001b[43m[\u001b[49m\u001b[38;5;241;43m20\u001b[39;49m\u001b[43m,\u001b[49m\u001b[43m \u001b[49m\u001b[38;5;241;43m150\u001b[39;49m\u001b[43m]\u001b[49m\u001b[43m,\u001b[49m\n\u001b[1;32m     47\u001b[0m \u001b[43m    \u001b[49m\u001b[43msize_increment\u001b[49m\u001b[38;5;241;43m=\u001b[39;49m\u001b[38;5;241;43m1.0\u001b[39;49m\u001b[43m,\u001b[49m\n\u001b[1;32m     48\u001b[0m \u001b[43m    \u001b[49m\u001b[43mthreshold\u001b[49m\u001b[38;5;241;43m=\u001b[39;49m\u001b[38;5;241;43m0.05\u001b[39;49m\u001b[43m,\u001b[49m\n\u001b[1;32m     49\u001b[0m \u001b[43m    \u001b[49m\u001b[43moverlap\u001b[49m\u001b[38;5;241;43m=\u001b[39;49m\u001b[38;5;241;43m0.0\u001b[39;49m\u001b[43m,\u001b[49m\n\u001b[1;32m     50\u001b[0m \u001b[43m    \u001b[49m\u001b[43mexclude_border\u001b[49m\u001b[38;5;241;43m=\u001b[39;49m\u001b[38;5;241;43m15\u001b[39;49m\n\u001b[1;32m     51\u001b[0m \u001b[43m\u001b[49m\u001b[43m)\u001b[49m\n\u001b[1;32m     53\u001b[0m \u001b[38;5;66;03m## Standard method\u001b[39;00m\n\u001b[1;32m     54\u001b[0m positions \u001b[38;5;241m=\u001b[39m []\n",
      "File \u001b[0;32m~/Documentos/repositories/micromag-interfering-sources/code/different_grain_density_maps/micromag.py:366\u001b[0m, in \u001b[0;36mdetect_anomalies\u001b[0;34m(data, size_range, size_increment, nsizes, threshold, overlap, exclude_border)\u001b[0m\n\u001b[1;32m    364\u001b[0m min_sigma, max_sigma \u001b[38;5;241m=\u001b[39m [\u001b[38;5;241m0.5\u001b[39m \u001b[38;5;241m*\u001b[39m i \u001b[38;5;28;01mfor\u001b[39;00m i \u001b[38;5;129;01min\u001b[39;00m size_range]\n\u001b[1;32m    365\u001b[0m spacing \u001b[38;5;241m=\u001b[39m np\u001b[38;5;241m.\u001b[39mmean([np\u001b[38;5;241m.\u001b[39mabs(data\u001b[38;5;241m.\u001b[39mx[\u001b[38;5;241m1\u001b[39m] \u001b[38;5;241m-\u001b[39m data\u001b[38;5;241m.\u001b[39mx[\u001b[38;5;241m0\u001b[39m]), np\u001b[38;5;241m.\u001b[39mabs(data\u001b[38;5;241m.\u001b[39my[\u001b[38;5;241m1\u001b[39m] \u001b[38;5;241m-\u001b[39m data\u001b[38;5;241m.\u001b[39my[\u001b[38;5;241m0\u001b[39m])])\n\u001b[0;32m--> 366\u001b[0m iy, ix, sigma_pix \u001b[38;5;241m=\u001b[39m \u001b[43mskimage\u001b[49m\u001b[38;5;241;43m.\u001b[39;49m\u001b[43mfeature\u001b[49m\u001b[38;5;241;43m.\u001b[39;49m\u001b[43mblob_log\u001b[49m\u001b[43m(\u001b[49m\n\u001b[1;32m    367\u001b[0m \u001b[43m    \u001b[49m\u001b[43mdata\u001b[49m\u001b[43m,\u001b[49m\n\u001b[1;32m    368\u001b[0m \u001b[43m    \u001b[49m\u001b[43mmin_sigma\u001b[49m\u001b[38;5;241;43m=\u001b[39;49m\u001b[43mmin_sigma\u001b[49m\u001b[43m \u001b[49m\u001b[38;5;241;43m/\u001b[39;49m\u001b[43m \u001b[49m\u001b[43mspacing\u001b[49m\u001b[43m,\u001b[49m\n\u001b[1;32m    369\u001b[0m \u001b[43m    \u001b[49m\u001b[43mmax_sigma\u001b[49m\u001b[38;5;241;43m=\u001b[39;49m\u001b[43mmax_sigma\u001b[49m\u001b[43m \u001b[49m\u001b[38;5;241;43m/\u001b[39;49m\u001b[43m \u001b[49m\u001b[43mspacing\u001b[49m\u001b[43m,\u001b[49m\n\u001b[1;32m    370\u001b[0m \u001b[43m    \u001b[49m\u001b[43mthreshold\u001b[49m\u001b[38;5;241;43m=\u001b[39;49m\u001b[43mthreshold\u001b[49m\u001b[43m,\u001b[49m\n\u001b[1;32m    371\u001b[0m \u001b[43m    \u001b[49m\u001b[43mnum_sigma\u001b[49m\u001b[38;5;241;43m=\u001b[39;49m\u001b[43mnsizes\u001b[49m\u001b[43m,\u001b[49m\n\u001b[1;32m    372\u001b[0m \u001b[43m    \u001b[49m\u001b[43moverlap\u001b[49m\u001b[38;5;241;43m=\u001b[39;49m\u001b[43moverlap\u001b[49m\u001b[43m,\u001b[49m\n\u001b[1;32m    373\u001b[0m \u001b[43m    \u001b[49m\u001b[43mexclude_border\u001b[49m\u001b[38;5;241;43m=\u001b[39;49m\u001b[43m \u001b[49m\u001b[38;5;28;43mint\u001b[39;49m\u001b[43m(\u001b[49m\u001b[43mexclude_border\u001b[49m\u001b[43m \u001b[49m\u001b[38;5;241;43m/\u001b[39;49m\u001b[43m \u001b[49m\u001b[43mspacing\u001b[49m\u001b[43m)\u001b[49m\u001b[43m,\u001b[49m\n\u001b[1;32m    374\u001b[0m \u001b[43m\u001b[49m\u001b[43m)\u001b[49m\u001b[38;5;241m.\u001b[39mT\n\u001b[1;32m    375\u001b[0m blob_coords \u001b[38;5;241m=\u001b[39m (data\u001b[38;5;241m.\u001b[39mx\u001b[38;5;241m.\u001b[39mvalues[ix\u001b[38;5;241m.\u001b[39mastype(\u001b[38;5;124m\"\u001b[39m\u001b[38;5;124mint\u001b[39m\u001b[38;5;124m\"\u001b[39m)], data\u001b[38;5;241m.\u001b[39my\u001b[38;5;241m.\u001b[39mvalues[iy\u001b[38;5;241m.\u001b[39mastype(\u001b[38;5;124m\"\u001b[39m\u001b[38;5;124mint\u001b[39m\u001b[38;5;124m\"\u001b[39m)])\n\u001b[1;32m    376\u001b[0m blob_sizes \u001b[38;5;241m=\u001b[39m sigma_pix \u001b[38;5;241m*\u001b[39m np\u001b[38;5;241m.\u001b[39msqrt(\u001b[38;5;241m2\u001b[39m) \u001b[38;5;241m*\u001b[39m spacing \u001b[38;5;241m*\u001b[39m size_increment\n",
      "File \u001b[0;32m~/anaconda3/envs/micromag-euler-dipole/lib/python3.10/site-packages/skimage/feature/blob.py:550\u001b[0m, in \u001b[0;36mblob_log\u001b[0;34m(image, min_sigma, max_sigma, num_sigma, threshold, overlap, log_scale, threshold_rel, exclude_border)\u001b[0m\n\u001b[1;32m    547\u001b[0m image_cube \u001b[38;5;241m=\u001b[39m np\u001b[38;5;241m.\u001b[39mempty(image\u001b[38;5;241m.\u001b[39mshape \u001b[38;5;241m+\u001b[39m (\u001b[38;5;28mlen\u001b[39m(sigma_list),), dtype\u001b[38;5;241m=\u001b[39mfloat_dtype)\n\u001b[1;32m    548\u001b[0m \u001b[38;5;28;01mfor\u001b[39;00m i, s \u001b[38;5;129;01min\u001b[39;00m \u001b[38;5;28menumerate\u001b[39m(sigma_list):\n\u001b[1;32m    549\u001b[0m     \u001b[38;5;66;03m# average s**2 provides scale invariance\u001b[39;00m\n\u001b[0;32m--> 550\u001b[0m     image_cube[\u001b[38;5;241m.\u001b[39m\u001b[38;5;241m.\u001b[39m\u001b[38;5;241m.\u001b[39m, i] \u001b[38;5;241m=\u001b[39m \u001b[38;5;241m-\u001b[39m\u001b[43mndi\u001b[49m\u001b[38;5;241;43m.\u001b[39;49m\u001b[43mgaussian_laplace\u001b[49m\u001b[43m(\u001b[49m\u001b[43mimage\u001b[49m\u001b[43m,\u001b[49m\u001b[43m \u001b[49m\u001b[43ms\u001b[49m\u001b[43m)\u001b[49m \u001b[38;5;241m*\u001b[39m np\u001b[38;5;241m.\u001b[39mmean(s) \u001b[38;5;241m*\u001b[39m\u001b[38;5;241m*\u001b[39m \u001b[38;5;241m2\u001b[39m\n\u001b[1;32m    552\u001b[0m exclude_border \u001b[38;5;241m=\u001b[39m _format_exclude_border(image\u001b[38;5;241m.\u001b[39mndim, exclude_border)\n\u001b[1;32m    553\u001b[0m local_maxima \u001b[38;5;241m=\u001b[39m peak_local_max(\n\u001b[1;32m    554\u001b[0m     image_cube,\n\u001b[1;32m    555\u001b[0m     threshold_abs\u001b[38;5;241m=\u001b[39mthreshold,\n\u001b[0;32m   (...)\u001b[0m\n\u001b[1;32m    558\u001b[0m     footprint\u001b[38;5;241m=\u001b[39mnp\u001b[38;5;241m.\u001b[39mones((\u001b[38;5;241m3\u001b[39m,) \u001b[38;5;241m*\u001b[39m (image\u001b[38;5;241m.\u001b[39mndim \u001b[38;5;241m+\u001b[39m \u001b[38;5;241m1\u001b[39m)),\n\u001b[1;32m    559\u001b[0m )\n",
      "File \u001b[0;32m~/anaconda3/envs/micromag-euler-dipole/lib/python3.10/site-packages/scipy/ndimage/_filters.py:644\u001b[0m, in \u001b[0;36mgaussian_laplace\u001b[0;34m(input, sigma, output, mode, cval, **kwargs)\u001b[0m\n\u001b[1;32m    640\u001b[0m     order[axis] \u001b[38;5;241m=\u001b[39m \u001b[38;5;241m2\u001b[39m\n\u001b[1;32m    641\u001b[0m     \u001b[38;5;28;01mreturn\u001b[39;00m gaussian_filter(\u001b[38;5;28minput\u001b[39m, sigma, order, output, mode, cval,\n\u001b[1;32m    642\u001b[0m                            \u001b[38;5;241m*\u001b[39m\u001b[38;5;241m*\u001b[39mkwargs)\n\u001b[0;32m--> 644\u001b[0m \u001b[38;5;28;01mreturn\u001b[39;00m \u001b[43mgeneric_laplace\u001b[49m\u001b[43m(\u001b[49m\u001b[38;5;28;43minput\u001b[39;49m\u001b[43m,\u001b[49m\u001b[43m \u001b[49m\u001b[43mderivative2\u001b[49m\u001b[43m,\u001b[49m\u001b[43m \u001b[49m\u001b[43moutput\u001b[49m\u001b[43m,\u001b[49m\u001b[43m \u001b[49m\u001b[43mmode\u001b[49m\u001b[43m,\u001b[49m\u001b[43m \u001b[49m\u001b[43mcval\u001b[49m\u001b[43m,\u001b[49m\n\u001b[1;32m    645\u001b[0m \u001b[43m                       \u001b[49m\u001b[43mextra_arguments\u001b[49m\u001b[38;5;241;43m=\u001b[39;49m\u001b[43m(\u001b[49m\u001b[43msigma\u001b[49m\u001b[43m,\u001b[49m\u001b[43m)\u001b[49m\u001b[43m,\u001b[49m\n\u001b[1;32m    646\u001b[0m \u001b[43m                       \u001b[49m\u001b[43mextra_keywords\u001b[49m\u001b[38;5;241;43m=\u001b[39;49m\u001b[43mkwargs\u001b[49m\u001b[43m)\u001b[49m\n",
      "File \u001b[0;32m~/anaconda3/envs/micromag-euler-dipole/lib/python3.10/site-packages/scipy/ndimage/_filters.py:553\u001b[0m, in \u001b[0;36mgeneric_laplace\u001b[0;34m(input, derivative2, output, mode, cval, extra_arguments, extra_keywords)\u001b[0m\n\u001b[1;32m    550\u001b[0m     derivative2(\u001b[38;5;28minput\u001b[39m, axes[\u001b[38;5;241m0\u001b[39m], output, modes[\u001b[38;5;241m0\u001b[39m], cval,\n\u001b[1;32m    551\u001b[0m                 \u001b[38;5;241m*\u001b[39mextra_arguments, \u001b[38;5;241m*\u001b[39m\u001b[38;5;241m*\u001b[39mextra_keywords)\n\u001b[1;32m    552\u001b[0m     \u001b[38;5;28;01mfor\u001b[39;00m ii \u001b[38;5;129;01min\u001b[39;00m \u001b[38;5;28mrange\u001b[39m(\u001b[38;5;241m1\u001b[39m, \u001b[38;5;28mlen\u001b[39m(axes)):\n\u001b[0;32m--> 553\u001b[0m         tmp \u001b[38;5;241m=\u001b[39m \u001b[43mderivative2\u001b[49m\u001b[43m(\u001b[49m\u001b[38;5;28;43minput\u001b[39;49m\u001b[43m,\u001b[49m\u001b[43m \u001b[49m\u001b[43maxes\u001b[49m\u001b[43m[\u001b[49m\u001b[43mii\u001b[49m\u001b[43m]\u001b[49m\u001b[43m,\u001b[49m\u001b[43m \u001b[49m\u001b[43moutput\u001b[49m\u001b[38;5;241;43m.\u001b[39;49m\u001b[43mdtype\u001b[49m\u001b[43m,\u001b[49m\u001b[43m \u001b[49m\u001b[43mmodes\u001b[49m\u001b[43m[\u001b[49m\u001b[43mii\u001b[49m\u001b[43m]\u001b[49m\u001b[43m,\u001b[49m\u001b[43m \u001b[49m\u001b[43mcval\u001b[49m\u001b[43m,\u001b[49m\n\u001b[1;32m    554\u001b[0m \u001b[43m                          \u001b[49m\u001b[38;5;241;43m*\u001b[39;49m\u001b[43mextra_arguments\u001b[49m\u001b[43m,\u001b[49m\u001b[43m \u001b[49m\u001b[38;5;241;43m*\u001b[39;49m\u001b[38;5;241;43m*\u001b[39;49m\u001b[43mextra_keywords\u001b[49m\u001b[43m)\u001b[49m\n\u001b[1;32m    555\u001b[0m         output \u001b[38;5;241m+\u001b[39m\u001b[38;5;241m=\u001b[39m tmp\n\u001b[1;32m    556\u001b[0m \u001b[38;5;28;01melse\u001b[39;00m:\n",
      "File \u001b[0;32m~/anaconda3/envs/micromag-euler-dipole/lib/python3.10/site-packages/scipy/ndimage/_filters.py:641\u001b[0m, in \u001b[0;36mgaussian_laplace.<locals>.derivative2\u001b[0;34m(input, axis, output, mode, cval, sigma, **kwargs)\u001b[0m\n\u001b[1;32m    639\u001b[0m order \u001b[38;5;241m=\u001b[39m [\u001b[38;5;241m0\u001b[39m] \u001b[38;5;241m*\u001b[39m \u001b[38;5;28minput\u001b[39m\u001b[38;5;241m.\u001b[39mndim\n\u001b[1;32m    640\u001b[0m order[axis] \u001b[38;5;241m=\u001b[39m \u001b[38;5;241m2\u001b[39m\n\u001b[0;32m--> 641\u001b[0m \u001b[38;5;28;01mreturn\u001b[39;00m \u001b[43mgaussian_filter\u001b[49m\u001b[43m(\u001b[49m\u001b[38;5;28;43minput\u001b[39;49m\u001b[43m,\u001b[49m\u001b[43m \u001b[49m\u001b[43msigma\u001b[49m\u001b[43m,\u001b[49m\u001b[43m \u001b[49m\u001b[43morder\u001b[49m\u001b[43m,\u001b[49m\u001b[43m \u001b[49m\u001b[43moutput\u001b[49m\u001b[43m,\u001b[49m\u001b[43m \u001b[49m\u001b[43mmode\u001b[49m\u001b[43m,\u001b[49m\u001b[43m \u001b[49m\u001b[43mcval\u001b[49m\u001b[43m,\u001b[49m\n\u001b[1;32m    642\u001b[0m \u001b[43m                       \u001b[49m\u001b[38;5;241;43m*\u001b[39;49m\u001b[38;5;241;43m*\u001b[39;49m\u001b[43mkwargs\u001b[49m\u001b[43m)\u001b[49m\n",
      "File \u001b[0;32m~/anaconda3/envs/micromag-euler-dipole/lib/python3.10/site-packages/scipy/ndimage/_filters.py:385\u001b[0m, in \u001b[0;36mgaussian_filter\u001b[0;34m(input, sigma, order, output, mode, cval, truncate, radius, axes)\u001b[0m\n\u001b[1;32m    383\u001b[0m \u001b[38;5;28;01mif\u001b[39;00m \u001b[38;5;28mlen\u001b[39m(axes) \u001b[38;5;241m>\u001b[39m \u001b[38;5;241m0\u001b[39m:\n\u001b[1;32m    384\u001b[0m     \u001b[38;5;28;01mfor\u001b[39;00m axis, sigma, order, mode, radius \u001b[38;5;129;01min\u001b[39;00m axes:\n\u001b[0;32m--> 385\u001b[0m         \u001b[43mgaussian_filter1d\u001b[49m\u001b[43m(\u001b[49m\u001b[38;5;28;43minput\u001b[39;49m\u001b[43m,\u001b[49m\u001b[43m \u001b[49m\u001b[43msigma\u001b[49m\u001b[43m,\u001b[49m\u001b[43m \u001b[49m\u001b[43maxis\u001b[49m\u001b[43m,\u001b[49m\u001b[43m \u001b[49m\u001b[43morder\u001b[49m\u001b[43m,\u001b[49m\u001b[43m \u001b[49m\u001b[43moutput\u001b[49m\u001b[43m,\u001b[49m\n\u001b[1;32m    386\u001b[0m \u001b[43m                          \u001b[49m\u001b[43mmode\u001b[49m\u001b[43m,\u001b[49m\u001b[43m \u001b[49m\u001b[43mcval\u001b[49m\u001b[43m,\u001b[49m\u001b[43m \u001b[49m\u001b[43mtruncate\u001b[49m\u001b[43m,\u001b[49m\u001b[43m \u001b[49m\u001b[43mradius\u001b[49m\u001b[38;5;241;43m=\u001b[39;49m\u001b[43mradius\u001b[49m\u001b[43m)\u001b[49m\n\u001b[1;32m    387\u001b[0m         \u001b[38;5;28minput\u001b[39m \u001b[38;5;241m=\u001b[39m output\n\u001b[1;32m    388\u001b[0m \u001b[38;5;28;01melse\u001b[39;00m:\n",
      "File \u001b[0;32m~/anaconda3/envs/micromag-euler-dipole/lib/python3.10/site-packages/scipy/ndimage/_filters.py:283\u001b[0m, in \u001b[0;36mgaussian_filter1d\u001b[0;34m(input, sigma, axis, order, output, mode, cval, truncate, radius)\u001b[0m\n\u001b[1;32m    281\u001b[0m \u001b[38;5;66;03m# Since we are calling correlate, not convolve, revert the kernel\u001b[39;00m\n\u001b[1;32m    282\u001b[0m weights \u001b[38;5;241m=\u001b[39m _gaussian_kernel1d(sigma, order, lw)[::\u001b[38;5;241m-\u001b[39m\u001b[38;5;241m1\u001b[39m]\n\u001b[0;32m--> 283\u001b[0m \u001b[38;5;28;01mreturn\u001b[39;00m \u001b[43mcorrelate1d\u001b[49m\u001b[43m(\u001b[49m\u001b[38;5;28;43minput\u001b[39;49m\u001b[43m,\u001b[49m\u001b[43m \u001b[49m\u001b[43mweights\u001b[49m\u001b[43m,\u001b[49m\u001b[43m \u001b[49m\u001b[43maxis\u001b[49m\u001b[43m,\u001b[49m\u001b[43m \u001b[49m\u001b[43moutput\u001b[49m\u001b[43m,\u001b[49m\u001b[43m \u001b[49m\u001b[43mmode\u001b[49m\u001b[43m,\u001b[49m\u001b[43m \u001b[49m\u001b[43mcval\u001b[49m\u001b[43m,\u001b[49m\u001b[43m \u001b[49m\u001b[38;5;241;43m0\u001b[39;49m\u001b[43m)\u001b[49m\n",
      "File \u001b[0;32m~/anaconda3/envs/micromag-euler-dipole/lib/python3.10/site-packages/scipy/ndimage/_filters.py:140\u001b[0m, in \u001b[0;36mcorrelate1d\u001b[0;34m(input, weights, axis, output, mode, cval, origin)\u001b[0m\n\u001b[1;32m    136\u001b[0m     \u001b[38;5;28;01mraise\u001b[39;00m \u001b[38;5;167;01mValueError\u001b[39;00m(\u001b[38;5;124m'\u001b[39m\u001b[38;5;124mInvalid origin; origin must satisfy \u001b[39m\u001b[38;5;124m'\u001b[39m\n\u001b[1;32m    137\u001b[0m                      \u001b[38;5;124m'\u001b[39m\u001b[38;5;124m-(len(weights) // 2) <= origin <= \u001b[39m\u001b[38;5;124m'\u001b[39m\n\u001b[1;32m    138\u001b[0m                      \u001b[38;5;124m'\u001b[39m\u001b[38;5;124m(len(weights)-1) // 2\u001b[39m\u001b[38;5;124m'\u001b[39m)\n\u001b[1;32m    139\u001b[0m mode \u001b[38;5;241m=\u001b[39m _ni_support\u001b[38;5;241m.\u001b[39m_extend_mode_to_code(mode)\n\u001b[0;32m--> 140\u001b[0m \u001b[43m_nd_image\u001b[49m\u001b[38;5;241;43m.\u001b[39;49m\u001b[43mcorrelate1d\u001b[49m\u001b[43m(\u001b[49m\u001b[38;5;28;43minput\u001b[39;49m\u001b[43m,\u001b[49m\u001b[43m \u001b[49m\u001b[43mweights\u001b[49m\u001b[43m,\u001b[49m\u001b[43m \u001b[49m\u001b[43maxis\u001b[49m\u001b[43m,\u001b[49m\u001b[43m \u001b[49m\u001b[43moutput\u001b[49m\u001b[43m,\u001b[49m\u001b[43m \u001b[49m\u001b[43mmode\u001b[49m\u001b[43m,\u001b[49m\u001b[43m \u001b[49m\u001b[43mcval\u001b[49m\u001b[43m,\u001b[49m\n\u001b[1;32m    141\u001b[0m \u001b[43m                      \u001b[49m\u001b[43morigin\u001b[49m\u001b[43m)\u001b[49m\n\u001b[1;32m    142\u001b[0m \u001b[38;5;28;01mreturn\u001b[39;00m output\n",
      "\u001b[0;31mKeyboardInterrupt\u001b[0m: "
     ]
    }
   ],
   "source": [
    "# get all files inside the folder\n",
    "netcdf_files = [f for f in os.listdir(input_folder) if f.endswith(\".nc\")]\n",
    "\n",
    "for i, nc_file in enumerate(netcdf_files):\n",
    "    nc_file_path = os.path.join(input_folder, nc_file)\n",
    "    print(f\"Running file {i+1}: {nc_file}\")\n",
    "    \n",
    "    # Abrir o arquivo NetCDF com xarray\n",
    "    data = xr.open_dataset(nc_file_path)\n",
    "   \n",
    "    x_, y_ = np.meshgrid(data.x.values, data.y.values)\n",
    "    coordinates = ([x_, y_ , data.z.values])\n",
    "\n",
    "    # Run the code\n",
    "    data_copy = data.copy(deep=True)\n",
    "    data_copy2 = data_copy.copy(deep=True)\n",
    "\n",
    "    height_difference = 5\n",
    "    \n",
    "    # Have to assign the same points as the data because the Harmonica\n",
    "    # transforms give slightly different coordinates due to round-off.\n",
    "    # This is a bug and is being worked on.\n",
    "    data_up = (\n",
    "        hm.upward_continuation(data.bz, height_difference)\n",
    "        .assign_attrs(data.bz.attrs)\n",
    "        .to_dataset(name=\"bz\")\n",
    "        .assign_coords(x=data.x, y=data.y)\n",
    "        .assign_coords(z=data.z + height_difference)\n",
    "    )\n",
    "    data_up = data_up.assign(mg.data_gradients(data_up.bz))\n",
    "    \n",
    "    stretched = skimage.exposure.rescale_intensity(\n",
    "        data_up.tga, \n",
    "        in_range=tuple(np.percentile(data_up.tga, (1, 99))),\n",
    "    )\n",
    "    data_up = data_up.assign(tga_stretched=xr.DataArray(stretched, coords=data_up.coords))\n",
    "\n",
    "\n",
    "    windows = mg.detect_anomalies(\n",
    "        data_up.tga_stretched, \n",
    "        size_range=[20, 150],\n",
    "        size_increment=1.0,\n",
    "        threshold=0.05,\n",
    "        overlap=0.0,\n",
    "        exclude_border=15\n",
    "    )\n",
    "    \n",
    "    ## Standard method\n",
    "    positions = []\n",
    "    estimated_dipole_moments = []\n",
    "    estimated_stds = []\n",
    "    calculated_r2 = []\n",
    "    calculated_SNR = []\n",
    "    windows_filtered = []\n",
    "    base_levels = []\n",
    "    for window in windows:\n",
    "        anomaly = data_up.sel(x=slice(*window[:2]), y=slice(*window[2:]))\n",
    "        position, base_level = mg.euler_deconvolution(\n",
    "            anomaly.bz, \n",
    "            anomaly.x_deriv, \n",
    "            anomaly.y_deriv, \n",
    "            anomaly.z_deriv,\n",
    "        )\n",
    "        \n",
    "        data_minus_background = anomaly.bz.values - base_level\n",
    "        anomaly = anomaly.assign(data_minus_background=(['y','x'], data_minus_background))\n",
    "        anomaly.data_minus_background.attrs = {\"long_name\": \"dipole-model\", \"units\": \"nT\"}\n",
    "    \n",
    "        moment, covariance, r2, SNR = mg.dipole_moment_inversion(\n",
    "            anomaly.data_minus_background, position,\n",
    "        )\n",
    "        \n",
    "        bad_euler = False # position[2] > 0\n",
    "        poor_fit = False\n",
    "        \n",
    "        if bad_euler or poor_fit:\n",
    "            continue\n",
    "        positions.append(position)  \n",
    "        estimated_dipole_moments.append(moment)\n",
    "        estimated_stds.append(mg.covariance_to_angle_std(moment, covariance))\n",
    "        calculated_r2.append(r2)\n",
    "        calculated_SNR.append(SNR)\n",
    "        windows_filtered.append(window)\n",
    "        base_levels.append(base_level)\n",
    "    positions = np.transpose(positions)\n",
    "    \n",
    "    #### IF NEEDED INSERT HERE THE MISFITS CALC FOR THE STANDARD METHOD #######\n",
    "    ##\n",
    "    #### IF NEEDED INSERT HERE THE MISFITS CALC FOR THE STANDARD METHOD #######\n",
    "\n",
    "    \n",
    "    ## Iterative Method\n",
    "    warnings.filterwarnings(\"ignore\")\n",
    "    \n",
    "    x_concat = []\n",
    "    y_concat = []\n",
    "    z_concat = []\n",
    "    bz_concat = []\n",
    "    xc_concat = []\n",
    "    yc_concat = []\n",
    "    zc_concat = []\n",
    "    z_deriv_concat = []\n",
    "    \n",
    "    estimated_dipole_moments_itr_euler = []\n",
    "    \n",
    "    # fitting parameters\n",
    "    calculated_r2_itr_euler = []\n",
    "    calculated_SNR_itr_euler = []\n",
    "    \n",
    "    data_copy = data.copy(deep=True)\n",
    "    data_up_copy = data_up.copy(deep=True)\n",
    "    \n",
    "    #################################\n",
    "    for window in rich.progress.track(np.array(windows), total = len(np.array(windows))):\n",
    "        anomaly = data_up_copy.sel(x=slice(*window[:2]), y=slice(*window[2:]))\n",
    "        position, base_level = mg.euler_deconvolution(\n",
    "            anomaly.bz, \n",
    "            anomaly.x_deriv, \n",
    "            anomaly.y_deriv, \n",
    "            anomaly.z_deriv,\n",
    "        )\n",
    "        \n",
    "        data_minus_background = anomaly.bz.values - base_level \n",
    "        anomaly = anomaly.assign(data_minus_background=(['y','x'], data_minus_background))\n",
    "        anomaly.data_minus_background.attrs = {\"long_name\": \"dipole-model\", \"units\": \"nT\"}\n",
    "    \n",
    "        \n",
    "        moment, covariance, r2, SNR = mg.dipole_moment_inversion(anomaly.data_minus_background, position)\n",
    "    \n",
    "        ## SCIPY MINIMIZATION\n",
    "        anomaly_table=vd.grid_to_table(anomaly)\n",
    "        amplitude = np.linalg.norm(moment)\n",
    "        args=(data_minus_background.ravel(), \n",
    "             ( anomaly_table.x.values,\n",
    "               anomaly_table.y.values, \n",
    "               anomaly.z.values.ravel()),\n",
    "              amplitude, position[0], position[1], position[2])\n",
    "        \n",
    "        minimization=sp.optimize.minimize(goal_function, (1, 1, 1,\n",
    "                                                          moment[0]/amplitude,\n",
    "                                                          moment[1]/amplitude,\n",
    "                                                          moment[2]/amplitude),\n",
    "                                          \n",
    "                                          args=args,\n",
    "                                          \n",
    "                                            method='Nelder-Mead', options=dict(fatol=1.0e-8))\n",
    "        \n",
    "        if minimization.success:\n",
    "            \n",
    "            moment = np.array([minimization['x'][3], minimization['x'][4], minimization['x'][5]])*amplitude\n",
    "            position = np.array([minimization['x'][0]*position[0], \n",
    "                                 minimization['x'][1]*position[1],\n",
    "                                 minimization['x'][2]*position[2]])\n",
    "            xxx, yyy = np.meshgrid(anomaly.x.values, anomaly.y.values)\n",
    "            zzz = anomaly.z.values.ravel()\n",
    "            pred = mg.dipole_bz([xxx, yyy, zzz], \n",
    "                      position,\n",
    "                      moment\n",
    "                     )\n",
    "            \n",
    "            residuals = data_minus_background.ravel() - pred.ravel()\n",
    "            residuals_sum_sq = np.sum(residuals**2)\n",
    "            r2 = 1 - residuals_sum_sq / np.linalg.norm(data_minus_background.ravel() - np.mean(data_minus_background.ravel())) ** 2\n",
    "        \n",
    "    \n",
    "        estimated_dipole_moments_itr_euler.append(moment)\n",
    "        \n",
    "        #########\n",
    "        \n",
    "        discard = mg.dipole_bz(coordinates, position, moment)\n",
    "    \n",
    "        data_copy.bz.values -= discard\n",
    "        \n",
    "        data_up_copy = (\n",
    "                    hm.upward_continuation(data_copy.bz, height_difference)\n",
    "                    .assign_attrs(data_copy.bz.attrs)\n",
    "                    .to_dataset(name=\"bz\")\n",
    "                    .assign_coords(x=data_copy.x, y=data_copy.y)\n",
    "                    .assign_coords(z=data_copy.z + height_difference)\n",
    "                       )\n",
    "        \n",
    "        \n",
    "        data_up_copy = data_up_copy.assign(mg.data_gradients(data_up_copy.bz))\n",
    "        \n",
    "        \n",
    "        ########\n",
    "        bad_euler = False #position[2] > 0.0\n",
    "        poor_fit =  False # r2 < 0.85  \n",
    "    \n",
    "        if bad_euler or poor_fit:\n",
    "            continue\n",
    "        xx, yy = np.meshgrid(anomaly.x.values, anomaly.y.values)\n",
    "        x_concat = np.append(x_concat, xx)\n",
    "        y_concat = np.append(y_concat, yy)    \n",
    "        z_concat = np.append(z_concat, anomaly.z.values)\n",
    "        bz_concat = np.append(bz_concat, anomaly.bz.values)\n",
    "        z_deriv_concat = np.append(z_deriv_concat, anomaly.z_deriv.values)\n",
    "        xc_concat = np.append(xc_concat, position[0])\n",
    "        yc_concat = np.append(yc_concat, position[1])\n",
    "        zc_concat = np.append(zc_concat, position[2])\n",
    "        calculated_r2_itr_euler = np.append(calculated_r2_itr_euler, r2)\n",
    "        calculated_SNR_itr_euler = np.append(calculated_SNR_itr_euler, SNR)\n",
    "    \n",
    "    df = pd.DataFrame({'x':x_concat,\n",
    "                       'y':y_concat,\n",
    "                       'z':z_concat,\n",
    "                      'bz':bz_concat,\n",
    "                     'z_deriv':z_deriv_concat})\n",
    "    \n",
    "    positions_itr = np.array([xc_concat, yc_concat, zc_concat])\n",
    "    \n",
    "    \n",
    "    \n",
    "    ## EULER ENHANCEMENT SECOND STEP\n",
    "    warnings.filterwarnings(\"ignore\")\n",
    "    data_copy = data.copy(deep=True)\n",
    "    euler_r2_itr_cond = calculated_r2_itr_euler>=0.975\n",
    "    \n",
    "    zc_concat_temp = list()\n",
    "    xc_concat_temp = list()\n",
    "    yc_concat_temp = list()\n",
    "    \n",
    "    estimated_dipole_moments_itr_euler_temp = list()\n",
    "    \n",
    "    indexes = np.where(np.array(euler_r2_itr_cond))[0]\n",
    "    # SOURCES WITH R2 >= 0.99 ARE NOT ENHANCED, WE CALCULATE THEIR ANOMALY AND REMOVE THEM FROM THE DATA SET\n",
    "    # for index, window in enumerate(rich.progress.track(np.array(windows)[euler_r2_itr_cond], total=len(np.array(windows)[euler_r2_itr_cond]))):\n",
    "    for index in rich.progress.track(indexes, total=len(indexes)):\n",
    "        window = windows[index]\n",
    "        position = positions_itr[:, index]\n",
    "        estimated_dipole_moments_itr_euler_temp.append(estimated_dipole_moments_itr_euler[index])\n",
    "        xc_concat_temp = np.append(xc_concat_temp, position[0])\n",
    "        yc_concat_temp = np.append(yc_concat_temp, position[1])\n",
    "        zc_concat_temp = np.append(zc_concat_temp, position[2])  \n",
    "    \n",
    "        \n",
    "    # remove all signals \n",
    "    position_temp = np.array([xc_concat_temp, yc_concat_temp, zc_concat_temp])\n",
    "    discard = mg.dipole_bz(coordinates, position_temp, estimated_dipole_moments_itr_euler_temp)\n",
    "    data_copy.bz.values -= discard\n",
    "    \n",
    "    data_up_copy = (\n",
    "                hm.upward_continuation(data_copy.bz, height_difference)\n",
    "                .assign_attrs(data_copy.bz.attrs)\n",
    "                .to_dataset(name=\"bz\")\n",
    "                .assign_coords(x=data_copy.x, y=data_copy.y)\n",
    "                .assign_coords(z=data_copy.z + height_difference)\n",
    "                   )\n",
    "    \n",
    "    \n",
    "    data_up_copy = data_up_copy.assign(mg.data_gradients(data_up_copy.bz))\n",
    "    \n",
    "    \n",
    "    # SOURCES WITH R2 <= 0.99 ARE ENHANCED\n",
    "    indexes = np.where(~np.array(euler_r2_itr_cond))[0]\n",
    "    # for index, window in enumerate(rich.progress.track(np.array(windows)[~euler_r2_itr_cond], total=len(np.array(windows)[~euler_r2_itr_cond]))):\n",
    "    for index in rich.progress.track(indexes, total=len(indexes)):\n",
    "        window = windows[index]\n",
    "        anomaly = data_up_copy.sel(x=slice(*window[:2]), y=slice(*window[2:]))\n",
    "        position, base_level = mg.euler_deconvolution(\n",
    "            anomaly.bz, \n",
    "            anomaly.x_deriv, \n",
    "            anomaly.y_deriv, \n",
    "            anomaly.z_deriv,\n",
    "        )\n",
    "        data_minus_background = anomaly.bz.values - base_level \n",
    "        anomaly = anomaly.assign(data_minus_background=(['y','x'], data_minus_background))\n",
    "        anomaly.data_minus_background.attrs = {\"long_name\": \"dipole-model\", \"units\": \"nT\"}\n",
    "        \n",
    "        moment, covariance, r2, SNR = mg.dipole_moment_inversion(anomaly.data_minus_background, position)\n",
    "    \n",
    "    \n",
    "    \n",
    "        ## SCIPY MINIMIZATION\n",
    "        anomaly_table=vd.grid_to_table(anomaly)\n",
    "        amplitude = np.linalg.norm(moment)\n",
    "        args=(data_minus_background.ravel(), \n",
    "             ( anomaly_table.x.values,\n",
    "               anomaly_table.y.values, \n",
    "               anomaly.z.values.ravel()),\n",
    "              amplitude, position[0], position[1], position[2])\n",
    "        \n",
    "        minimization=sp.optimize.minimize(goal_function, (1, 1, 1,\n",
    "                                                          moment[0]/amplitude,\n",
    "                                                          moment[1]/amplitude,\n",
    "                                                          moment[2]/amplitude),\n",
    "                                          \n",
    "                                          args=args,\n",
    "                                          \n",
    "                                            method='Nelder-Mead', options=dict(fatol=1.0e-8))\n",
    "        \n",
    "        if minimization.success:\n",
    "            \n",
    "            moment = np.array([minimization['x'][3], minimization['x'][4], minimization['x'][5]])*amplitude\n",
    "            position = np.array([minimization['x'][0]*position[0], \n",
    "                                 minimization['x'][1]*position[1],\n",
    "                                 minimization['x'][2]*position[2]])\n",
    "            xxx, yyy = np.meshgrid(anomaly.x.values, anomaly.y.values)\n",
    "            zzz = anomaly.z.values.ravel()\n",
    "            pred = mg.dipole_bz([xxx, yyy, zzz], \n",
    "                      position,\n",
    "                      moment\n",
    "                     )\n",
    "            \n",
    "            residuals = data_minus_background.ravel() - pred.ravel()\n",
    "            residuals_sum_sq = np.sum(residuals**2)\n",
    "            r2 = 1 - residuals_sum_sq / np.linalg.norm(data_minus_background.ravel() - np.mean(data_minus_background.ravel())) ** 2\n",
    "            \n",
    "            if r2 >= calculated_r2_itr_euler[index]:\n",
    "                estimated_dipole_moments_itr_euler[index] = moment\n",
    "                positions_itr[:, index] = position\n",
    "        \n",
    "        discard = mg.dipole_bz(coordinates, position, moment)\n",
    "    \n",
    "        data_copy.bz.values -= discard\n",
    "    \n",
    "        data_up_copy = (\n",
    "                    hm.upward_continuation(data_copy.bz, height_difference)\n",
    "                    .assign_attrs(data_copy.bz.attrs)\n",
    "                    .to_dataset(name=\"bz\")\n",
    "                    .assign_coords(x=data_copy.x, y=data_copy.y)\n",
    "                    .assign_coords(z=data_copy.z + height_difference)\n",
    "                       )\n",
    "        \n",
    "        \n",
    "        data_up_copy = data_up_copy.assign(mg.data_gradients(data_up_copy.bz))\n",
    "    \n",
    "    \n",
    "    \n",
    "    #### IF NEEDED INSERT HERE THE MISFITS CALC FOR THE ITERATIVE METHOD #######\n",
    "    ##\n",
    "    #### IF NEEDED INSERT HERE THE MISFITS CALC FOR THE ITERATIVE METHOD #######\n",
    "    \n",
    "    \n",
    "    ## RE RUN THE RESIDUAL TO FIND MORE SOURCES\n",
    "    data_up_copy = (\n",
    "                hm.upward_continuation(data_copy.bz, height_difference)\n",
    "                .assign_attrs(data_copy.bz.attrs)\n",
    "                .to_dataset(name=\"bz\")\n",
    "                .assign_coords(x=data_copy.x, y=data_copy.y)\n",
    "                .assign_coords(z=data_copy.z + height_difference)\n",
    "                   )\n",
    "    \n",
    "    data_up_copy = data_up_copy.assign(mg.data_gradients(data_up_copy.bz))\n",
    "    \n",
    "    stretched = skimage.exposure.rescale_intensity(\n",
    "        data_up_copy.tga, \n",
    "        in_range=tuple(np.percentile(data_up_copy.tga, (1, 99))),\n",
    "    )\n",
    "    data_up_copy = data_up_copy.assign(tga_stretched=xr.DataArray(stretched, coords=data_up.coords))\n",
    "    \n",
    "    windows_new = mg.detect_anomalies(\n",
    "        data_up_copy.tga_stretched, \n",
    "        size_range=[20,150],\n",
    "        size_increment=1.3,\n",
    "        threshold=0.02,\n",
    "        overlap=0.0,\n",
    "        exclude_border=15\n",
    "    )\n",
    "    \n",
    "    def intersects(window1, window2):\n",
    "        # Verifica se há sobreposição horizontal\n",
    "        horizontal_overlap = (window1[0] <= window2[1]) and (window2[0] <= window1[1])\n",
    "        # Verifica se há sobreposição vertical\n",
    "        vertical_overlap = (window1[2] <= window2[3]) and (window2[2] <= window1[3])\n",
    "        return horizontal_overlap and vertical_overlap\n",
    "        \n",
    "    \n",
    "    # Remove overlapping windows\n",
    "    non_overlapping_windows = np.copy(windows_new)\n",
    "    \n",
    "    for window in windows:\n",
    "        non_overlapping_windows = [nw for nw in non_overlapping_windows if not intersects(nw, window)]\n",
    "    \n",
    "    \n",
    "    data_copy_2 = data_copy.copy(deep=True)\n",
    "    data_up_copy_2 = data_up_copy.copy(deep=True)\n",
    "    \n",
    "    positions_itr_enhanced = list(np.copy(positions_itr))\n",
    "    estimated_dipole_moments_itr_euler_enhanced = list(np.copy(estimated_dipole_moments_itr_euler))\n",
    "    windows_enhanced = list(np.copy(windows))\n",
    "    calculated_r2_itr_euler_enhanced = list(np.copy(calculated_r2_itr_euler))\n",
    "    \n",
    "    #################################\n",
    "    for window in rich.progress.track(np.array(non_overlapping_windows), total = len(np.array(non_overlapping_windows))):\n",
    "        anomaly = data_up_copy_2.sel(x=slice(*window[:2]), y=slice(*window[2:]))\n",
    "        position, base_level = mg.euler_deconvolution(\n",
    "            anomaly.bz, \n",
    "            anomaly.x_deriv, \n",
    "            anomaly.y_deriv, \n",
    "            anomaly.z_deriv,\n",
    "        )\n",
    "        \n",
    "        data_minus_background = anomaly.bz.values - base_level \n",
    "        anomaly = anomaly.assign(data_minus_background=(['y','x'], data_minus_background))\n",
    "        anomaly.data_minus_background.attrs = {\"long_name\": \"dipole-model\", \"units\": \"nT\"}\n",
    "    \n",
    "        \n",
    "        moment, covariance, r2, SNR = mg.dipole_moment_inversion(anomaly.data_minus_background, position)\n",
    "    \n",
    "        ## SCIPY MINIMIZATION\n",
    "        anomaly_table=vd.grid_to_table(anomaly)\n",
    "        amplitude = np.linalg.norm(moment)\n",
    "        args=(data_minus_background.ravel(), \n",
    "             ( anomaly_table.x.values,\n",
    "               anomaly_table.y.values, \n",
    "               anomaly.z.values.ravel()),\n",
    "              amplitude, position[0], position[1], position[2])\n",
    "        \n",
    "        minimization=sp.optimize.minimize(goal_function, (1, 1, 1,\n",
    "                                                          moment[0]/amplitude,\n",
    "                                                          moment[1]/amplitude,\n",
    "                                                          moment[2]/amplitude),\n",
    "                                          \n",
    "                                          args=args,\n",
    "                                          \n",
    "                                            method='Nelder-Mead', options=dict(fatol=1.0e-8))\n",
    "        \n",
    "        if minimization.success:\n",
    "            \n",
    "            moment = np.array([minimization['x'][3], minimization['x'][4], minimization['x'][5]])*amplitude\n",
    "            position = np.array([minimization['x'][0]*position[0], \n",
    "                                 minimization['x'][1]*position[1],\n",
    "                                 minimization['x'][2]*position[2]])\n",
    "            xxx, yyy = np.meshgrid(anomaly.x.values, anomaly.y.values)\n",
    "            zzz = anomaly.z.values.ravel()\n",
    "            pred = mg.dipole_bz([xxx, yyy, zzz], \n",
    "                      position,\n",
    "                      moment\n",
    "                     )\n",
    "            \n",
    "            residuals = data_minus_background.ravel() - pred.ravel()\n",
    "            residuals_sum_sq = np.sum(residuals**2)\n",
    "            r2 = 1 - residuals_sum_sq / np.linalg.norm(data_minus_background.ravel() - np.mean(data_minus_background.ravel())) ** 2\n",
    "    \n",
    "    \n",
    "        windows_enhanced.append(window)\n",
    "        estimated_dipole_moments_itr_euler_enhanced.append(moment)\n",
    "        for i in range(3):\n",
    "            positions_itr_enhanced[i]=np.append(positions_itr_enhanced[i], position[i])\n",
    "        calculated_r2_itr_euler_enhanced.append(r2)\n",
    "        #########\n",
    "        \n",
    "        discard = mg.dipole_bz(coordinates, position, moment)\n",
    "    \n",
    "        data_copy_2.bz.values -= discard\n",
    "        \n",
    "        data_up_copy_2 = (\n",
    "                    hm.upward_continuation(data_copy_2.bz, height_difference)\n",
    "                    .assign_attrs(data_copy_2.bz.attrs)\n",
    "                    .to_dataset(name=\"bz\")\n",
    "                    .assign_coords(x=data_copy_2.x, y=data_copy_2.y)\n",
    "                    .assign_coords(z=data_copy_2.z + height_difference)\n",
    "                       )\n",
    "        \n",
    "        \n",
    "        data_up_copy_2 = data_up_copy_2.assign(mg.data_gradients(data_up_copy_2.bz))\n",
    "        \n",
    "        \n",
    "        ########\n",
    "        bad_euler = False #position[2] > 0.0\n",
    "        poor_fit =  False # r2 < 0.85  \n",
    "    \n",
    "        if bad_euler or poor_fit:\n",
    "            continue\n",
    "    \n",
    "    #### IF NEEDED INSERT HERE THE MISFITS CALC FOR THE RE RUN METHOD #######\n",
    "    ##\n",
    "    #### IF NEEDED INSERT HERE THE MISFITS CALC FOR THE RE RUN METHOD #######\n",
    "\n",
    "    # Criar um DataFrame com os vetores\n",
    "    standard_dataframe = pd.DataFrame({\n",
    "        'mx_standard': np.asarray(estimated_dipole_moments)[:,0],\n",
    "        'my_standard': np.asarray(estimated_dipole_moments)[:,1],\n",
    "        'mz_standard': np.asarray(estimated_dipole_moments)[:,2],\n",
    "        'r_2_standard': np.asarray(calculated_r2),\n",
    "    })\n",
    "    standard_csv_name = os.path.join(output_folder, nc_file.replace('.nc', '_standard.csv'))\n",
    "    standard_dataframe.to_csv(standard_csv_name, index=False)\n",
    "\n",
    "    # Criar DataFrame para os vetores iterativos\n",
    "    iterative_dataframe = pd.DataFrame({\n",
    "        'mx_iterative': np.asarray(estimated_dipole_moments_itr_euler_enhanced)[:,0],\n",
    "        'my_iterative': np.asarray(estimated_dipole_moments_itr_euler_enhanced)[:,1],\n",
    "        'mz_iterative': np.asarray(estimated_dipole_moments_itr_euler_enhanced)[:,2],\n",
    "        'r_2_iterative': np.asarray(calculated_r2_itr_euler_enhanced),\n",
    "    })\n",
    "\n",
    "    # Salvar DataFrame iterativo como CSV\n",
    "    iterative_csv_name = os.path.join(output_folder, nc_file.replace('.nc', '_iterative.csv'))\n",
    "    iterative_dataframe.to_csv(iterative_csv_name, index=False)\n"
   ]
  },
  {
   "cell_type": "code",
   "execution_count": null,
   "id": "c23e51a1-6038-4e3c-8100-ed3f60b3d50a",
   "metadata": {},
   "outputs": [],
   "source": [
    "np.shape(estimated_dipole_moments_itr_euler)"
   ]
  }
 ],
 "metadata": {
  "kernelspec": {
   "display_name": "Python 3 (ipykernel)",
   "language": "python",
   "name": "python3"
  },
  "language_info": {
   "codemirror_mode": {
    "name": "ipython",
    "version": 3
   },
   "file_extension": ".py",
   "mimetype": "text/x-python",
   "name": "python",
   "nbconvert_exporter": "python",
   "pygments_lexer": "ipython3",
   "version": "3.10.14"
  }
 },
 "nbformat": 4,
 "nbformat_minor": 5
}

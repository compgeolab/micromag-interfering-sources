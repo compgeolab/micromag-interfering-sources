{
 "cells": [
  {
   "cell_type": "code",
   "execution_count": 1,
   "id": "603e9c92-a149-495e-8894-1db6a8b70c7d",
   "metadata": {},
   "outputs": [],
   "source": [
    "import numpy as np\n",
    "import scipy as sp\n",
    "import pandas as pd\n",
    "import xarray as xr\n",
    "import matplotlib.pyplot as plt\n",
    "import matplotlib\n",
    "\n",
    "import harmonica as hm\n",
    "import verde as vd\n",
    "from skimage import data, img_as_float\n",
    "\n",
    "import skimage.exposure\n",
    "\n",
    "from skimage.filters import rank\n",
    "\n",
    "import os\n",
    "import zipfile\n",
    "import shutil\n",
    "\n",
    "import micromag as mg\n",
    "import magali as ma\n",
    "import time"
   ]
  },
  {
   "cell_type": "markdown",
   "id": "7ef6625c-5b41-4ce6-8d0e-4e64b62bac5f",
   "metadata": {},
   "source": [
    "## Generate dipole moments distribution"
   ]
  },
  {
   "cell_type": "code",
   "execution_count": 2,
   "id": "f151c612-33d2-48c6-b1c3-540636ee9a26",
   "metadata": {},
   "outputs": [],
   "source": [
    "output_folder = \"netcdf_files\"\n",
    "os.makedirs(output_folder, exist_ok=True)"
   ]
  },
  {
   "cell_type": "code",
   "execution_count": 3,
   "id": "9f9729f5-98ea-4722-afb8-e7a9735a74b5",
   "metadata": {},
   "outputs": [],
   "source": [
    "vector_size = 2500\n",
    "max_itr = 10\n",
    "\n",
    "true_vector = np.empty((vector_size*max_itr,3))\n",
    "\n",
    "for i in range(max_itr):  # Loop 10 times\n",
    "    # Definir seed da aleatoriedade\n",
    "    np.random.seed(i)\n",
    "    dispersion = np.deg2rad(75)  # np.deg2rad(np.random.normal(0,10, vector_size)) ##\n",
    "    \n",
    "    alpha = np.deg2rad(np.random.uniform(0,360,vector_size))\n",
    "    r = np.random.normal(0, dispersion, vector_size)\n",
    "    \n",
    "    x = np.sin(r)*np.cos(alpha)\n",
    "    y = np.sin(r)*np.sin(alpha)\n",
    "    z = np.cos(r)\n",
    "    \n",
    "    \n",
    "    \n",
    "    r_vector = np.array([x,y,z])\n",
    "    \n",
    "    amp = ma.amplitude_lognormal_distribution(vector_size)\n",
    "    \n",
    "    inc = 30\n",
    "    dec = 30\n",
    "    rotatated_vector = ma.rotate_vector(r_vector*amp, inc, dec)\n",
    "    dipole_moments = np.copy(rotatated_vector.T)\n",
    "\n",
    "    true_vector[i*vector_size:(i+1)*vector_size ,0] = dipole_moments[:,0]\n",
    "    true_vector[i*vector_size:(i+1)*vector_size ,1] = dipole_moments[:,1]\n",
    "    true_vector[i*vector_size:(i+1)*vector_size ,2] = dipole_moments[:,2]\n",
    "    \n",
    "    dipole_coordinates = (\n",
    "        np.random.randint(0, 2000, vector_size),  # µm\n",
    "        np.random.randint(0, 1400, vector_size),  # µm\n",
    "        np.random.randint(-20, -1, vector_size),  # µm\n",
    "    )\n",
    "    \n",
    "    \n",
    "    sensor_sample_distance = 5.0  # µm\n",
    "    coordinates = vd.grid_coordinates(\n",
    "        region=[0, 2000, 0, 1400],  # µm\n",
    "        spacing=2,  # µm\n",
    "        extra_coords=sensor_sample_distance,\n",
    "    )\n",
    "    \n",
    "    \n",
    "    bz = mg.dipole_bz(coordinates, dipole_coordinates, dipole_moments)\n",
    "    data = vd.make_xarray_grid(coordinates, bz, data_names=[\"bz\"], dims=(\"y\", \"x\"), extra_coords_names=\"z\")\n",
    "    data.x.attrs = {\"units\": \"µm\"}\n",
    "    data.y.attrs = {\"units\": \"µm\"}\n",
    "    data.bz.attrs = {\"long_name\": \"vertical magnetic field\", \"units\": \"nT\"}\n",
    "    \n",
    "    \n",
    "    noise_std_dev = 50  # nT\n",
    "    data.bz.values += mg.gaussian_noise(noise_std_dev, data.bz.shape, seed=42)\n",
    "    data.bz.values += (np.random.randint(-2000, 2000)) # nT\n",
    "\n",
    "    # Exportar cada arquivo para a pasta\n",
    "    filename = os.path.join(output_folder, f\"data_simulation_{i}.nc\")\n",
    "    data.to_netcdf(\n",
    "        filename,\n",
    "        encoding={\n",
    "            \"bz\": {\"zlib\": True, \"complevel\": 9},  # Compactação máxima\n",
    "            \"x\": {\"zlib\": True, \"complevel\": 9},\n",
    "            \"y\": {\"zlib\": True, \"complevel\": 9},\n",
    "        },\n",
    "    )\n",
    "    \n"
   ]
  },
  {
   "cell_type": "code",
   "execution_count": 4,
   "id": "51aa7018-3cab-48d2-a1f2-c39c7075dc7c",
   "metadata": {},
   "outputs": [],
   "source": [
    "# Compactar a pasta em um arquivo ZIP\n",
    "zip_filename = \"simulations.zip\"\n",
    "with zipfile.ZipFile(zip_filename, \"w\", zipfile.ZIP_DEFLATED) as zipf:\n",
    "    for root, _, files in os.walk(output_folder):\n",
    "        for file in files:\n",
    "            file_path = os.path.join(root, file)\n",
    "            zipf.write(file_path, os.path.relpath(file_path, output_folder))"
   ]
  },
  {
   "cell_type": "code",
   "execution_count": 5,
   "id": "f439367f-178d-4e3f-99f6-4736a1a9ed06",
   "metadata": {},
   "outputs": [],
   "source": [
    "shutil.rmtree(output_folder)"
   ]
  },
  {
   "cell_type": "code",
   "execution_count": 6,
   "id": "41f9d60c-7768-4e76-b190-3a713e4a1661",
   "metadata": {},
   "outputs": [
    {
     "name": "stdout",
     "output_type": "stream",
     "text": [
      "(31.12941152350789, 30.51331346108358, 3.2652968198910724e-10)\n"
     ]
    }
   ],
   "source": [
    "print(mg.vector_to_angles(np.sum(true_vector, axis=0)))"
   ]
  },
  {
   "cell_type": "code",
   "execution_count": null,
   "id": "967af18f-900c-479a-8030-90383a5989a2",
   "metadata": {},
   "outputs": [],
   "source": []
  },
  {
   "cell_type": "code",
   "execution_count": null,
   "id": "6b84d450-b983-4f23-a7d0-d14dfaf03ad2",
   "metadata": {},
   "outputs": [],
   "source": []
  },
  {
   "cell_type": "code",
   "execution_count": null,
   "id": "b8fdad3c-b0ff-4949-a254-e9daf672c384",
   "metadata": {},
   "outputs": [],
   "source": []
  },
  {
   "cell_type": "code",
   "execution_count": null,
   "id": "43418b9d-3687-4063-bd00-3b5a2dd56df9",
   "metadata": {},
   "outputs": [],
   "source": []
  }
 ],
 "metadata": {
  "kernelspec": {
   "display_name": "Python 3 (ipykernel)",
   "language": "python",
   "name": "python3"
  },
  "language_info": {
   "codemirror_mode": {
    "name": "ipython",
    "version": 3
   },
   "file_extension": ".py",
   "mimetype": "text/x-python",
   "name": "python",
   "nbconvert_exporter": "python",
   "pygments_lexer": "ipython3",
   "version": "3.10.14"
  }
 },
 "nbformat": 4,
 "nbformat_minor": 5
}

{
 "cells": [
  {
   "cell_type": "code",
   "execution_count": 1,
   "id": "ec341992-1bf8-456a-8906-6ed3bfa66489",
   "metadata": {},
   "outputs": [],
   "source": [
    "import pathlib\n",
    "import numpy as np\n",
    "import scipy as sp\n",
    "import pandas as pd\n",
    "import xarray as xr\n",
    "import matplotlib.pyplot as plt\n",
    "import matplotlib.patches\n",
    "import mplstereonet\n",
    "import skimage.exposure\n",
    "import harmonica as hm\n",
    "import verde as vd\n",
    "\n",
    "import zipfile\n",
    "import os\n",
    "import micromag as mg\n",
    "\n",
    "import time\n",
    "import warnings\n",
    "import rich.progress"
   ]
  },
  {
   "cell_type": "code",
   "execution_count": 2,
   "id": "e3ae97c5-7a2a-4cca-9cc6-38e603ac90ad",
   "metadata": {},
   "outputs": [],
   "source": [
    "# !pip install h5netcdf"
   ]
  },
  {
   "cell_type": "code",
   "execution_count": 3,
   "id": "75cd9b24-78a3-4599-b58d-97cda58e80b5",
   "metadata": {},
   "outputs": [],
   "source": [
    "import scipy as sp\n",
    "import numba\n",
    "import choclo\n",
    "# @numba.jit(nopython=True, parallel=True)\n",
    "def goal_function(parameter, obs_data, coordinates, amplitude, x_0, y_0, z_0):\n",
    "    bz = mg.dipole_bz(coordinates, \n",
    "                      ([parameter[0]*x_0], [parameter[1]*y_0], [parameter[2]*z_0]),\n",
    "                     np.array([parameter[3], parameter[4], parameter[5]])*amplitude\n",
    "                     )\n",
    "                   \n",
    "    \n",
    "    Res = np.linalg.norm(obs_data-bz.ravel())\n",
    "    # print(Res)\n",
    "    return(Res)"
   ]
  },
  {
   "cell_type": "code",
   "execution_count": 4,
   "id": "ac78783d-5268-4bf8-8b9e-d517489fd7b0",
   "metadata": {},
   "outputs": [
    {
     "name": "stdout",
     "output_type": "stream",
     "text": [
      "Running file 1: data_simulation_7.nc\n"
     ]
    },
    {
     "name": "stderr",
     "output_type": "stream",
     "text": [
      "/home/gelson/anaconda3/envs/micromag-euler-dipole/lib/python3.10/site-packages/xrft/xrft.py:573: FutureWarning: Default ifft's behaviour (lag=None) changed! Default value of lag was zero (centered output coordinates) and is now set to transformed coordinate's attribute: 'direct_lag'.\n",
      "  warnings.warn(msg, FutureWarning)\n",
      "/home/gelson/anaconda3/envs/micromag-euler-dipole/lib/python3.10/site-packages/xrft/xrft.py:573: FutureWarning: Default ifft's behaviour (lag=None) changed! Default value of lag was zero (centered output coordinates) and is now set to transformed coordinate's attribute: 'direct_lag'.\n",
      "  warnings.warn(msg, FutureWarning)\n",
      "/home/gelson/anaconda3/envs/micromag-euler-dipole/lib/python3.10/site-packages/xrft/xrft.py:573: FutureWarning: Default ifft's behaviour (lag=None) changed! Default value of lag was zero (centered output coordinates) and is now set to transformed coordinate's attribute: 'direct_lag'.\n",
      "  warnings.warn(msg, FutureWarning)\n"
     ]
    },
    {
     "data": {
      "application/vnd.jupyter.widget-view+json": {
       "model_id": "2d48798c49894b08baf89f7d390451ce",
       "version_major": 2,
       "version_minor": 0
      },
      "text/plain": [
       "Output()"
      ]
     },
     "metadata": {},
     "output_type": "display_data"
    },
    {
     "data": {
      "text/html": [
       "<pre style=\"white-space:pre;overflow-x:auto;line-height:normal;font-family:Menlo,'DejaVu Sans Mono',consolas,'Courier New',monospace\"></pre>\n"
      ],
      "text/plain": []
     },
     "metadata": {},
     "output_type": "display_data"
    },
    {
     "data": {
      "text/html": [
       "<pre style=\"white-space:pre;overflow-x:auto;line-height:normal;font-family:Menlo,'DejaVu Sans Mono',consolas,'Courier New',monospace\">\n",
       "</pre>\n"
      ],
      "text/plain": [
       "\n"
      ]
     },
     "metadata": {},
     "output_type": "display_data"
    },
    {
     "data": {
      "application/vnd.jupyter.widget-view+json": {
       "model_id": "128d953dbffe4d9084e17b7e25dbad8b",
       "version_major": 2,
       "version_minor": 0
      },
      "text/plain": [
       "Output()"
      ]
     },
     "metadata": {},
     "output_type": "display_data"
    },
    {
     "data": {
      "text/html": [
       "<pre style=\"white-space:pre;overflow-x:auto;line-height:normal;font-family:Menlo,'DejaVu Sans Mono',consolas,'Courier New',monospace\"></pre>\n"
      ],
      "text/plain": []
     },
     "metadata": {},
     "output_type": "display_data"
    },
    {
     "data": {
      "text/html": [
       "<pre style=\"white-space:pre;overflow-x:auto;line-height:normal;font-family:Menlo,'DejaVu Sans Mono',consolas,'Courier New',monospace\">\n",
       "</pre>\n"
      ],
      "text/plain": [
       "\n"
      ]
     },
     "metadata": {},
     "output_type": "display_data"
    },
    {
     "data": {
      "application/vnd.jupyter.widget-view+json": {
       "model_id": "6e9e454d534c4c7699f61884e363b741",
       "version_major": 2,
       "version_minor": 0
      },
      "text/plain": [
       "Output()"
      ]
     },
     "metadata": {},
     "output_type": "display_data"
    },
    {
     "data": {
      "text/html": [
       "<pre style=\"white-space:pre;overflow-x:auto;line-height:normal;font-family:Menlo,'DejaVu Sans Mono',consolas,'Courier New',monospace\"></pre>\n"
      ],
      "text/plain": []
     },
     "metadata": {},
     "output_type": "display_data"
    },
    {
     "data": {
      "text/html": [
       "<pre style=\"white-space:pre;overflow-x:auto;line-height:normal;font-family:Menlo,'DejaVu Sans Mono',consolas,'Courier New',monospace\">\n",
       "</pre>\n"
      ],
      "text/plain": [
       "\n"
      ]
     },
     "metadata": {},
     "output_type": "display_data"
    },
    {
     "data": {
      "application/vnd.jupyter.widget-view+json": {
       "model_id": "799b8e84780042bb8e98ef28292238a1",
       "version_major": 2,
       "version_minor": 0
      },
      "text/plain": [
       "Output()"
      ]
     },
     "metadata": {},
     "output_type": "display_data"
    },
    {
     "data": {
      "text/html": [
       "<pre style=\"white-space:pre;overflow-x:auto;line-height:normal;font-family:Menlo,'DejaVu Sans Mono',consolas,'Courier New',monospace\"></pre>\n"
      ],
      "text/plain": []
     },
     "metadata": {},
     "output_type": "display_data"
    },
    {
     "data": {
      "text/html": [
       "<pre style=\"white-space:pre;overflow-x:auto;line-height:normal;font-family:Menlo,'DejaVu Sans Mono',consolas,'Courier New',monospace\">\n",
       "</pre>\n"
      ],
      "text/plain": [
       "\n"
      ]
     },
     "metadata": {},
     "output_type": "display_data"
    },
    {
     "name": "stdout",
     "output_type": "stream",
     "text": [
      "Running file 2: data_simulation_3.nc\n"
     ]
    },
    {
     "data": {
      "application/vnd.jupyter.widget-view+json": {
       "model_id": "d1d3e378897642daa58cc55142113c18",
       "version_major": 2,
       "version_minor": 0
      },
      "text/plain": [
       "Output()"
      ]
     },
     "metadata": {},
     "output_type": "display_data"
    },
    {
     "data": {
      "text/html": [
       "<pre style=\"white-space:pre;overflow-x:auto;line-height:normal;font-family:Menlo,'DejaVu Sans Mono',consolas,'Courier New',monospace\"></pre>\n"
      ],
      "text/plain": []
     },
     "metadata": {},
     "output_type": "display_data"
    },
    {
     "data": {
      "text/html": [
       "<pre style=\"white-space:pre;overflow-x:auto;line-height:normal;font-family:Menlo,'DejaVu Sans Mono',consolas,'Courier New',monospace\">\n",
       "</pre>\n"
      ],
      "text/plain": [
       "\n"
      ]
     },
     "metadata": {},
     "output_type": "display_data"
    },
    {
     "data": {
      "application/vnd.jupyter.widget-view+json": {
       "model_id": "16d35ffb83b549a5bb82f6d528298666",
       "version_major": 2,
       "version_minor": 0
      },
      "text/plain": [
       "Output()"
      ]
     },
     "metadata": {},
     "output_type": "display_data"
    },
    {
     "data": {
      "text/html": [
       "<pre style=\"white-space:pre;overflow-x:auto;line-height:normal;font-family:Menlo,'DejaVu Sans Mono',consolas,'Courier New',monospace\"></pre>\n"
      ],
      "text/plain": []
     },
     "metadata": {},
     "output_type": "display_data"
    },
    {
     "data": {
      "text/html": [
       "<pre style=\"white-space:pre;overflow-x:auto;line-height:normal;font-family:Menlo,'DejaVu Sans Mono',consolas,'Courier New',monospace\">\n",
       "</pre>\n"
      ],
      "text/plain": [
       "\n"
      ]
     },
     "metadata": {},
     "output_type": "display_data"
    },
    {
     "data": {
      "application/vnd.jupyter.widget-view+json": {
       "model_id": "a935e8120c244c50b76e097553b5c9e2",
       "version_major": 2,
       "version_minor": 0
      },
      "text/plain": [
       "Output()"
      ]
     },
     "metadata": {},
     "output_type": "display_data"
    },
    {
     "data": {
      "text/html": [
       "<pre style=\"white-space:pre;overflow-x:auto;line-height:normal;font-family:Menlo,'DejaVu Sans Mono',consolas,'Courier New',monospace\"></pre>\n"
      ],
      "text/plain": []
     },
     "metadata": {},
     "output_type": "display_data"
    },
    {
     "data": {
      "text/html": [
       "<pre style=\"white-space:pre;overflow-x:auto;line-height:normal;font-family:Menlo,'DejaVu Sans Mono',consolas,'Courier New',monospace\">\n",
       "</pre>\n"
      ],
      "text/plain": [
       "\n"
      ]
     },
     "metadata": {},
     "output_type": "display_data"
    },
    {
     "data": {
      "application/vnd.jupyter.widget-view+json": {
       "model_id": "733550f6394043adb9d5b6975fb46a7e",
       "version_major": 2,
       "version_minor": 0
      },
      "text/plain": [
       "Output()"
      ]
     },
     "metadata": {},
     "output_type": "display_data"
    },
    {
     "data": {
      "text/html": [
       "<pre style=\"white-space:pre;overflow-x:auto;line-height:normal;font-family:Menlo,'DejaVu Sans Mono',consolas,'Courier New',monospace\"></pre>\n"
      ],
      "text/plain": []
     },
     "metadata": {},
     "output_type": "display_data"
    },
    {
     "data": {
      "text/html": [
       "<pre style=\"white-space:pre;overflow-x:auto;line-height:normal;font-family:Menlo,'DejaVu Sans Mono',consolas,'Courier New',monospace\">\n",
       "</pre>\n"
      ],
      "text/plain": [
       "\n"
      ]
     },
     "metadata": {},
     "output_type": "display_data"
    },
    {
     "name": "stdout",
     "output_type": "stream",
     "text": [
      "Running file 3: data_simulation_1.nc\n"
     ]
    },
    {
     "data": {
      "application/vnd.jupyter.widget-view+json": {
       "model_id": "b03a922eef7e449ea8132b418455928e",
       "version_major": 2,
       "version_minor": 0
      },
      "text/plain": [
       "Output()"
      ]
     },
     "metadata": {},
     "output_type": "display_data"
    },
    {
     "data": {
      "text/html": [
       "<pre style=\"white-space:pre;overflow-x:auto;line-height:normal;font-family:Menlo,'DejaVu Sans Mono',consolas,'Courier New',monospace\"></pre>\n"
      ],
      "text/plain": []
     },
     "metadata": {},
     "output_type": "display_data"
    },
    {
     "data": {
      "text/html": [
       "<pre style=\"white-space:pre;overflow-x:auto;line-height:normal;font-family:Menlo,'DejaVu Sans Mono',consolas,'Courier New',monospace\">\n",
       "</pre>\n"
      ],
      "text/plain": [
       "\n"
      ]
     },
     "metadata": {},
     "output_type": "display_data"
    },
    {
     "data": {
      "application/vnd.jupyter.widget-view+json": {
       "model_id": "c8129e160d8e4905b7a31655ef24231d",
       "version_major": 2,
       "version_minor": 0
      },
      "text/plain": [
       "Output()"
      ]
     },
     "metadata": {},
     "output_type": "display_data"
    },
    {
     "data": {
      "text/html": [
       "<pre style=\"white-space:pre;overflow-x:auto;line-height:normal;font-family:Menlo,'DejaVu Sans Mono',consolas,'Courier New',monospace\"></pre>\n"
      ],
      "text/plain": []
     },
     "metadata": {},
     "output_type": "display_data"
    },
    {
     "data": {
      "text/html": [
       "<pre style=\"white-space:pre;overflow-x:auto;line-height:normal;font-family:Menlo,'DejaVu Sans Mono',consolas,'Courier New',monospace\">\n",
       "</pre>\n"
      ],
      "text/plain": [
       "\n"
      ]
     },
     "metadata": {},
     "output_type": "display_data"
    },
    {
     "data": {
      "application/vnd.jupyter.widget-view+json": {
       "model_id": "078197cce16e418998f7a5cd368c1a74",
       "version_major": 2,
       "version_minor": 0
      },
      "text/plain": [
       "Output()"
      ]
     },
     "metadata": {},
     "output_type": "display_data"
    },
    {
     "data": {
      "text/html": [
       "<pre style=\"white-space:pre;overflow-x:auto;line-height:normal;font-family:Menlo,'DejaVu Sans Mono',consolas,'Courier New',monospace\"></pre>\n"
      ],
      "text/plain": []
     },
     "metadata": {},
     "output_type": "display_data"
    },
    {
     "data": {
      "text/html": [
       "<pre style=\"white-space:pre;overflow-x:auto;line-height:normal;font-family:Menlo,'DejaVu Sans Mono',consolas,'Courier New',monospace\">\n",
       "</pre>\n"
      ],
      "text/plain": [
       "\n"
      ]
     },
     "metadata": {},
     "output_type": "display_data"
    },
    {
     "data": {
      "application/vnd.jupyter.widget-view+json": {
       "model_id": "bd0ed06821334ea6a418603c70735e00",
       "version_major": 2,
       "version_minor": 0
      },
      "text/plain": [
       "Output()"
      ]
     },
     "metadata": {},
     "output_type": "display_data"
    },
    {
     "data": {
      "text/html": [
       "<pre style=\"white-space:pre;overflow-x:auto;line-height:normal;font-family:Menlo,'DejaVu Sans Mono',consolas,'Courier New',monospace\"></pre>\n"
      ],
      "text/plain": []
     },
     "metadata": {},
     "output_type": "display_data"
    },
    {
     "data": {
      "text/html": [
       "<pre style=\"white-space:pre;overflow-x:auto;line-height:normal;font-family:Menlo,'DejaVu Sans Mono',consolas,'Courier New',monospace\">\n",
       "</pre>\n"
      ],
      "text/plain": [
       "\n"
      ]
     },
     "metadata": {},
     "output_type": "display_data"
    },
    {
     "name": "stdout",
     "output_type": "stream",
     "text": [
      "Running file 4: data_simulation_9.nc\n"
     ]
    },
    {
     "data": {
      "application/vnd.jupyter.widget-view+json": {
       "model_id": "775ea9ea3d4b4307b707dd80cee8eea6",
       "version_major": 2,
       "version_minor": 0
      },
      "text/plain": [
       "Output()"
      ]
     },
     "metadata": {},
     "output_type": "display_data"
    },
    {
     "data": {
      "text/html": [
       "<pre style=\"white-space:pre;overflow-x:auto;line-height:normal;font-family:Menlo,'DejaVu Sans Mono',consolas,'Courier New',monospace\"></pre>\n"
      ],
      "text/plain": []
     },
     "metadata": {},
     "output_type": "display_data"
    },
    {
     "data": {
      "text/html": [
       "<pre style=\"white-space:pre;overflow-x:auto;line-height:normal;font-family:Menlo,'DejaVu Sans Mono',consolas,'Courier New',monospace\">\n",
       "</pre>\n"
      ],
      "text/plain": [
       "\n"
      ]
     },
     "metadata": {},
     "output_type": "display_data"
    },
    {
     "data": {
      "application/vnd.jupyter.widget-view+json": {
       "model_id": "5b5f57ec687247049111b65ceca36359",
       "version_major": 2,
       "version_minor": 0
      },
      "text/plain": [
       "Output()"
      ]
     },
     "metadata": {},
     "output_type": "display_data"
    },
    {
     "data": {
      "text/html": [
       "<pre style=\"white-space:pre;overflow-x:auto;line-height:normal;font-family:Menlo,'DejaVu Sans Mono',consolas,'Courier New',monospace\"></pre>\n"
      ],
      "text/plain": []
     },
     "metadata": {},
     "output_type": "display_data"
    },
    {
     "data": {
      "text/html": [
       "<pre style=\"white-space:pre;overflow-x:auto;line-height:normal;font-family:Menlo,'DejaVu Sans Mono',consolas,'Courier New',monospace\">\n",
       "</pre>\n"
      ],
      "text/plain": [
       "\n"
      ]
     },
     "metadata": {},
     "output_type": "display_data"
    },
    {
     "data": {
      "application/vnd.jupyter.widget-view+json": {
       "model_id": "76c500c3f04c45959437a2305a8e0502",
       "version_major": 2,
       "version_minor": 0
      },
      "text/plain": [
       "Output()"
      ]
     },
     "metadata": {},
     "output_type": "display_data"
    },
    {
     "data": {
      "text/html": [
       "<pre style=\"white-space:pre;overflow-x:auto;line-height:normal;font-family:Menlo,'DejaVu Sans Mono',consolas,'Courier New',monospace\"></pre>\n"
      ],
      "text/plain": []
     },
     "metadata": {},
     "output_type": "display_data"
    },
    {
     "data": {
      "text/html": [
       "<pre style=\"white-space:pre;overflow-x:auto;line-height:normal;font-family:Menlo,'DejaVu Sans Mono',consolas,'Courier New',monospace\">\n",
       "</pre>\n"
      ],
      "text/plain": [
       "\n"
      ]
     },
     "metadata": {},
     "output_type": "display_data"
    },
    {
     "data": {
      "application/vnd.jupyter.widget-view+json": {
       "model_id": "21629bb658c04a2fb17420b498ae068f",
       "version_major": 2,
       "version_minor": 0
      },
      "text/plain": [
       "Output()"
      ]
     },
     "metadata": {},
     "output_type": "display_data"
    },
    {
     "data": {
      "text/html": [
       "<pre style=\"white-space:pre;overflow-x:auto;line-height:normal;font-family:Menlo,'DejaVu Sans Mono',consolas,'Courier New',monospace\"></pre>\n"
      ],
      "text/plain": []
     },
     "metadata": {},
     "output_type": "display_data"
    },
    {
     "data": {
      "text/html": [
       "<pre style=\"white-space:pre;overflow-x:auto;line-height:normal;font-family:Menlo,'DejaVu Sans Mono',consolas,'Courier New',monospace\">\n",
       "</pre>\n"
      ],
      "text/plain": [
       "\n"
      ]
     },
     "metadata": {},
     "output_type": "display_data"
    },
    {
     "name": "stdout",
     "output_type": "stream",
     "text": [
      "Running file 5: data_simulation_0.nc\n"
     ]
    },
    {
     "data": {
      "application/vnd.jupyter.widget-view+json": {
       "model_id": "554eadcf10c744fc92de7b7708b95852",
       "version_major": 2,
       "version_minor": 0
      },
      "text/plain": [
       "Output()"
      ]
     },
     "metadata": {},
     "output_type": "display_data"
    },
    {
     "data": {
      "text/html": [
       "<pre style=\"white-space:pre;overflow-x:auto;line-height:normal;font-family:Menlo,'DejaVu Sans Mono',consolas,'Courier New',monospace\"></pre>\n"
      ],
      "text/plain": []
     },
     "metadata": {},
     "output_type": "display_data"
    },
    {
     "data": {
      "text/html": [
       "<pre style=\"white-space:pre;overflow-x:auto;line-height:normal;font-family:Menlo,'DejaVu Sans Mono',consolas,'Courier New',monospace\">\n",
       "</pre>\n"
      ],
      "text/plain": [
       "\n"
      ]
     },
     "metadata": {},
     "output_type": "display_data"
    },
    {
     "data": {
      "application/vnd.jupyter.widget-view+json": {
       "model_id": "4f534a5c19f9441685a30affc1b4d206",
       "version_major": 2,
       "version_minor": 0
      },
      "text/plain": [
       "Output()"
      ]
     },
     "metadata": {},
     "output_type": "display_data"
    },
    {
     "data": {
      "text/html": [
       "<pre style=\"white-space:pre;overflow-x:auto;line-height:normal;font-family:Menlo,'DejaVu Sans Mono',consolas,'Courier New',monospace\"></pre>\n"
      ],
      "text/plain": []
     },
     "metadata": {},
     "output_type": "display_data"
    },
    {
     "data": {
      "text/html": [
       "<pre style=\"white-space:pre;overflow-x:auto;line-height:normal;font-family:Menlo,'DejaVu Sans Mono',consolas,'Courier New',monospace\">\n",
       "</pre>\n"
      ],
      "text/plain": [
       "\n"
      ]
     },
     "metadata": {},
     "output_type": "display_data"
    },
    {
     "data": {
      "application/vnd.jupyter.widget-view+json": {
       "model_id": "c9f1e179f6484768b707516e33e7bc30",
       "version_major": 2,
       "version_minor": 0
      },
      "text/plain": [
       "Output()"
      ]
     },
     "metadata": {},
     "output_type": "display_data"
    },
    {
     "data": {
      "text/html": [
       "<pre style=\"white-space:pre;overflow-x:auto;line-height:normal;font-family:Menlo,'DejaVu Sans Mono',consolas,'Courier New',monospace\"></pre>\n"
      ],
      "text/plain": []
     },
     "metadata": {},
     "output_type": "display_data"
    },
    {
     "data": {
      "text/html": [
       "<pre style=\"white-space:pre;overflow-x:auto;line-height:normal;font-family:Menlo,'DejaVu Sans Mono',consolas,'Courier New',monospace\">\n",
       "</pre>\n"
      ],
      "text/plain": [
       "\n"
      ]
     },
     "metadata": {},
     "output_type": "display_data"
    },
    {
     "data": {
      "application/vnd.jupyter.widget-view+json": {
       "model_id": "6df6a7aa74bc47918b2f34d2dffb0ce8",
       "version_major": 2,
       "version_minor": 0
      },
      "text/plain": [
       "Output()"
      ]
     },
     "metadata": {},
     "output_type": "display_data"
    },
    {
     "data": {
      "text/html": [
       "<pre style=\"white-space:pre;overflow-x:auto;line-height:normal;font-family:Menlo,'DejaVu Sans Mono',consolas,'Courier New',monospace\"></pre>\n"
      ],
      "text/plain": []
     },
     "metadata": {},
     "output_type": "display_data"
    },
    {
     "data": {
      "text/html": [
       "<pre style=\"white-space:pre;overflow-x:auto;line-height:normal;font-family:Menlo,'DejaVu Sans Mono',consolas,'Courier New',monospace\">\n",
       "</pre>\n"
      ],
      "text/plain": [
       "\n"
      ]
     },
     "metadata": {},
     "output_type": "display_data"
    },
    {
     "name": "stdout",
     "output_type": "stream",
     "text": [
      "Running file 6: data_simulation_4.nc\n"
     ]
    },
    {
     "data": {
      "application/vnd.jupyter.widget-view+json": {
       "model_id": "c85b95b248874dfb9c44c82c7c0d690c",
       "version_major": 2,
       "version_minor": 0
      },
      "text/plain": [
       "Output()"
      ]
     },
     "metadata": {},
     "output_type": "display_data"
    },
    {
     "data": {
      "text/html": [
       "<pre style=\"white-space:pre;overflow-x:auto;line-height:normal;font-family:Menlo,'DejaVu Sans Mono',consolas,'Courier New',monospace\"></pre>\n"
      ],
      "text/plain": []
     },
     "metadata": {},
     "output_type": "display_data"
    },
    {
     "data": {
      "text/html": [
       "<pre style=\"white-space:pre;overflow-x:auto;line-height:normal;font-family:Menlo,'DejaVu Sans Mono',consolas,'Courier New',monospace\">\n",
       "</pre>\n"
      ],
      "text/plain": [
       "\n"
      ]
     },
     "metadata": {},
     "output_type": "display_data"
    },
    {
     "data": {
      "application/vnd.jupyter.widget-view+json": {
       "model_id": "c8ff4ebbba1e43fab845f771640e6278",
       "version_major": 2,
       "version_minor": 0
      },
      "text/plain": [
       "Output()"
      ]
     },
     "metadata": {},
     "output_type": "display_data"
    },
    {
     "data": {
      "text/html": [
       "<pre style=\"white-space:pre;overflow-x:auto;line-height:normal;font-family:Menlo,'DejaVu Sans Mono',consolas,'Courier New',monospace\"></pre>\n"
      ],
      "text/plain": []
     },
     "metadata": {},
     "output_type": "display_data"
    },
    {
     "data": {
      "text/html": [
       "<pre style=\"white-space:pre;overflow-x:auto;line-height:normal;font-family:Menlo,'DejaVu Sans Mono',consolas,'Courier New',monospace\">\n",
       "</pre>\n"
      ],
      "text/plain": [
       "\n"
      ]
     },
     "metadata": {},
     "output_type": "display_data"
    },
    {
     "data": {
      "application/vnd.jupyter.widget-view+json": {
       "model_id": "aefa29b0a2ba4345bca1e6d84d2d6274",
       "version_major": 2,
       "version_minor": 0
      },
      "text/plain": [
       "Output()"
      ]
     },
     "metadata": {},
     "output_type": "display_data"
    },
    {
     "data": {
      "text/html": [
       "<pre style=\"white-space:pre;overflow-x:auto;line-height:normal;font-family:Menlo,'DejaVu Sans Mono',consolas,'Courier New',monospace\"></pre>\n"
      ],
      "text/plain": []
     },
     "metadata": {},
     "output_type": "display_data"
    },
    {
     "data": {
      "text/html": [
       "<pre style=\"white-space:pre;overflow-x:auto;line-height:normal;font-family:Menlo,'DejaVu Sans Mono',consolas,'Courier New',monospace\">\n",
       "</pre>\n"
      ],
      "text/plain": [
       "\n"
      ]
     },
     "metadata": {},
     "output_type": "display_data"
    },
    {
     "data": {
      "application/vnd.jupyter.widget-view+json": {
       "model_id": "8487067aca6348c9a8eb3bcbd2bb7468",
       "version_major": 2,
       "version_minor": 0
      },
      "text/plain": [
       "Output()"
      ]
     },
     "metadata": {},
     "output_type": "display_data"
    },
    {
     "data": {
      "text/html": [
       "<pre style=\"white-space:pre;overflow-x:auto;line-height:normal;font-family:Menlo,'DejaVu Sans Mono',consolas,'Courier New',monospace\"></pre>\n"
      ],
      "text/plain": []
     },
     "metadata": {},
     "output_type": "display_data"
    },
    {
     "data": {
      "text/html": [
       "<pre style=\"white-space:pre;overflow-x:auto;line-height:normal;font-family:Menlo,'DejaVu Sans Mono',consolas,'Courier New',monospace\">\n",
       "</pre>\n"
      ],
      "text/plain": [
       "\n"
      ]
     },
     "metadata": {},
     "output_type": "display_data"
    },
    {
     "name": "stdout",
     "output_type": "stream",
     "text": [
      "Running file 7: data_simulation_8.nc\n"
     ]
    },
    {
     "data": {
      "application/vnd.jupyter.widget-view+json": {
       "model_id": "11e9fe2cd05d4214814208a9f3e19caf",
       "version_major": 2,
       "version_minor": 0
      },
      "text/plain": [
       "Output()"
      ]
     },
     "metadata": {},
     "output_type": "display_data"
    },
    {
     "data": {
      "text/html": [
       "<pre style=\"white-space:pre;overflow-x:auto;line-height:normal;font-family:Menlo,'DejaVu Sans Mono',consolas,'Courier New',monospace\"></pre>\n"
      ],
      "text/plain": []
     },
     "metadata": {},
     "output_type": "display_data"
    },
    {
     "data": {
      "text/html": [
       "<pre style=\"white-space:pre;overflow-x:auto;line-height:normal;font-family:Menlo,'DejaVu Sans Mono',consolas,'Courier New',monospace\">\n",
       "</pre>\n"
      ],
      "text/plain": [
       "\n"
      ]
     },
     "metadata": {},
     "output_type": "display_data"
    },
    {
     "data": {
      "application/vnd.jupyter.widget-view+json": {
       "model_id": "3a4047a360e3455e9c797d49e1fe4c04",
       "version_major": 2,
       "version_minor": 0
      },
      "text/plain": [
       "Output()"
      ]
     },
     "metadata": {},
     "output_type": "display_data"
    },
    {
     "data": {
      "text/html": [
       "<pre style=\"white-space:pre;overflow-x:auto;line-height:normal;font-family:Menlo,'DejaVu Sans Mono',consolas,'Courier New',monospace\"></pre>\n"
      ],
      "text/plain": []
     },
     "metadata": {},
     "output_type": "display_data"
    },
    {
     "data": {
      "text/html": [
       "<pre style=\"white-space:pre;overflow-x:auto;line-height:normal;font-family:Menlo,'DejaVu Sans Mono',consolas,'Courier New',monospace\">\n",
       "</pre>\n"
      ],
      "text/plain": [
       "\n"
      ]
     },
     "metadata": {},
     "output_type": "display_data"
    },
    {
     "data": {
      "application/vnd.jupyter.widget-view+json": {
       "model_id": "4b18a4c61e1941738fc6c446c3886e3e",
       "version_major": 2,
       "version_minor": 0
      },
      "text/plain": [
       "Output()"
      ]
     },
     "metadata": {},
     "output_type": "display_data"
    },
    {
     "data": {
      "text/html": [
       "<pre style=\"white-space:pre;overflow-x:auto;line-height:normal;font-family:Menlo,'DejaVu Sans Mono',consolas,'Courier New',monospace\"></pre>\n"
      ],
      "text/plain": []
     },
     "metadata": {},
     "output_type": "display_data"
    },
    {
     "data": {
      "text/html": [
       "<pre style=\"white-space:pre;overflow-x:auto;line-height:normal;font-family:Menlo,'DejaVu Sans Mono',consolas,'Courier New',monospace\">\n",
       "</pre>\n"
      ],
      "text/plain": [
       "\n"
      ]
     },
     "metadata": {},
     "output_type": "display_data"
    },
    {
     "data": {
      "application/vnd.jupyter.widget-view+json": {
       "model_id": "ee88df9b20c74f26978cc9832a6d148c",
       "version_major": 2,
       "version_minor": 0
      },
      "text/plain": [
       "Output()"
      ]
     },
     "metadata": {},
     "output_type": "display_data"
    },
    {
     "data": {
      "text/html": [
       "<pre style=\"white-space:pre;overflow-x:auto;line-height:normal;font-family:Menlo,'DejaVu Sans Mono',consolas,'Courier New',monospace\"></pre>\n"
      ],
      "text/plain": []
     },
     "metadata": {},
     "output_type": "display_data"
    },
    {
     "data": {
      "text/html": [
       "<pre style=\"white-space:pre;overflow-x:auto;line-height:normal;font-family:Menlo,'DejaVu Sans Mono',consolas,'Courier New',monospace\">\n",
       "</pre>\n"
      ],
      "text/plain": [
       "\n"
      ]
     },
     "metadata": {},
     "output_type": "display_data"
    },
    {
     "name": "stdout",
     "output_type": "stream",
     "text": [
      "Running file 8: data_simulation_6.nc\n"
     ]
    },
    {
     "data": {
      "application/vnd.jupyter.widget-view+json": {
       "model_id": "c6b9827ecaf4487dabb4ffccf0c71720",
       "version_major": 2,
       "version_minor": 0
      },
      "text/plain": [
       "Output()"
      ]
     },
     "metadata": {},
     "output_type": "display_data"
    },
    {
     "data": {
      "text/html": [
       "<pre style=\"white-space:pre;overflow-x:auto;line-height:normal;font-family:Menlo,'DejaVu Sans Mono',consolas,'Courier New',monospace\"></pre>\n"
      ],
      "text/plain": []
     },
     "metadata": {},
     "output_type": "display_data"
    },
    {
     "data": {
      "text/html": [
       "<pre style=\"white-space:pre;overflow-x:auto;line-height:normal;font-family:Menlo,'DejaVu Sans Mono',consolas,'Courier New',monospace\">\n",
       "</pre>\n"
      ],
      "text/plain": [
       "\n"
      ]
     },
     "metadata": {},
     "output_type": "display_data"
    },
    {
     "data": {
      "application/vnd.jupyter.widget-view+json": {
       "model_id": "5ccaeacdfaf04d57b02a2ce724429b8b",
       "version_major": 2,
       "version_minor": 0
      },
      "text/plain": [
       "Output()"
      ]
     },
     "metadata": {},
     "output_type": "display_data"
    },
    {
     "data": {
      "text/html": [
       "<pre style=\"white-space:pre;overflow-x:auto;line-height:normal;font-family:Menlo,'DejaVu Sans Mono',consolas,'Courier New',monospace\"></pre>\n"
      ],
      "text/plain": []
     },
     "metadata": {},
     "output_type": "display_data"
    },
    {
     "data": {
      "text/html": [
       "<pre style=\"white-space:pre;overflow-x:auto;line-height:normal;font-family:Menlo,'DejaVu Sans Mono',consolas,'Courier New',monospace\">\n",
       "</pre>\n"
      ],
      "text/plain": [
       "\n"
      ]
     },
     "metadata": {},
     "output_type": "display_data"
    },
    {
     "data": {
      "application/vnd.jupyter.widget-view+json": {
       "model_id": "d14250a65da047d1a61d4de400027e37",
       "version_major": 2,
       "version_minor": 0
      },
      "text/plain": [
       "Output()"
      ]
     },
     "metadata": {},
     "output_type": "display_data"
    },
    {
     "data": {
      "text/html": [
       "<pre style=\"white-space:pre;overflow-x:auto;line-height:normal;font-family:Menlo,'DejaVu Sans Mono',consolas,'Courier New',monospace\"></pre>\n"
      ],
      "text/plain": []
     },
     "metadata": {},
     "output_type": "display_data"
    },
    {
     "data": {
      "text/html": [
       "<pre style=\"white-space:pre;overflow-x:auto;line-height:normal;font-family:Menlo,'DejaVu Sans Mono',consolas,'Courier New',monospace\">\n",
       "</pre>\n"
      ],
      "text/plain": [
       "\n"
      ]
     },
     "metadata": {},
     "output_type": "display_data"
    },
    {
     "data": {
      "application/vnd.jupyter.widget-view+json": {
       "model_id": "f2f89a27bff249219276c441aa661f6d",
       "version_major": 2,
       "version_minor": 0
      },
      "text/plain": [
       "Output()"
      ]
     },
     "metadata": {},
     "output_type": "display_data"
    },
    {
     "data": {
      "text/html": [
       "<pre style=\"white-space:pre;overflow-x:auto;line-height:normal;font-family:Menlo,'DejaVu Sans Mono',consolas,'Courier New',monospace\"></pre>\n"
      ],
      "text/plain": []
     },
     "metadata": {},
     "output_type": "display_data"
    },
    {
     "data": {
      "text/html": [
       "<pre style=\"white-space:pre;overflow-x:auto;line-height:normal;font-family:Menlo,'DejaVu Sans Mono',consolas,'Courier New',monospace\">\n",
       "</pre>\n"
      ],
      "text/plain": [
       "\n"
      ]
     },
     "metadata": {},
     "output_type": "display_data"
    },
    {
     "name": "stdout",
     "output_type": "stream",
     "text": [
      "Running file 9: data_simulation_2.nc\n"
     ]
    },
    {
     "data": {
      "application/vnd.jupyter.widget-view+json": {
       "model_id": "87521b56959b4743989ed55b13330c24",
       "version_major": 2,
       "version_minor": 0
      },
      "text/plain": [
       "Output()"
      ]
     },
     "metadata": {},
     "output_type": "display_data"
    },
    {
     "data": {
      "text/html": [
       "<pre style=\"white-space:pre;overflow-x:auto;line-height:normal;font-family:Menlo,'DejaVu Sans Mono',consolas,'Courier New',monospace\"></pre>\n"
      ],
      "text/plain": []
     },
     "metadata": {},
     "output_type": "display_data"
    },
    {
     "data": {
      "text/html": [
       "<pre style=\"white-space:pre;overflow-x:auto;line-height:normal;font-family:Menlo,'DejaVu Sans Mono',consolas,'Courier New',monospace\">\n",
       "</pre>\n"
      ],
      "text/plain": [
       "\n"
      ]
     },
     "metadata": {},
     "output_type": "display_data"
    },
    {
     "data": {
      "application/vnd.jupyter.widget-view+json": {
       "model_id": "e8474da6af944a58ac87b7d1f1cb5ca0",
       "version_major": 2,
       "version_minor": 0
      },
      "text/plain": [
       "Output()"
      ]
     },
     "metadata": {},
     "output_type": "display_data"
    },
    {
     "data": {
      "text/html": [
       "<pre style=\"white-space:pre;overflow-x:auto;line-height:normal;font-family:Menlo,'DejaVu Sans Mono',consolas,'Courier New',monospace\"></pre>\n"
      ],
      "text/plain": []
     },
     "metadata": {},
     "output_type": "display_data"
    },
    {
     "data": {
      "text/html": [
       "<pre style=\"white-space:pre;overflow-x:auto;line-height:normal;font-family:Menlo,'DejaVu Sans Mono',consolas,'Courier New',monospace\">\n",
       "</pre>\n"
      ],
      "text/plain": [
       "\n"
      ]
     },
     "metadata": {},
     "output_type": "display_data"
    },
    {
     "data": {
      "application/vnd.jupyter.widget-view+json": {
       "model_id": "2e96aa547caa4d54b2767d7ba426f563",
       "version_major": 2,
       "version_minor": 0
      },
      "text/plain": [
       "Output()"
      ]
     },
     "metadata": {},
     "output_type": "display_data"
    },
    {
     "data": {
      "text/html": [
       "<pre style=\"white-space:pre;overflow-x:auto;line-height:normal;font-family:Menlo,'DejaVu Sans Mono',consolas,'Courier New',monospace\"></pre>\n"
      ],
      "text/plain": []
     },
     "metadata": {},
     "output_type": "display_data"
    },
    {
     "data": {
      "text/html": [
       "<pre style=\"white-space:pre;overflow-x:auto;line-height:normal;font-family:Menlo,'DejaVu Sans Mono',consolas,'Courier New',monospace\">\n",
       "</pre>\n"
      ],
      "text/plain": [
       "\n"
      ]
     },
     "metadata": {},
     "output_type": "display_data"
    },
    {
     "data": {
      "application/vnd.jupyter.widget-view+json": {
       "model_id": "fe66bebb28764cfdba66250e59b61f35",
       "version_major": 2,
       "version_minor": 0
      },
      "text/plain": [
       "Output()"
      ]
     },
     "metadata": {},
     "output_type": "display_data"
    },
    {
     "data": {
      "text/html": [
       "<pre style=\"white-space:pre;overflow-x:auto;line-height:normal;font-family:Menlo,'DejaVu Sans Mono',consolas,'Courier New',monospace\"></pre>\n"
      ],
      "text/plain": []
     },
     "metadata": {},
     "output_type": "display_data"
    },
    {
     "data": {
      "text/html": [
       "<pre style=\"white-space:pre;overflow-x:auto;line-height:normal;font-family:Menlo,'DejaVu Sans Mono',consolas,'Courier New',monospace\">\n",
       "</pre>\n"
      ],
      "text/plain": [
       "\n"
      ]
     },
     "metadata": {},
     "output_type": "display_data"
    },
    {
     "name": "stdout",
     "output_type": "stream",
     "text": [
      "Running file 10: data_simulation_5.nc\n"
     ]
    },
    {
     "data": {
      "application/vnd.jupyter.widget-view+json": {
       "model_id": "8c9bc38027974d69a048ad6a859a4cfc",
       "version_major": 2,
       "version_minor": 0
      },
      "text/plain": [
       "Output()"
      ]
     },
     "metadata": {},
     "output_type": "display_data"
    },
    {
     "data": {
      "text/html": [
       "<pre style=\"white-space:pre;overflow-x:auto;line-height:normal;font-family:Menlo,'DejaVu Sans Mono',consolas,'Courier New',monospace\"></pre>\n"
      ],
      "text/plain": []
     },
     "metadata": {},
     "output_type": "display_data"
    },
    {
     "data": {
      "text/html": [
       "<pre style=\"white-space:pre;overflow-x:auto;line-height:normal;font-family:Menlo,'DejaVu Sans Mono',consolas,'Courier New',monospace\">\n",
       "</pre>\n"
      ],
      "text/plain": [
       "\n"
      ]
     },
     "metadata": {},
     "output_type": "display_data"
    },
    {
     "data": {
      "application/vnd.jupyter.widget-view+json": {
       "model_id": "ff1a91efabcc498db78ade96eaabdd78",
       "version_major": 2,
       "version_minor": 0
      },
      "text/plain": [
       "Output()"
      ]
     },
     "metadata": {},
     "output_type": "display_data"
    },
    {
     "data": {
      "text/html": [
       "<pre style=\"white-space:pre;overflow-x:auto;line-height:normal;font-family:Menlo,'DejaVu Sans Mono',consolas,'Courier New',monospace\"></pre>\n"
      ],
      "text/plain": []
     },
     "metadata": {},
     "output_type": "display_data"
    },
    {
     "data": {
      "text/html": [
       "<pre style=\"white-space:pre;overflow-x:auto;line-height:normal;font-family:Menlo,'DejaVu Sans Mono',consolas,'Courier New',monospace\">\n",
       "</pre>\n"
      ],
      "text/plain": [
       "\n"
      ]
     },
     "metadata": {},
     "output_type": "display_data"
    },
    {
     "data": {
      "application/vnd.jupyter.widget-view+json": {
       "model_id": "b1a7b7180e1d47a3a2e838cce13f1221",
       "version_major": 2,
       "version_minor": 0
      },
      "text/plain": [
       "Output()"
      ]
     },
     "metadata": {},
     "output_type": "display_data"
    },
    {
     "data": {
      "text/html": [
       "<pre style=\"white-space:pre;overflow-x:auto;line-height:normal;font-family:Menlo,'DejaVu Sans Mono',consolas,'Courier New',monospace\"></pre>\n"
      ],
      "text/plain": []
     },
     "metadata": {},
     "output_type": "display_data"
    },
    {
     "data": {
      "text/html": [
       "<pre style=\"white-space:pre;overflow-x:auto;line-height:normal;font-family:Menlo,'DejaVu Sans Mono',consolas,'Courier New',monospace\">\n",
       "</pre>\n"
      ],
      "text/plain": [
       "\n"
      ]
     },
     "metadata": {},
     "output_type": "display_data"
    },
    {
     "data": {
      "application/vnd.jupyter.widget-view+json": {
       "model_id": "8f91125010294a6bb7abbc4bcb156c6c",
       "version_major": 2,
       "version_minor": 0
      },
      "text/plain": [
       "Output()"
      ]
     },
     "metadata": {},
     "output_type": "display_data"
    },
    {
     "data": {
      "text/html": [
       "<pre style=\"white-space:pre;overflow-x:auto;line-height:normal;font-family:Menlo,'DejaVu Sans Mono',consolas,'Courier New',monospace\"></pre>\n"
      ],
      "text/plain": []
     },
     "metadata": {},
     "output_type": "display_data"
    },
    {
     "data": {
      "text/html": [
       "<pre style=\"white-space:pre;overflow-x:auto;line-height:normal;font-family:Menlo,'DejaVu Sans Mono',consolas,'Courier New',monospace\">\n",
       "</pre>\n"
      ],
      "text/plain": [
       "\n"
      ]
     },
     "metadata": {},
     "output_type": "display_data"
    }
   ],
   "source": [
    "# Nome do arquivo ZIP\n",
    "zip_filename = \"simulations_18k_grains_per_mm3.zip\"\n",
    "output_folder = \"csv_files_18k_grains_per_mm3\"\n",
    "os.makedirs(output_folder, exist_ok=True)\n",
    "\n",
    "\n",
    "# Abrir o arquivo ZIP e listar os arquivos dentro dele\n",
    "with zipfile.ZipFile(zip_filename, \"r\") as zipf:\n",
    "    # Listar os nomes dos arquivos NetCDF no ZIP\n",
    "    netcdf_files = [name for name in zipf.namelist() if name.endswith(\".nc\")]\n",
    "    # print(f\"Arquivos encontrados no ZIP: {netcdf_files}\")\n",
    "    \n",
    "    # Iterar sobre todos os arquivos NetCDF no ZIP\n",
    "    for i, nc_file in enumerate(netcdf_files):\n",
    "        with zipf.open(nc_file) as file:\n",
    "            print(f\"Running file {i+1}: {nc_file}\")\n",
    "            data = xr.open_dataset(file)\n",
    "            \n",
    "            x_, y_ = np.meshgrid(data.x.values, data.y.values)\n",
    "            coordinates = ([x_, y_ , data.z.values])\n",
    "\n",
    "            # Run the code\n",
    "            data_copy = data.copy(deep=True)\n",
    "            data_copy2 = data_copy.copy(deep=True)\n",
    "\n",
    "            height_difference = 5\n",
    "            \n",
    "            # Have to assign the same points as the data because the Harmonica\n",
    "            # transforms give slightly different coordinates due to round-off.\n",
    "            # This is a bug and is being worked on.\n",
    "            data_up = (\n",
    "                hm.upward_continuation(data.bz, height_difference)\n",
    "                .assign_attrs(data.bz.attrs)\n",
    "                .to_dataset(name=\"bz\")\n",
    "                .assign_coords(x=data.x, y=data.y)\n",
    "                .assign_coords(z=data.z + height_difference)\n",
    "            )\n",
    "            data_up = data_up.assign(mg.data_gradients(data_up.bz))\n",
    "            \n",
    "            stretched = skimage.exposure.rescale_intensity(\n",
    "                data_up.tga, \n",
    "                in_range=tuple(np.percentile(data_up.tga, (1, 99))),\n",
    "            )\n",
    "            data_up = data_up.assign(tga_stretched=xr.DataArray(stretched, coords=data_up.coords))\n",
    "\n",
    "\n",
    "            windows = mg.detect_anomalies(\n",
    "                data_up.tga_stretched, \n",
    "                size_range=[20, 150],\n",
    "                size_increment=1.0,\n",
    "                threshold=0.05,\n",
    "                overlap=0.0,\n",
    "                exclude_border=15\n",
    "            )\n",
    "            \n",
    "            ## Standard method\n",
    "            positions = []\n",
    "            estimated_dipole_moments = []\n",
    "            estimated_stds = []\n",
    "            calculated_r2 = []\n",
    "            calculated_SNR = []\n",
    "            windows_filtered = []\n",
    "            base_levels = []\n",
    "            for window in windows:\n",
    "                anomaly = data_up.sel(x=slice(*window[:2]), y=slice(*window[2:]))\n",
    "                position, base_level = mg.euler_deconvolution(\n",
    "                    anomaly.bz, \n",
    "                    anomaly.x_deriv, \n",
    "                    anomaly.y_deriv, \n",
    "                    anomaly.z_deriv,\n",
    "                )\n",
    "                \n",
    "                data_minus_background = anomaly.bz.values - base_level\n",
    "                anomaly = anomaly.assign(data_minus_background=(['y','x'], data_minus_background))\n",
    "                anomaly.data_minus_background.attrs = {\"long_name\": \"dipole-model\", \"units\": \"nT\"}\n",
    "            \n",
    "                moment, covariance, r2, SNR = mg.dipole_moment_inversion(\n",
    "                    anomaly.data_minus_background, position,\n",
    "                )\n",
    "                \n",
    "                bad_euler = False # position[2] > 0\n",
    "                poor_fit = False\n",
    "                \n",
    "                if bad_euler or poor_fit:\n",
    "                    continue\n",
    "                positions.append(position)  \n",
    "                estimated_dipole_moments.append(moment)\n",
    "                estimated_stds.append(mg.covariance_to_angle_std(moment, covariance))\n",
    "                calculated_r2.append(r2)\n",
    "                calculated_SNR.append(SNR)\n",
    "                windows_filtered.append(window)\n",
    "                base_levels.append(base_level)\n",
    "            positions = np.transpose(positions)\n",
    "            \n",
    "            #### IF NEEDED INSERT HERE THE MISFITS CALC FOR THE STANDARD METHOD #######\n",
    "            ##\n",
    "            #### IF NEEDED INSERT HERE THE MISFITS CALC FOR THE STANDARD METHOD #######\n",
    "    \n",
    "            \n",
    "            ## Iterative Method\n",
    "            warnings.filterwarnings(\"ignore\")\n",
    "            \n",
    "            x_concat = []\n",
    "            y_concat = []\n",
    "            z_concat = []\n",
    "            bz_concat = []\n",
    "            xc_concat = []\n",
    "            yc_concat = []\n",
    "            zc_concat = []\n",
    "            z_deriv_concat = []\n",
    "            \n",
    "            estimated_dipole_moments_itr_euler = []\n",
    "            \n",
    "            # fitting parameters\n",
    "            calculated_r2_itr_euler = []\n",
    "            calculated_SNR_itr_euler = []\n",
    "            \n",
    "            data_copy = data.copy(deep=True)\n",
    "            data_up_copy = data_up.copy(deep=True)\n",
    "            \n",
    "            #################################\n",
    "            for window in rich.progress.track(np.array(windows), total = len(np.array(windows))):\n",
    "                anomaly = data_up_copy.sel(x=slice(*window[:2]), y=slice(*window[2:]))\n",
    "                position, base_level = mg.euler_deconvolution(\n",
    "                    anomaly.bz, \n",
    "                    anomaly.x_deriv, \n",
    "                    anomaly.y_deriv, \n",
    "                    anomaly.z_deriv,\n",
    "                )\n",
    "                \n",
    "                data_minus_background = anomaly.bz.values - base_level \n",
    "                anomaly = anomaly.assign(data_minus_background=(['y','x'], data_minus_background))\n",
    "                anomaly.data_minus_background.attrs = {\"long_name\": \"dipole-model\", \"units\": \"nT\"}\n",
    "            \n",
    "                \n",
    "                moment, covariance, r2, SNR = mg.dipole_moment_inversion(anomaly.data_minus_background, position)\n",
    "            \n",
    "                ## SCIPY MINIMIZATION\n",
    "                anomaly_table=vd.grid_to_table(anomaly)\n",
    "                amplitude = np.linalg.norm(moment)\n",
    "                args=(data_minus_background.ravel(), \n",
    "                     ( anomaly_table.x.values,\n",
    "                       anomaly_table.y.values, \n",
    "                       anomaly.z.values.ravel()),\n",
    "                      amplitude, position[0], position[1], position[2])\n",
    "                \n",
    "                minimization=sp.optimize.minimize(goal_function, (1, 1, 1,\n",
    "                                                                  moment[0]/amplitude,\n",
    "                                                                  moment[1]/amplitude,\n",
    "                                                                  moment[2]/amplitude),\n",
    "                                                  \n",
    "                                                  args=args,\n",
    "                                                  \n",
    "                                                    method='Nelder-Mead', options=dict(fatol=1.0e-8))\n",
    "                \n",
    "                if minimization.success:\n",
    "                    \n",
    "                    moment = np.array([minimization['x'][3], minimization['x'][4], minimization['x'][5]])*amplitude\n",
    "                    position = np.array([minimization['x'][0]*position[0], \n",
    "                                         minimization['x'][1]*position[1],\n",
    "                                         minimization['x'][2]*position[2]])\n",
    "                    xxx, yyy = np.meshgrid(anomaly.x.values, anomaly.y.values)\n",
    "                    zzz = anomaly.z.values.ravel()\n",
    "                    pred = mg.dipole_bz([xxx, yyy, zzz], \n",
    "                              position,\n",
    "                              moment\n",
    "                             )\n",
    "                    \n",
    "                    residuals = data_minus_background.ravel() - pred.ravel()\n",
    "                    residuals_sum_sq = np.sum(residuals**2)\n",
    "                    r2 = 1 - residuals_sum_sq / np.linalg.norm(data_minus_background.ravel() - np.mean(data_minus_background.ravel())) ** 2\n",
    "                \n",
    "            \n",
    "                estimated_dipole_moments_itr_euler.append(moment)\n",
    "                \n",
    "                #########\n",
    "                \n",
    "                discard = mg.dipole_bz(coordinates, position, moment)\n",
    "            \n",
    "                data_copy.bz.values -= discard\n",
    "                \n",
    "                data_up_copy = (\n",
    "                            hm.upward_continuation(data_copy.bz, height_difference)\n",
    "                            .assign_attrs(data_copy.bz.attrs)\n",
    "                            .to_dataset(name=\"bz\")\n",
    "                            .assign_coords(x=data_copy.x, y=data_copy.y)\n",
    "                            .assign_coords(z=data_copy.z + height_difference)\n",
    "                               )\n",
    "                \n",
    "                \n",
    "                data_up_copy = data_up_copy.assign(mg.data_gradients(data_up_copy.bz))\n",
    "                \n",
    "                \n",
    "                ########\n",
    "                bad_euler = False #position[2] > 0.0\n",
    "                poor_fit =  False # r2 < 0.85  \n",
    "            \n",
    "                if bad_euler or poor_fit:\n",
    "                    continue\n",
    "                xx, yy = np.meshgrid(anomaly.x.values, anomaly.y.values)\n",
    "                x_concat = np.append(x_concat, xx)\n",
    "                y_concat = np.append(y_concat, yy)    \n",
    "                z_concat = np.append(z_concat, anomaly.z.values)\n",
    "                bz_concat = np.append(bz_concat, anomaly.bz.values)\n",
    "                z_deriv_concat = np.append(z_deriv_concat, anomaly.z_deriv.values)\n",
    "                xc_concat = np.append(xc_concat, position[0])\n",
    "                yc_concat = np.append(yc_concat, position[1])\n",
    "                zc_concat = np.append(zc_concat, position[2])\n",
    "                calculated_r2_itr_euler = np.append(calculated_r2_itr_euler, r2)\n",
    "                calculated_SNR_itr_euler = np.append(calculated_SNR_itr_euler, SNR)\n",
    "            \n",
    "            df = pd.DataFrame({'x':x_concat,\n",
    "                               'y':y_concat,\n",
    "                               'z':z_concat,\n",
    "                              'bz':bz_concat,\n",
    "                             'z_deriv':z_deriv_concat})\n",
    "            \n",
    "            positions_itr = np.array([xc_concat, yc_concat, zc_concat])\n",
    "            \n",
    "            \n",
    "            \n",
    "            ## EULER ENHANCEMENT SECOND STEP\n",
    "            warnings.filterwarnings(\"ignore\")\n",
    "            data_copy = data.copy(deep=True)\n",
    "            euler_r2_itr_cond = calculated_r2_itr_euler>=0.975\n",
    "            \n",
    "            zc_concat_temp = list()\n",
    "            xc_concat_temp = list()\n",
    "            yc_concat_temp = list()\n",
    "            \n",
    "            estimated_dipole_moments_itr_euler_temp = list()\n",
    "            \n",
    "            indexes = np.where(np.array(euler_r2_itr_cond))[0]\n",
    "            # SOURCES WITH R2 >= 0.99 ARE NOT ENHANCED, WE CALCULATE THEIR ANOMALY AND REMOVE THEM FROM THE DATA SET\n",
    "            # for index, window in enumerate(rich.progress.track(np.array(windows)[euler_r2_itr_cond], total=len(np.array(windows)[euler_r2_itr_cond]))):\n",
    "            for index in rich.progress.track(indexes, total=len(indexes)):\n",
    "                window = windows[index]\n",
    "                position = positions_itr[:, index]\n",
    "                estimated_dipole_moments_itr_euler_temp.append(estimated_dipole_moments_itr_euler[index])\n",
    "                xc_concat_temp = np.append(xc_concat_temp, position[0])\n",
    "                yc_concat_temp = np.append(yc_concat_temp, position[1])\n",
    "                zc_concat_temp = np.append(zc_concat_temp, position[2])  \n",
    "            \n",
    "                \n",
    "            # remove all signals \n",
    "            position_temp = np.array([xc_concat_temp, yc_concat_temp, zc_concat_temp])\n",
    "            discard = mg.dipole_bz(coordinates, position_temp, estimated_dipole_moments_itr_euler_temp)\n",
    "            data_copy.bz.values -= discard\n",
    "            \n",
    "            data_up_copy = (\n",
    "                        hm.upward_continuation(data_copy.bz, height_difference)\n",
    "                        .assign_attrs(data_copy.bz.attrs)\n",
    "                        .to_dataset(name=\"bz\")\n",
    "                        .assign_coords(x=data_copy.x, y=data_copy.y)\n",
    "                        .assign_coords(z=data_copy.z + height_difference)\n",
    "                           )\n",
    "            \n",
    "            \n",
    "            data_up_copy = data_up_copy.assign(mg.data_gradients(data_up_copy.bz))\n",
    "            \n",
    "            \n",
    "            # SOURCES WITH R2 <= 0.99 ARE ENHANCED\n",
    "            indexes = np.where(~np.array(euler_r2_itr_cond))[0]\n",
    "            # for index, window in enumerate(rich.progress.track(np.array(windows)[~euler_r2_itr_cond], total=len(np.array(windows)[~euler_r2_itr_cond]))):\n",
    "            for index in rich.progress.track(indexes, total=len(indexes)):\n",
    "                window = windows[index]\n",
    "                anomaly = data_up_copy.sel(x=slice(*window[:2]), y=slice(*window[2:]))\n",
    "                position, base_level = mg.euler_deconvolution(\n",
    "                    anomaly.bz, \n",
    "                    anomaly.x_deriv, \n",
    "                    anomaly.y_deriv, \n",
    "                    anomaly.z_deriv,\n",
    "                )\n",
    "                data_minus_background = anomaly.bz.values - base_level \n",
    "                anomaly = anomaly.assign(data_minus_background=(['y','x'], data_minus_background))\n",
    "                anomaly.data_minus_background.attrs = {\"long_name\": \"dipole-model\", \"units\": \"nT\"}\n",
    "                \n",
    "                moment, covariance, r2, SNR = mg.dipole_moment_inversion(anomaly.data_minus_background, position)\n",
    "            \n",
    "            \n",
    "            \n",
    "                ## SCIPY MINIMIZATION\n",
    "                anomaly_table=vd.grid_to_table(anomaly)\n",
    "                amplitude = np.linalg.norm(moment)\n",
    "                args=(data_minus_background.ravel(), \n",
    "                     ( anomaly_table.x.values,\n",
    "                       anomaly_table.y.values, \n",
    "                       anomaly.z.values.ravel()),\n",
    "                      amplitude, position[0], position[1], position[2])\n",
    "                \n",
    "                minimization=sp.optimize.minimize(goal_function, (1, 1, 1,\n",
    "                                                                  moment[0]/amplitude,\n",
    "                                                                  moment[1]/amplitude,\n",
    "                                                                  moment[2]/amplitude),\n",
    "                                                  \n",
    "                                                  args=args,\n",
    "                                                  \n",
    "                                                    method='Nelder-Mead', options=dict(fatol=1.0e-8))\n",
    "                \n",
    "                if minimization.success:\n",
    "                    \n",
    "                    moment = np.array([minimization['x'][3], minimization['x'][4], minimization['x'][5]])*amplitude\n",
    "                    position = np.array([minimization['x'][0]*position[0], \n",
    "                                         minimization['x'][1]*position[1],\n",
    "                                         minimization['x'][2]*position[2]])\n",
    "                    xxx, yyy = np.meshgrid(anomaly.x.values, anomaly.y.values)\n",
    "                    zzz = anomaly.z.values.ravel()\n",
    "                    pred = mg.dipole_bz([xxx, yyy, zzz], \n",
    "                              position,\n",
    "                              moment\n",
    "                             )\n",
    "                    \n",
    "                    residuals = data_minus_background.ravel() - pred.ravel()\n",
    "                    residuals_sum_sq = np.sum(residuals**2)\n",
    "                    r2 = 1 - residuals_sum_sq / np.linalg.norm(data_minus_background.ravel() - np.mean(data_minus_background.ravel())) ** 2\n",
    "                    \n",
    "                    if r2 >= calculated_r2_itr_euler[index]:\n",
    "                        estimated_dipole_moments_itr_euler[index] = moment\n",
    "                        positions_itr[:, index] = position\n",
    "                \n",
    "                discard = mg.dipole_bz(coordinates, position, moment)\n",
    "            \n",
    "                data_copy.bz.values -= discard\n",
    "            \n",
    "                data_up_copy = (\n",
    "                            hm.upward_continuation(data_copy.bz, height_difference)\n",
    "                            .assign_attrs(data_copy.bz.attrs)\n",
    "                            .to_dataset(name=\"bz\")\n",
    "                            .assign_coords(x=data_copy.x, y=data_copy.y)\n",
    "                            .assign_coords(z=data_copy.z + height_difference)\n",
    "                               )\n",
    "                \n",
    "                \n",
    "                data_up_copy = data_up_copy.assign(mg.data_gradients(data_up_copy.bz))\n",
    "            \n",
    "            \n",
    "            \n",
    "            #### IF NEEDED INSERT HERE THE MISFITS CALC FOR THE ITERATIVE METHOD #######\n",
    "            ##\n",
    "            #### IF NEEDED INSERT HERE THE MISFITS CALC FOR THE ITERATIVE METHOD #######\n",
    "            \n",
    "            \n",
    "            ## RE RUN THE RESIDUAL TO FIND MORE SOURCES\n",
    "            data_up_copy = (\n",
    "                        hm.upward_continuation(data_copy.bz, height_difference)\n",
    "                        .assign_attrs(data_copy.bz.attrs)\n",
    "                        .to_dataset(name=\"bz\")\n",
    "                        .assign_coords(x=data_copy.x, y=data_copy.y)\n",
    "                        .assign_coords(z=data_copy.z + height_difference)\n",
    "                           )\n",
    "            \n",
    "            data_up_copy = data_up_copy.assign(mg.data_gradients(data_up_copy.bz))\n",
    "            \n",
    "            stretched = skimage.exposure.rescale_intensity(\n",
    "                data_up_copy.tga, \n",
    "                in_range=tuple(np.percentile(data_up_copy.tga, (1, 99))),\n",
    "            )\n",
    "            data_up_copy = data_up_copy.assign(tga_stretched=xr.DataArray(stretched, coords=data_up.coords))\n",
    "            \n",
    "            windows_new = mg.detect_anomalies(\n",
    "                data_up_copy.tga_stretched, \n",
    "                size_range=[20,150],\n",
    "                size_increment=1.3,\n",
    "                threshold=0.02,\n",
    "                overlap=0.0,\n",
    "                exclude_border=15\n",
    "            )\n",
    "            \n",
    "            def intersects(window1, window2):\n",
    "                # Verifica se há sobreposição horizontal\n",
    "                horizontal_overlap = (window1[0] <= window2[1]) and (window2[0] <= window1[1])\n",
    "                # Verifica se há sobreposição vertical\n",
    "                vertical_overlap = (window1[2] <= window2[3]) and (window2[2] <= window1[3])\n",
    "                return horizontal_overlap and vertical_overlap\n",
    "                \n",
    "            \n",
    "            # Remove overlapping windows\n",
    "            non_overlapping_windows = np.copy(windows_new)\n",
    "            \n",
    "            for window in windows:\n",
    "                non_overlapping_windows = [nw for nw in non_overlapping_windows if not intersects(nw, window)]\n",
    "            \n",
    "            \n",
    "            data_copy_2 = data_copy.copy(deep=True)\n",
    "            data_up_copy_2 = data_up_copy.copy(deep=True)\n",
    "            \n",
    "            positions_itr_enhanced = list(np.copy(positions_itr))\n",
    "            estimated_dipole_moments_itr_euler_enhanced = list(np.copy(estimated_dipole_moments_itr_euler))\n",
    "            windows_enhanced = list(np.copy(windows))\n",
    "            calculated_r2_itr_euler_enhanced = list(np.copy(calculated_r2_itr_euler))\n",
    "            \n",
    "            #################################\n",
    "            for window in rich.progress.track(np.array(non_overlapping_windows), total = len(np.array(non_overlapping_windows))):\n",
    "                anomaly = data_up_copy_2.sel(x=slice(*window[:2]), y=slice(*window[2:]))\n",
    "                position, base_level = mg.euler_deconvolution(\n",
    "                    anomaly.bz, \n",
    "                    anomaly.x_deriv, \n",
    "                    anomaly.y_deriv, \n",
    "                    anomaly.z_deriv,\n",
    "                )\n",
    "                \n",
    "                data_minus_background = anomaly.bz.values - base_level \n",
    "                anomaly = anomaly.assign(data_minus_background=(['y','x'], data_minus_background))\n",
    "                anomaly.data_minus_background.attrs = {\"long_name\": \"dipole-model\", \"units\": \"nT\"}\n",
    "            \n",
    "                \n",
    "                moment, covariance, r2, SNR = mg.dipole_moment_inversion(anomaly.data_minus_background, position)\n",
    "            \n",
    "                ## SCIPY MINIMIZATION\n",
    "                anomaly_table=vd.grid_to_table(anomaly)\n",
    "                amplitude = np.linalg.norm(moment)\n",
    "                args=(data_minus_background.ravel(), \n",
    "                     ( anomaly_table.x.values,\n",
    "                       anomaly_table.y.values, \n",
    "                       anomaly.z.values.ravel()),\n",
    "                      amplitude, position[0], position[1], position[2])\n",
    "                \n",
    "                minimization=sp.optimize.minimize(goal_function, (1, 1, 1,\n",
    "                                                                  moment[0]/amplitude,\n",
    "                                                                  moment[1]/amplitude,\n",
    "                                                                  moment[2]/amplitude),\n",
    "                                                  \n",
    "                                                  args=args,\n",
    "                                                  \n",
    "                                                    method='Nelder-Mead', options=dict(fatol=1.0e-8))\n",
    "                \n",
    "                if minimization.success:\n",
    "                    \n",
    "                    moment = np.array([minimization['x'][3], minimization['x'][4], minimization['x'][5]])*amplitude\n",
    "                    position = np.array([minimization['x'][0]*position[0], \n",
    "                                         minimization['x'][1]*position[1],\n",
    "                                         minimization['x'][2]*position[2]])\n",
    "                    xxx, yyy = np.meshgrid(anomaly.x.values, anomaly.y.values)\n",
    "                    zzz = anomaly.z.values.ravel()\n",
    "                    pred = mg.dipole_bz([xxx, yyy, zzz], \n",
    "                              position,\n",
    "                              moment\n",
    "                             )\n",
    "                    \n",
    "                    residuals = data_minus_background.ravel() - pred.ravel()\n",
    "                    residuals_sum_sq = np.sum(residuals**2)\n",
    "                    r2 = 1 - residuals_sum_sq / np.linalg.norm(data_minus_background.ravel() - np.mean(data_minus_background.ravel())) ** 2\n",
    "            \n",
    "            \n",
    "                windows_enhanced.append(window)\n",
    "                estimated_dipole_moments_itr_euler_enhanced.append(moment)\n",
    "                for i in range(3):\n",
    "                    positions_itr_enhanced[i]=np.append(positions_itr_enhanced[i], position[i])\n",
    "                calculated_r2_itr_euler_enhanced.append(r2)\n",
    "                #########\n",
    "                \n",
    "                discard = mg.dipole_bz(coordinates, position, moment)\n",
    "            \n",
    "                data_copy_2.bz.values -= discard\n",
    "                \n",
    "                data_up_copy_2 = (\n",
    "                            hm.upward_continuation(data_copy_2.bz, height_difference)\n",
    "                            .assign_attrs(data_copy_2.bz.attrs)\n",
    "                            .to_dataset(name=\"bz\")\n",
    "                            .assign_coords(x=data_copy_2.x, y=data_copy_2.y)\n",
    "                            .assign_coords(z=data_copy_2.z + height_difference)\n",
    "                               )\n",
    "                \n",
    "                \n",
    "                data_up_copy_2 = data_up_copy_2.assign(mg.data_gradients(data_up_copy_2.bz))\n",
    "                \n",
    "                \n",
    "                ########\n",
    "                bad_euler = False #position[2] > 0.0\n",
    "                poor_fit =  False # r2 < 0.85  \n",
    "            \n",
    "                if bad_euler or poor_fit:\n",
    "                    continue\n",
    "            \n",
    "            #### IF NEEDED INSERT HERE THE MISFITS CALC FOR THE RE RUN METHOD #######\n",
    "            ##\n",
    "            #### IF NEEDED INSERT HERE THE MISFITS CALC FOR THE RE RUN METHOD #######\n",
    "\n",
    "            # Criar um DataFrame com os vetores\n",
    "            standard_dataframe = pd.DataFrame({\n",
    "                'mx_standard': np.asarray(estimated_dipole_moments)[:,0],\n",
    "                'my_standard': np.asarray(estimated_dipole_moments)[:,1],\n",
    "                'mz_standard': np.asarray(estimated_dipole_moments)[:,2],\n",
    "                'r_2_standard': np.asarray(calculated_r2),\n",
    "            })\n",
    "            standard_csv_name = os.path.join(output_folder, nc_file.replace('.nc', '_standard.csv'))\n",
    "            standard_dataframe.to_csv(standard_csv_name, index=False)\n",
    "\n",
    "            # Criar DataFrame para os vetores iterativos\n",
    "            iterative_dataframe = pd.DataFrame({\n",
    "                'mx_iterative': np.asarray(estimated_dipole_moments_itr_euler_enhanced)[:,0],\n",
    "                'my_iterative': np.asarray(estimated_dipole_moments_itr_euler_enhanced)[:,1],\n",
    "                'mz_iterative': np.asarray(estimated_dipole_moments_itr_euler_enhanced)[:,2],\n",
    "                'r_2_iterative': np.asarray(calculated_r2_itr_euler_enhanced),\n",
    "            })\n",
    "\n",
    "            # Salvar DataFrame iterativo como CSV\n",
    "            iterative_csv_name = os.path.join(output_folder, nc_file.replace('.nc', '_iterative.csv'))\n",
    "            iterative_dataframe.to_csv(iterative_csv_name, index=False)\n"
   ]
  },
  {
   "cell_type": "code",
   "execution_count": 5,
   "id": "df5bfee4-e99a-495e-b74f-392cadbe756c",
   "metadata": {},
   "outputs": [
    {
     "data": {
      "text/plain": [
       "(300, 3)"
      ]
     },
     "execution_count": 5,
     "metadata": {},
     "output_type": "execute_result"
    }
   ],
   "source": [
    "np.shape(estimated_dipole_moments)"
   ]
  },
  {
   "cell_type": "code",
   "execution_count": null,
   "id": "18c03f3a-05ee-45d5-a47e-75cbf59cd0a7",
   "metadata": {},
   "outputs": [],
   "source": []
  },
  {
   "cell_type": "code",
   "execution_count": null,
   "id": "c23e51a1-6038-4e3c-8100-ed3f60b3d50a",
   "metadata": {},
   "outputs": [],
   "source": []
  }
 ],
 "metadata": {
  "kernelspec": {
   "display_name": "Python 3 (ipykernel)",
   "language": "python",
   "name": "python3"
  },
  "language_info": {
   "codemirror_mode": {
    "name": "ipython",
    "version": 3
   },
   "file_extension": ".py",
   "mimetype": "text/x-python",
   "name": "python",
   "nbconvert_exporter": "python",
   "pygments_lexer": "ipython3",
   "version": "3.10.14"
  }
 },
 "nbformat": 4,
 "nbformat_minor": 5
}

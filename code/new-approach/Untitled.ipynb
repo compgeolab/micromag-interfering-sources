{
 "cells": [
  {
   "cell_type": "code",
   "execution_count": 1,
   "id": "603e9c92-a149-495e-8894-1db6a8b70c7d",
   "metadata": {},
   "outputs": [],
   "source": [
    "import numpy as np\n",
    "import scipy as sp\n",
    "import pandas as pd\n",
    "import xarray as xr\n",
    "import matplotlib.pyplot as plt\n",
    "import matplotlib\n",
    "\n",
    "import harmonica as hm\n",
    "import verde as vd\n",
    "from skimage import data, img_as_float\n",
    "\n",
    "import skimage.exposure\n",
    "\n",
    "from skimage.filters import rank\n",
    "\n",
    "import micromag as mg\n",
    "import magali as ma\n",
    "import time"
   ]
  },
  {
   "cell_type": "code",
   "execution_count": 2,
   "id": "4017561c-8e25-4d34-b996-bbc909d931ce",
   "metadata": {},
   "outputs": [
    {
     "ename": "ValueError",
     "evalue": "too many values to unpack (expected 3)",
     "output_type": "error",
     "traceback": [
      "\u001b[0;31m---------------------------------------------------------------------------\u001b[0m",
      "\u001b[0;31mValueError\u001b[0m                                Traceback (most recent call last)",
      "Cell \u001b[0;32mIn[2], line 17\u001b[0m\n\u001b[1;32m     14\u001b[0m true_declination \u001b[38;5;241m=\u001b[39m \u001b[38;5;241m40\u001b[39m\n\u001b[1;32m     15\u001b[0m true_dispersion_angle \u001b[38;5;241m=\u001b[39m \u001b[38;5;241m5\u001b[39m\n\u001b[0;32m---> 17\u001b[0m directions_inclination, directions_declination \u001b[38;5;241m=\u001b[39m \u001b[43mma\u001b[49m\u001b[38;5;241;43m.\u001b[39;49m\u001b[43mrandom_directions\u001b[49m\u001b[43m(\u001b[49m\n\u001b[1;32m     18\u001b[0m \u001b[43m    \u001b[49m\u001b[43mtrue_inclination\u001b[49m\u001b[43m,\u001b[49m\n\u001b[1;32m     19\u001b[0m \u001b[43m    \u001b[49m\u001b[43mtrue_declination\u001b[49m\u001b[43m,\u001b[49m\n\u001b[1;32m     20\u001b[0m \u001b[43m    \u001b[49m\u001b[43mtrue_dispersion_angle\u001b[49m\u001b[43m,\u001b[49m\n\u001b[1;32m     21\u001b[0m \u001b[43m    \u001b[49m\u001b[43msize\u001b[49m\u001b[38;5;241;43m=\u001b[39;49m\u001b[43mnumber_of_sources\u001b[49m\u001b[43m,\u001b[49m\n\u001b[1;32m     22\u001b[0m \u001b[43m    \u001b[49m\u001b[43mrandom_state\u001b[49m\u001b[38;5;241;43m=\u001b[39;49m\u001b[38;5;241;43m5\u001b[39;49m\u001b[43m,\u001b[49m\n\u001b[1;32m     23\u001b[0m \u001b[43m)\u001b[49m\n\u001b[1;32m     25\u001b[0m field \u001b[38;5;241m=\u001b[39m \u001b[38;5;124m\"\u001b[39m\u001b[38;5;124mb_u\u001b[39m\u001b[38;5;124m\"\u001b[39m\n\u001b[1;32m     26\u001b[0m data \u001b[38;5;241m=\u001b[39m ma\u001b[38;5;241m.\u001b[39mgenerate_grid(region, spacing, sensor_sample_distance, coordinates, amplitude, directions_inclination, directions_declination, field)\n",
      "File \u001b[0;32m~/Documentos/repositories/micromag-interfering-sources/code/new-approach/magali.py:118\u001b[0m, in \u001b[0;36mrandom_directions\u001b[0;34m(inclination, declination, dispersion_angle, size, random_state)\u001b[0m\n\u001b[1;32m    114\u001b[0m z \u001b[38;5;241m=\u001b[39m np\u001b[38;5;241m.\u001b[39mcos(distance)\n\u001b[1;32m    116\u001b[0m x_r, y_r, z_r \u001b[38;5;241m=\u001b[39m _rotate_vector(x, y, z, inclination, declination)\n\u001b[0;32m--> 118\u001b[0m _, directions_inclination, directions_declination \u001b[38;5;241m=\u001b[39m \u001b[43mmg\u001b[49m\u001b[38;5;241;43m.\u001b[39;49m\u001b[43mvector_to_angles\u001b[49m\u001b[43m(\u001b[49m\n\u001b[1;32m    119\u001b[0m \u001b[43m    \u001b[49m\u001b[43m[\u001b[49m\u001b[43mx_r\u001b[49m\u001b[43m,\u001b[49m\u001b[43m \u001b[49m\u001b[43my_r\u001b[49m\u001b[43m,\u001b[49m\u001b[43m \u001b[49m\u001b[43mz_r\u001b[49m\u001b[43m]\u001b[49m\n\u001b[1;32m    120\u001b[0m \u001b[43m\u001b[49m\u001b[43m)\u001b[49m\n\u001b[1;32m    121\u001b[0m \u001b[38;5;28;01mreturn\u001b[39;00m directions_inclination, directions_declination\n",
      "File \u001b[0;32m~/Documentos/repositories/micromag-interfering-sources/code/new-approach/micromag.py:130\u001b[0m, in \u001b[0;36mvector_to_angles\u001b[0;34m(vector)\u001b[0m\n\u001b[1;32m    107\u001b[0m \u001b[38;5;250m\u001b[39m\u001b[38;5;124;03m\"\"\"\u001b[39;00m\n\u001b[1;32m    108\u001b[0m \u001b[38;5;124;03mGenerate inclination, declination, and amplitude from a 3-component vector\u001b[39;00m\n\u001b[1;32m    109\u001b[0m \n\u001b[0;32m   (...)\u001b[0m\n\u001b[1;32m    127\u001b[0m \u001b[38;5;124;03m    The vector amplitude values.\u001b[39;00m\n\u001b[1;32m    128\u001b[0m \u001b[38;5;124;03m\"\"\"\u001b[39;00m\n\u001b[1;32m    129\u001b[0m vector \u001b[38;5;241m=\u001b[39m np\u001b[38;5;241m.\u001b[39masarray(vector)\n\u001b[0;32m--> 130\u001b[0m x, y, z \u001b[38;5;241m=\u001b[39m vector\u001b[38;5;241m.\u001b[39mT\n\u001b[1;32m    131\u001b[0m amplitude \u001b[38;5;241m=\u001b[39m np\u001b[38;5;241m.\u001b[39msqrt(x\u001b[38;5;241m*\u001b[39m\u001b[38;5;241m*\u001b[39m\u001b[38;5;241m2\u001b[39m \u001b[38;5;241m+\u001b[39m y\u001b[38;5;241m*\u001b[39m\u001b[38;5;241m*\u001b[39m\u001b[38;5;241m2\u001b[39m \u001b[38;5;241m+\u001b[39m z\u001b[38;5;241m*\u001b[39m\u001b[38;5;241m*\u001b[39m\u001b[38;5;241m2\u001b[39m)\n\u001b[1;32m    132\u001b[0m inclination \u001b[38;5;241m=\u001b[39m \u001b[38;5;241m-\u001b[39mnp\u001b[38;5;241m.\u001b[39mdegrees(np\u001b[38;5;241m.\u001b[39marctan2(z, np\u001b[38;5;241m.\u001b[39mhypot(x, y)))\n",
      "\u001b[0;31mValueError\u001b[0m: too many values to unpack (expected 3)"
     ]
    }
   ],
   "source": [
    "region=[0, 2000, 0, 1400]\n",
    "spacing = 2\n",
    "sensor_sample_distance = 5\n",
    "\n",
    "number_of_sources = 200\n",
    "sources_region = [30,1990,30,    1370,-20,-1]\n",
    "seed = 5\n",
    "\n",
    "coordinates = ma.random_coordinates(sources_region, number_of_sources, seed)\n",
    "amplitude = ma.amplitude_lognormal_distribution(number_of_sources, scale=1e-13)\n",
    "\n",
    "\n",
    "true_inclination = 30\n",
    "true_declination = 40\n",
    "true_dispersion_angle = 5\n",
    "\n",
    "directions_inclination, directions_declination = ma.random_directions(\n",
    "    true_inclination,\n",
    "    true_declination,\n",
    "    true_dispersion_angle,\n",
    "    size=number_of_sources,\n",
    "    random_state=5,\n",
    ")\n",
    "\n",
    "field = \"b_u\"\n",
    "data = ma.generate_grid(region, spacing, sensor_sample_distance, coordinates, amplitude, directions_inclination, directions_declination, field)\n",
    "\n",
    "scale=10000\n",
    "data.bz.plot.pcolormesh(cmap=\"seismic\", vmin=-scale, vmax=scale)\n"
   ]
  },
  {
   "cell_type": "code",
   "execution_count": null,
   "id": "3df33fdd-90ce-4eb8-9907-1a8abe89521e",
   "metadata": {},
   "outputs": [],
   "source": []
  }
 ],
 "metadata": {
  "kernelspec": {
   "display_name": "Python 3 (ipykernel)",
   "language": "python",
   "name": "python3"
  },
  "language_info": {
   "codemirror_mode": {
    "name": "ipython",
    "version": 3
   },
   "file_extension": ".py",
   "mimetype": "text/x-python",
   "name": "python",
   "nbconvert_exporter": "python",
   "pygments_lexer": "ipython3",
   "version": "3.10.13"
  }
 },
 "nbformat": 4,
 "nbformat_minor": 5
}
